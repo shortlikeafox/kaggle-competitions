{
 "cells": [
  {
   "cell_type": "code",
   "execution_count": 2,
   "metadata": {},
   "outputs": [],
   "source": [
    "#This is for the Titanic competition\n"
   ]
  },
  {
   "cell_type": "code",
   "execution_count": 3,
   "metadata": {},
   "outputs": [],
   "source": [
    "import pandas as pd\n",
    "import numpy as np\n",
    "from sklearn.linear_model import LogisticRegression"
   ]
  },
  {
   "cell_type": "code",
   "execution_count": 4,
   "metadata": {},
   "outputs": [],
   "source": [
    "train_data = pd.read_csv(\"data/train.csv\")"
   ]
  },
  {
   "cell_type": "code",
   "execution_count": 5,
   "metadata": {},
   "outputs": [
    {
     "data": {
      "text/html": [
       "<div>\n",
       "<style scoped>\n",
       "    .dataframe tbody tr th:only-of-type {\n",
       "        vertical-align: middle;\n",
       "    }\n",
       "\n",
       "    .dataframe tbody tr th {\n",
       "        vertical-align: top;\n",
       "    }\n",
       "\n",
       "    .dataframe thead th {\n",
       "        text-align: right;\n",
       "    }\n",
       "</style>\n",
       "<table border=\"1\" class=\"dataframe\">\n",
       "  <thead>\n",
       "    <tr style=\"text-align: right;\">\n",
       "      <th></th>\n",
       "      <th>PassengerId</th>\n",
       "      <th>Survived</th>\n",
       "      <th>Pclass</th>\n",
       "      <th>Name</th>\n",
       "      <th>Sex</th>\n",
       "      <th>Age</th>\n",
       "      <th>age_bin</th>\n",
       "      <th>SibSp</th>\n",
       "      <th>Parch</th>\n",
       "      <th>Ticket</th>\n",
       "      <th>Fare</th>\n",
       "      <th>Cabin</th>\n",
       "      <th>cabin_code</th>\n",
       "      <th>Embarked</th>\n",
       "    </tr>\n",
       "  </thead>\n",
       "  <tbody>\n",
       "    <tr>\n",
       "      <th>0</th>\n",
       "      <td>1</td>\n",
       "      <td>0</td>\n",
       "      <td>3</td>\n",
       "      <td>Braund, Mr. Owen Harris</td>\n",
       "      <td>male</td>\n",
       "      <td>22.0</td>\n",
       "      <td>less than 25</td>\n",
       "      <td>1</td>\n",
       "      <td>0</td>\n",
       "      <td>A/5 21171</td>\n",
       "      <td>7.2500</td>\n",
       "      <td>NaN</td>\n",
       "      <td>none</td>\n",
       "      <td>S</td>\n",
       "    </tr>\n",
       "    <tr>\n",
       "      <th>1</th>\n",
       "      <td>2</td>\n",
       "      <td>1</td>\n",
       "      <td>1</td>\n",
       "      <td>Cumings, Mrs. John Bradley (Florence Briggs Th...</td>\n",
       "      <td>female</td>\n",
       "      <td>38.0</td>\n",
       "      <td>less thank 40</td>\n",
       "      <td>1</td>\n",
       "      <td>0</td>\n",
       "      <td>PC 17599</td>\n",
       "      <td>71.2833</td>\n",
       "      <td>C85</td>\n",
       "      <td>C</td>\n",
       "      <td>C</td>\n",
       "    </tr>\n",
       "    <tr>\n",
       "      <th>2</th>\n",
       "      <td>3</td>\n",
       "      <td>1</td>\n",
       "      <td>3</td>\n",
       "      <td>Heikkinen, Miss. Laina</td>\n",
       "      <td>female</td>\n",
       "      <td>26.0</td>\n",
       "      <td>less than 30</td>\n",
       "      <td>0</td>\n",
       "      <td>0</td>\n",
       "      <td>STON/O2. 3101282</td>\n",
       "      <td>7.9250</td>\n",
       "      <td>NaN</td>\n",
       "      <td>none</td>\n",
       "      <td>S</td>\n",
       "    </tr>\n",
       "    <tr>\n",
       "      <th>3</th>\n",
       "      <td>4</td>\n",
       "      <td>1</td>\n",
       "      <td>1</td>\n",
       "      <td>Futrelle, Mrs. Jacques Heath (Lily May Peel)</td>\n",
       "      <td>female</td>\n",
       "      <td>35.0</td>\n",
       "      <td>less thank 40</td>\n",
       "      <td>1</td>\n",
       "      <td>0</td>\n",
       "      <td>113803</td>\n",
       "      <td>53.1000</td>\n",
       "      <td>C123</td>\n",
       "      <td>C</td>\n",
       "      <td>S</td>\n",
       "    </tr>\n",
       "    <tr>\n",
       "      <th>4</th>\n",
       "      <td>5</td>\n",
       "      <td>0</td>\n",
       "      <td>3</td>\n",
       "      <td>Allen, Mr. William Henry</td>\n",
       "      <td>male</td>\n",
       "      <td>35.0</td>\n",
       "      <td>less thank 40</td>\n",
       "      <td>0</td>\n",
       "      <td>0</td>\n",
       "      <td>373450</td>\n",
       "      <td>8.0500</td>\n",
       "      <td>NaN</td>\n",
       "      <td>none</td>\n",
       "      <td>S</td>\n",
       "    </tr>\n",
       "  </tbody>\n",
       "</table>\n",
       "</div>"
      ],
      "text/plain": [
       "   PassengerId  Survived  Pclass  \\\n",
       "0            1         0       3   \n",
       "1            2         1       1   \n",
       "2            3         1       3   \n",
       "3            4         1       1   \n",
       "4            5         0       3   \n",
       "\n",
       "                                                Name     Sex   Age  \\\n",
       "0                            Braund, Mr. Owen Harris    male  22.0   \n",
       "1  Cumings, Mrs. John Bradley (Florence Briggs Th...  female  38.0   \n",
       "2                             Heikkinen, Miss. Laina  female  26.0   \n",
       "3       Futrelle, Mrs. Jacques Heath (Lily May Peel)  female  35.0   \n",
       "4                           Allen, Mr. William Henry    male  35.0   \n",
       "\n",
       "         age_bin  SibSp  Parch            Ticket     Fare Cabin cabin_code  \\\n",
       "0   less than 25      1      0         A/5 21171   7.2500   NaN       none   \n",
       "1  less thank 40      1      0          PC 17599  71.2833   C85          C   \n",
       "2   less than 30      0      0  STON/O2. 3101282   7.9250   NaN       none   \n",
       "3  less thank 40      1      0            113803  53.1000  C123          C   \n",
       "4  less thank 40      0      0            373450   8.0500   NaN       none   \n",
       "\n",
       "  Embarked  \n",
       "0        S  \n",
       "1        C  \n",
       "2        S  \n",
       "3        S  \n",
       "4        S  "
      ]
     },
     "execution_count": 5,
     "metadata": {},
     "output_type": "execute_result"
    }
   ],
   "source": [
    "train_data.head()"
   ]
  },
  {
   "cell_type": "code",
   "execution_count": 6,
   "metadata": {},
   "outputs": [],
   "source": [
    "test_data = pd.read_csv(\"data/test.csv\")"
   ]
  },
  {
   "cell_type": "code",
   "execution_count": 7,
   "metadata": {
    "scrolled": true
   },
   "outputs": [
    {
     "name": "stdout",
     "output_type": "stream",
     "text": [
      "418\n"
     ]
    }
   ],
   "source": [
    "test_data.head()\n",
    "print(len(test_data))"
   ]
  },
  {
   "cell_type": "code",
   "execution_count": 8,
   "metadata": {},
   "outputs": [
    {
     "name": "stdout",
     "output_type": "stream",
     "text": [
      "Your submission was saved!\n"
     ]
    }
   ],
   "source": [
    "from sklearn.ensemble import RandomForestClassifier\n",
    "y = train_data[\"Survived\"]\n",
    "features = [\"Pclass\", \"Sex\", \"SibSp\", \"Parch\"]\n",
    "X = pd.get_dummies(train_data[features])\n",
    "X_test = pd.get_dummies(test_data[features])\n",
    "\n",
    "model = RandomForestClassifier(n_estimators=100, max_depth=5, random_state=1)\n",
    "model.fit(X,y)\n",
    "predictions = model.predict(X_test)\n",
    "\n",
    "output=pd.DataFrame({'PassengerId': test_data.PassengerId, 'Survived': predictions})\n",
    "output.to_csv('my_submission.csv', index=False)\n",
    "print(\"Your submission was saved!\")\n",
    "#.77511"
   ]
  },
  {
   "cell_type": "code",
   "execution_count": 9,
   "metadata": {},
   "outputs": [],
   "source": [
    "model = LogisticRegression()\n",
    "model.fit(X,y)\n",
    "predictions=model.predict(X_test)\n",
    "#.77033"
   ]
  },
  {
   "cell_type": "code",
   "execution_count": 10,
   "metadata": {},
   "outputs": [
    {
     "name": "stdout",
     "output_type": "stream",
     "text": [
      "Your submission was saved!\n"
     ]
    }
   ],
   "source": [
    "output=pd.DataFrame({'PassengerId': test_data.PassengerId, 'Survived': predictions})\n",
    "output.to_csv('my_submission.csv', index=False)\n",
    "print(\"Your submission was saved!\")\n"
   ]
  },
  {
   "cell_type": "code",
   "execution_count": 11,
   "metadata": {},
   "outputs": [
    {
     "name": "stdout",
     "output_type": "stream",
     "text": [
      "29.69911764705882\n"
     ]
    }
   ],
   "source": [
    "features = [\"Age\", \"Sex\", \"Pclass\"]\n",
    "avg_age = train_data[\"Age\"].mean()\n",
    "print(avg_age)"
   ]
  },
  {
   "cell_type": "code",
   "execution_count": 12,
   "metadata": {},
   "outputs": [
    {
     "name": "stdout",
     "output_type": "stream",
     "text": [
      "<bound method NDFrame.head of            Age  Pclass  Sex_female  Sex_male\n",
      "0    22.000000       3           0         1\n",
      "1    38.000000       1           1         0\n",
      "2    26.000000       3           1         0\n",
      "3    35.000000       1           1         0\n",
      "4    35.000000       3           0         1\n",
      "..         ...     ...         ...       ...\n",
      "886  27.000000       2           0         1\n",
      "887  19.000000       1           1         0\n",
      "888  29.699118       3           1         0\n",
      "889  26.000000       1           0         1\n",
      "890  32.000000       3           0         1\n",
      "\n",
      "[891 rows x 4 columns]>\n"
     ]
    }
   ],
   "source": [
    "#Lets just look at age and gender.\n",
    "X = pd.get_dummies(train_data[features])\n",
    "X = X.fillna(avg_age)\n",
    "print(X.head)\n",
    "X_test = pd.get_dummies(test_data[features])\n",
    "X_test = X_test.fillna(avg_age)"
   ]
  },
  {
   "cell_type": "code",
   "execution_count": 13,
   "metadata": {},
   "outputs": [],
   "source": [
    "model = LogisticRegression()\n",
    "model.fit(X,y)\n",
    "predictions=model.predict(X_test)"
   ]
  },
  {
   "cell_type": "code",
   "execution_count": 14,
   "metadata": {},
   "outputs": [
    {
     "name": "stdout",
     "output_type": "stream",
     "text": [
      "Your submission was saved!\n"
     ]
    }
   ],
   "source": [
    "output=pd.DataFrame({'PassengerId': test_data.PassengerId, 'Survived': predictions})\n",
    "output.to_csv('my_submission.csv', index=False)\n",
    "print(\"Your submission was saved!\")"
   ]
  },
  {
   "cell_type": "code",
   "execution_count": 15,
   "metadata": {},
   "outputs": [
    {
     "name": "stdout",
     "output_type": "stream",
     "text": [
      "Your submission was saved!\n"
     ]
    }
   ],
   "source": [
    "from sklearn.ensemble import RandomForestClassifier\n",
    "y = train_data[\"Survived\"]\n",
    "features = [\"Pclass\", \"Sex\", \"SibSp\", \"Parch\", \"Age\"]\n",
    "X = pd.get_dummies(train_data[features])\n",
    "X_test = pd.get_dummies(test_data[features])\n",
    "\n",
    "avg_age = train_data[\"Age\"].mean()\n",
    "X = X.fillna(avg_age)\n",
    "X_test = X_test.fillna(avg_age)\n",
    "\n",
    "model = RandomForestClassifier(n_estimators=100, max_depth=5, random_state=1)\n",
    "model.fit(X,y)\n",
    "predictions = model.predict(X_test)\n",
    "\n",
    "output=pd.DataFrame({'PassengerId': test_data.PassengerId, 'Survived': predictions})\n",
    "output.to_csv('my_submission.csv', index=False)\n",
    "print(\"Your submission was saved!\")\n",
    "#.77511\n",
    "\n",
    "model = LogisticRegression()\n",
    "model.fit(X,y)\n",
    "predictions=model.predict(X_test)\n",
    "#.77033"
   ]
  },
  {
   "cell_type": "code",
   "execution_count": 16,
   "metadata": {},
   "outputs": [
    {
     "name": "stdout",
     "output_type": "stream",
     "text": [
      "Your submission was saved!\n"
     ]
    }
   ],
   "source": [
    "output=pd.DataFrame({'PassengerId': test_data.PassengerId, 'Survived': predictions})\n",
    "output.to_csv('my_submission.csv', index=False)\n",
    "print(\"Your submission was saved!\")"
   ]
  },
  {
   "cell_type": "code",
   "execution_count": 17,
   "metadata": {},
   "outputs": [],
   "source": [
    "#Now we are going to feature engineer the data a bit.\n"
   ]
  },
  {
   "cell_type": "code",
   "execution_count": 18,
   "metadata": {},
   "outputs": [],
   "source": [
    "train_data[\"age_bin\"] = \"\""
   ]
  },
  {
   "cell_type": "code",
   "execution_count": 19,
   "metadata": {},
   "outputs": [
    {
     "data": {
      "text/plain": [
       "<bound method NDFrame.head of      PassengerId  Survived  Pclass  \\\n",
       "0              1         0       3   \n",
       "1              2         1       1   \n",
       "2              3         1       3   \n",
       "3              4         1       1   \n",
       "4              5         0       3   \n",
       "..           ...       ...     ...   \n",
       "886          887         0       2   \n",
       "887          888         1       1   \n",
       "888          889         0       3   \n",
       "889          890         1       1   \n",
       "890          891         0       3   \n",
       "\n",
       "                                                  Name     Sex   Age age_bin  \\\n",
       "0                              Braund, Mr. Owen Harris    male  22.0           \n",
       "1    Cumings, Mrs. John Bradley (Florence Briggs Th...  female  38.0           \n",
       "2                               Heikkinen, Miss. Laina  female  26.0           \n",
       "3         Futrelle, Mrs. Jacques Heath (Lily May Peel)  female  35.0           \n",
       "4                             Allen, Mr. William Henry    male  35.0           \n",
       "..                                                 ...     ...   ...     ...   \n",
       "886                              Montvila, Rev. Juozas    male  27.0           \n",
       "887                       Graham, Miss. Margaret Edith  female  19.0           \n",
       "888           Johnston, Miss. Catherine Helen \"Carrie\"  female   NaN           \n",
       "889                              Behr, Mr. Karl Howell    male  26.0           \n",
       "890                                Dooley, Mr. Patrick    male  32.0           \n",
       "\n",
       "     SibSp  Parch            Ticket     Fare Cabin cabin_code Embarked  \n",
       "0        1      0         A/5 21171   7.2500   NaN       none        S  \n",
       "1        1      0          PC 17599  71.2833   C85          C        C  \n",
       "2        0      0  STON/O2. 3101282   7.9250   NaN       none        S  \n",
       "3        1      0            113803  53.1000  C123          C        S  \n",
       "4        0      0            373450   8.0500   NaN       none        S  \n",
       "..     ...    ...               ...      ...   ...        ...      ...  \n",
       "886      0      0            211536  13.0000   NaN       none        S  \n",
       "887      0      0            112053  30.0000   B42          B        S  \n",
       "888      1      2        W./C. 6607  23.4500   NaN       none        S  \n",
       "889      0      0            111369  30.0000  C148          C        C  \n",
       "890      0      0            370376   7.7500   NaN       none        Q  \n",
       "\n",
       "[891 rows x 14 columns]>"
      ]
     },
     "execution_count": 19,
     "metadata": {},
     "output_type": "execute_result"
    }
   ],
   "source": [
    "train_data.head"
   ]
  },
  {
   "cell_type": "code",
   "execution_count": 20,
   "metadata": {},
   "outputs": [
    {
     "name": "stderr",
     "output_type": "stream",
     "text": [
      "D:\\Anaconda3\\lib\\site-packages\\pandas\\core\\ops\\array_ops.py:253: FutureWarning: elementwise comparison failed; returning scalar instead, but in the future will perform elementwise comparison\n",
      "  res_values = method(rvalues)\n"
     ]
    },
    {
     "ename": "TypeError",
     "evalue": "cannot convert the series to <class 'float'>",
     "output_type": "error",
     "traceback": [
      "\u001b[1;31m---------------------------------------------------------------------------\u001b[0m",
      "\u001b[1;31mTypeError\u001b[0m                                 Traceback (most recent call last)",
      "\u001b[1;32m<ipython-input-20-72cc9c50cfa6>\u001b[0m in \u001b[0;36m<module>\u001b[1;34m\u001b[0m\n\u001b[0;32m      1\u001b[0m \u001b[0mtrain_data\u001b[0m\u001b[1;33m[\u001b[0m\u001b[1;34m'Age'\u001b[0m\u001b[1;33m]\u001b[0m \u001b[1;33m=\u001b[0m \u001b[0mnp\u001b[0m\u001b[1;33m.\u001b[0m\u001b[0mwhere\u001b[0m\u001b[1;33m(\u001b[0m\u001b[1;33m(\u001b[0m\u001b[0mtrain_data\u001b[0m\u001b[1;33m.\u001b[0m\u001b[0mAge\u001b[0m \u001b[1;33m==\u001b[0m \u001b[1;34m'nan'\u001b[0m\u001b[1;33m)\u001b[0m\u001b[1;33m,\u001b[0m \u001b[1;34m'unknown'\u001b[0m\u001b[1;33m,\u001b[0m \u001b[0mtrain_data\u001b[0m\u001b[1;33m.\u001b[0m\u001b[0mAge\u001b[0m\u001b[1;33m)\u001b[0m\u001b[1;33m\u001b[0m\u001b[1;33m\u001b[0m\u001b[0m\n\u001b[1;32m----> 2\u001b[1;33m \u001b[0mtrain_data\u001b[0m\u001b[1;33m[\u001b[0m\u001b[1;34m'Age'\u001b[0m\u001b[1;33m]\u001b[0m \u001b[1;33m=\u001b[0m \u001b[0mnp\u001b[0m\u001b[1;33m.\u001b[0m\u001b[0mwhere\u001b[0m\u001b[1;33m(\u001b[0m\u001b[1;33m(\u001b[0m\u001b[0mfloat\u001b[0m\u001b[1;33m(\u001b[0m\u001b[0mtrain_data\u001b[0m\u001b[1;33m.\u001b[0m\u001b[0mAge\u001b[0m\u001b[1;33m)\u001b[0m \u001b[1;33m<\u001b[0m \u001b[1;36m5\u001b[0m \u001b[1;33m)\u001b[0m\u001b[1;33m,\u001b[0m \u001b[1;34m'Less than 5'\u001b[0m\u001b[1;33m,\u001b[0m \u001b[0mtrain_data\u001b[0m\u001b[1;33m.\u001b[0m\u001b[0mAge\u001b[0m\u001b[1;33m)\u001b[0m\u001b[1;33m\u001b[0m\u001b[1;33m\u001b[0m\u001b[0m\n\u001b[0m",
      "\u001b[1;32mD:\\Anaconda3\\lib\\site-packages\\pandas\\core\\series.py\u001b[0m in \u001b[0;36mwrapper\u001b[1;34m(self)\u001b[0m\n\u001b[0;32m    110\u001b[0m         \u001b[1;32mif\u001b[0m \u001b[0mlen\u001b[0m\u001b[1;33m(\u001b[0m\u001b[0mself\u001b[0m\u001b[1;33m)\u001b[0m \u001b[1;33m==\u001b[0m \u001b[1;36m1\u001b[0m\u001b[1;33m:\u001b[0m\u001b[1;33m\u001b[0m\u001b[1;33m\u001b[0m\u001b[0m\n\u001b[0;32m    111\u001b[0m             \u001b[1;32mreturn\u001b[0m \u001b[0mconverter\u001b[0m\u001b[1;33m(\u001b[0m\u001b[0mself\u001b[0m\u001b[1;33m.\u001b[0m\u001b[0miloc\u001b[0m\u001b[1;33m[\u001b[0m\u001b[1;36m0\u001b[0m\u001b[1;33m]\u001b[0m\u001b[1;33m)\u001b[0m\u001b[1;33m\u001b[0m\u001b[1;33m\u001b[0m\u001b[0m\n\u001b[1;32m--> 112\u001b[1;33m         \u001b[1;32mraise\u001b[0m \u001b[0mTypeError\u001b[0m\u001b[1;33m(\u001b[0m\u001b[1;34mf\"cannot convert the series to {converter}\"\u001b[0m\u001b[1;33m)\u001b[0m\u001b[1;33m\u001b[0m\u001b[1;33m\u001b[0m\u001b[0m\n\u001b[0m\u001b[0;32m    113\u001b[0m \u001b[1;33m\u001b[0m\u001b[0m\n\u001b[0;32m    114\u001b[0m     \u001b[0mwrapper\u001b[0m\u001b[1;33m.\u001b[0m\u001b[0m__name__\u001b[0m \u001b[1;33m=\u001b[0m \u001b[1;34mf\"__{converter.__name__}__\"\u001b[0m\u001b[1;33m\u001b[0m\u001b[1;33m\u001b[0m\u001b[0m\n",
      "\u001b[1;31mTypeError\u001b[0m: cannot convert the series to <class 'float'>"
     ]
    }
   ],
   "source": [
    "train_data['Age'] = np.where((train_data.Age == 'nan'), 'unknown', train_data.Age)\n",
    "train_data['Age'] = np.where((float(train_data.Age) < 5 ), 'Less than 5', train_data.Age)\n"
   ]
  },
  {
   "cell_type": "code",
   "execution_count": 21,
   "metadata": {},
   "outputs": [
    {
     "data": {
      "text/plain": [
       "<bound method NDFrame.head of      PassengerId  Survived  Pclass  \\\n",
       "0              1         0       3   \n",
       "1              2         1       1   \n",
       "2              3         1       3   \n",
       "3              4         1       1   \n",
       "4              5         0       3   \n",
       "..           ...       ...     ...   \n",
       "886          887         0       2   \n",
       "887          888         1       1   \n",
       "888          889         0       3   \n",
       "889          890         1       1   \n",
       "890          891         0       3   \n",
       "\n",
       "                                                  Name     Sex   Age age_bin  \\\n",
       "0                              Braund, Mr. Owen Harris    male  22.0           \n",
       "1    Cumings, Mrs. John Bradley (Florence Briggs Th...  female  38.0           \n",
       "2                               Heikkinen, Miss. Laina  female  26.0           \n",
       "3         Futrelle, Mrs. Jacques Heath (Lily May Peel)  female  35.0           \n",
       "4                             Allen, Mr. William Henry    male  35.0           \n",
       "..                                                 ...     ...   ...     ...   \n",
       "886                              Montvila, Rev. Juozas    male  27.0           \n",
       "887                       Graham, Miss. Margaret Edith  female  19.0           \n",
       "888           Johnston, Miss. Catherine Helen \"Carrie\"  female   nan           \n",
       "889                              Behr, Mr. Karl Howell    male  26.0           \n",
       "890                                Dooley, Mr. Patrick    male  32.0           \n",
       "\n",
       "     SibSp  Parch            Ticket     Fare Cabin cabin_code Embarked  \n",
       "0        1      0         A/5 21171   7.2500   NaN       none        S  \n",
       "1        1      0          PC 17599  71.2833   C85          C        C  \n",
       "2        0      0  STON/O2. 3101282   7.9250   NaN       none        S  \n",
       "3        1      0            113803  53.1000  C123          C        S  \n",
       "4        0      0            373450   8.0500   NaN       none        S  \n",
       "..     ...    ...               ...      ...   ...        ...      ...  \n",
       "886      0      0            211536  13.0000   NaN       none        S  \n",
       "887      0      0            112053  30.0000   B42          B        S  \n",
       "888      1      2        W./C. 6607  23.4500   NaN       none        S  \n",
       "889      0      0            111369  30.0000  C148          C        C  \n",
       "890      0      0            370376   7.7500   NaN       none        Q  \n",
       "\n",
       "[891 rows x 14 columns]>"
      ]
     },
     "execution_count": 21,
     "metadata": {},
     "output_type": "execute_result"
    }
   ],
   "source": [
    "train_data.head"
   ]
  },
  {
   "cell_type": "code",
   "execution_count": 22,
   "metadata": {},
   "outputs": [
    {
     "ename": "TypeError",
     "evalue": "Could not convert 22.038.026.035.035.0nan54.02.027.014.04.058.020.039.014.055.02.0nan31.0nan35.034.015.028.08.038.0nan19.0nannan40.0nannan66.028.042.0nan21.018.014.040.027.0nan3.019.0nannannannan18.07.021.049.029.065.0nan21.028.55.011.022.038.045.04.0nannan29.019.017.026.032.016.021.026.032.025.0nannan0.8330.022.029.0nan28.017.033.016.0nan23.024.029.020.046.026.059.0nan71.023.034.034.028.0nan21.033.037.028.021.0nan38.0nan47.014.522.020.017.021.070.529.024.02.021.0nan32.532.554.012.0nan24.0nan45.033.020.047.029.025.023.019.037.016.024.0nan22.024.019.018.019.027.09.036.542.051.022.055.540.5nan51.016.030.0nannan44.040.026.017.01.09.0nan45.0nan28.061.04.01.021.056.018.0nan50.030.036.0nannan9.01.04.0nannan45.040.036.032.019.019.03.044.058.0nan42.0nan24.028.0nan34.045.518.02.032.026.016.040.024.035.022.030.0nan31.027.042.032.030.016.027.051.0nan38.022.019.020.518.0nan35.029.059.05.024.0nan44.08.019.033.0nannan29.022.030.044.025.024.037.054.0nan29.062.030.041.029.0nan30.035.050.0nan3.052.040.0nan36.016.025.058.035.0nan25.041.037.0nan63.045.0nan7.035.065.028.016.019.0nan33.030.022.042.022.026.019.036.024.024.0nan23.52.0nan50.0nannan19.0nannan0.92nan17.030.030.024.018.026.028.043.026.024.054.031.040.022.027.030.022.0nan36.061.036.031.016.0nan45.538.016.0nannan29.041.045.045.02.024.028.025.036.024.040.0nan3.042.023.0nan15.025.0nan28.022.038.0nannan40.029.045.035.0nan30.060.0nannan24.025.018.019.022.03.0nan22.027.020.019.042.01.032.035.0nan18.01.036.0nan17.036.021.028.023.024.022.031.046.023.028.039.026.021.028.020.034.051.03.021.0nannannan33.0nan44.0nan34.018.030.010.0nan21.029.028.018.0nan28.019.0nan32.028.0nan42.017.050.014.021.024.064.031.045.020.025.028.0nan4.013.034.05.052.036.0nan30.049.0nan29.065.0nan50.0nan48.034.047.048.0nan38.0nan56.0nan0.75nan38.033.023.022.0nan34.029.022.02.09.0nan50.063.025.0nan35.058.030.09.0nan21.055.071.021.0nan54.0nan25.024.017.021.0nan37.016.018.033.0nan28.026.029.0nan36.054.024.047.034.0nan36.032.030.022.0nan44.0nan40.550.0nan39.023.02.0nan17.0nan30.07.045.030.0nan22.036.09.011.032.050.064.019.0nan33.08.017.027.0nan22.022.062.048.0nan39.036.0nan40.028.0nannan24.019.029.0nan32.062.053.036.0nan16.019.034.039.0nan32.025.039.054.036.0nan18.047.060.022.0nan35.052.047.0nan37.036.0nan49.0nan49.024.0nannan44.035.036.030.027.022.040.039.0nannannan35.024.034.026.04.026.027.042.020.021.021.061.057.021.026.0nan80.051.032.0nan9.028.032.031.041.0nan20.024.02.0nan0.7548.019.056.0nan23.0nan18.021.0nan18.024.0nan32.023.058.050.040.047.036.020.032.025.0nan43.0nan40.031.070.031.0nan18.024.518.043.036.0nan27.020.014.060.025.014.019.018.015.031.04.0nan25.060.052.044.0nan49.042.018.035.018.025.026.039.045.042.022.0nan24.0nan48.029.052.019.038.027.0nan33.06.017.034.050.027.020.030.0nan25.025.029.011.0nan23.023.028.548.035.0nannannan36.021.024.031.070.016.030.019.031.04.06.033.023.048.00.6728.018.034.033.0nan41.020.036.016.051.0nan30.5nan32.024.048.057.0nan54.018.0nan5.0nan43.013.017.029.0nan25.025.018.08.01.046.0nan16.0nannan25.039.049.031.030.030.034.031.011.00.4227.031.039.018.039.033.026.039.035.06.030.5nan23.031.043.010.052.027.038.027.02.0nannan1.0nan62.015.00.83nan23.018.039.021.0nan32.0nan20.016.030.034.517.042.0nan35.028.0nan4.074.09.016.044.018.045.051.024.0nan41.021.048.0nan24.042.027.031.0nan4.026.047.033.047.028.015.020.019.0nan56.025.033.022.028.025.039.027.019.0nan26.032.0 to numeric",
     "output_type": "error",
     "traceback": [
      "\u001b[1;31m---------------------------------------------------------------------------\u001b[0m",
      "\u001b[1;31mValueError\u001b[0m                                Traceback (most recent call last)",
      "\u001b[1;32mD:\\Anaconda3\\lib\\site-packages\\pandas\\core\\nanops.py\u001b[0m in \u001b[0;36m_ensure_numeric\u001b[1;34m(x)\u001b[0m\n\u001b[0;32m   1302\u001b[0m         \u001b[1;32mtry\u001b[0m\u001b[1;33m:\u001b[0m\u001b[1;33m\u001b[0m\u001b[1;33m\u001b[0m\u001b[0m\n\u001b[1;32m-> 1303\u001b[1;33m             \u001b[0mx\u001b[0m \u001b[1;33m=\u001b[0m \u001b[0mfloat\u001b[0m\u001b[1;33m(\u001b[0m\u001b[0mx\u001b[0m\u001b[1;33m)\u001b[0m\u001b[1;33m\u001b[0m\u001b[1;33m\u001b[0m\u001b[0m\n\u001b[0m\u001b[0;32m   1304\u001b[0m         \u001b[1;32mexcept\u001b[0m \u001b[0mValueError\u001b[0m\u001b[1;33m:\u001b[0m\u001b[1;33m\u001b[0m\u001b[1;33m\u001b[0m\u001b[0m\n",
      "\u001b[1;31mValueError\u001b[0m: could not convert string to float: '22.038.026.035.035.0nan54.02.027.014.04.058.020.039.014.055.02.0nan31.0nan35.034.015.028.08.038.0nan19.0nannan40.0nannan66.028.042.0nan21.018.014.040.027.0nan3.019.0nannannannan18.07.021.049.029.065.0nan21.028.55.011.022.038.045.04.0nannan29.019.017.026.032.016.021.026.032.025.0nannan0.8330.022.029.0nan28.017.033.016.0nan23.024.029.020.046.026.059.0nan71.023.034.034.028.0nan21.033.037.028.021.0nan38.0nan47.014.522.020.017.021.070.529.024.02.021.0nan32.532.554.012.0nan24.0nan45.033.020.047.029.025.023.019.037.016.024.0nan22.024.019.018.019.027.09.036.542.051.022.055.540.5nan51.016.030.0nannan44.040.026.017.01.09.0nan45.0nan28.061.04.01.021.056.018.0nan50.030.036.0nannan9.01.04.0nannan45.040.036.032.019.019.03.044.058.0nan42.0nan24.028.0nan34.045.518.02.032.026.016.040.024.035.022.030.0nan31.027.042.032.030.016.027.051.0nan38.022.019.020.518.0nan35.029.059.05.024.0nan44.08.019.033.0nannan29.022.030.044.025.024.037.054.0nan29.062.030.041.029.0nan30.035.050.0nan3.052.040.0nan36.016.025.058.035.0nan25.041.037.0nan63.045.0nan7.035.065.028.016.019.0nan33.030.022.042.022.026.019.036.024.024.0nan23.52.0nan50.0nannan19.0nannan0.92nan17.030.030.024.018.026.028.043.026.024.054.031.040.022.027.030.022.0nan36.061.036.031.016.0nan45.538.016.0nannan29.041.045.045.02.024.028.025.036.024.040.0nan3.042.023.0nan15.025.0nan28.022.038.0nannan40.029.045.035.0nan30.060.0nannan24.025.018.019.022.03.0nan22.027.020.019.042.01.032.035.0nan18.01.036.0nan17.036.021.028.023.024.022.031.046.023.028.039.026.021.028.020.034.051.03.021.0nannannan33.0nan44.0nan34.018.030.010.0nan21.029.028.018.0nan28.019.0nan32.028.0nan42.017.050.014.021.024.064.031.045.020.025.028.0nan4.013.034.05.052.036.0nan30.049.0nan29.065.0nan50.0nan48.034.047.048.0nan38.0nan56.0nan0.75nan38.033.023.022.0nan34.029.022.02.09.0nan50.063.025.0nan35.058.030.09.0nan21.055.071.021.0nan54.0nan25.024.017.021.0nan37.016.018.033.0nan28.026.029.0nan36.054.024.047.034.0nan36.032.030.022.0nan44.0nan40.550.0nan39.023.02.0nan17.0nan30.07.045.030.0nan22.036.09.011.032.050.064.019.0nan33.08.017.027.0nan22.022.062.048.0nan39.036.0nan40.028.0nannan24.019.029.0nan32.062.053.036.0nan16.019.034.039.0nan32.025.039.054.036.0nan18.047.060.022.0nan35.052.047.0nan37.036.0nan49.0nan49.024.0nannan44.035.036.030.027.022.040.039.0nannannan35.024.034.026.04.026.027.042.020.021.021.061.057.021.026.0nan80.051.032.0nan9.028.032.031.041.0nan20.024.02.0nan0.7548.019.056.0nan23.0nan18.021.0nan18.024.0nan32.023.058.050.040.047.036.020.032.025.0nan43.0nan40.031.070.031.0nan18.024.518.043.036.0nan27.020.014.060.025.014.019.018.015.031.04.0nan25.060.052.044.0nan49.042.018.035.018.025.026.039.045.042.022.0nan24.0nan48.029.052.019.038.027.0nan33.06.017.034.050.027.020.030.0nan25.025.029.011.0nan23.023.028.548.035.0nannannan36.021.024.031.070.016.030.019.031.04.06.033.023.048.00.6728.018.034.033.0nan41.020.036.016.051.0nan30.5nan32.024.048.057.0nan54.018.0nan5.0nan43.013.017.029.0nan25.025.018.08.01.046.0nan16.0nannan25.039.049.031.030.030.034.031.011.00.4227.031.039.018.039.033.026.039.035.06.030.5nan23.031.043.010.052.027.038.027.02.0nannan1.0nan62.015.00.83nan23.018.039.021.0nan32.0nan20.016.030.034.517.042.0nan35.028.0nan4.074.09.016.044.018.045.051.024.0nan41.021.048.0nan24.042.027.031.0nan4.026.047.033.047.028.015.020.019.0nan56.025.033.022.028.025.039.027.019.0nan26.032.0'",
      "\nDuring handling of the above exception, another exception occurred:\n",
      "\u001b[1;31mValueError\u001b[0m                                Traceback (most recent call last)",
      "\u001b[1;32mD:\\Anaconda3\\lib\\site-packages\\pandas\\core\\nanops.py\u001b[0m in \u001b[0;36m_ensure_numeric\u001b[1;34m(x)\u001b[0m\n\u001b[0;32m   1306\u001b[0m             \u001b[1;32mtry\u001b[0m\u001b[1;33m:\u001b[0m\u001b[1;33m\u001b[0m\u001b[1;33m\u001b[0m\u001b[0m\n\u001b[1;32m-> 1307\u001b[1;33m                 \u001b[0mx\u001b[0m \u001b[1;33m=\u001b[0m \u001b[0mcomplex\u001b[0m\u001b[1;33m(\u001b[0m\u001b[0mx\u001b[0m\u001b[1;33m)\u001b[0m\u001b[1;33m\u001b[0m\u001b[1;33m\u001b[0m\u001b[0m\n\u001b[0m\u001b[0;32m   1308\u001b[0m             \u001b[1;32mexcept\u001b[0m \u001b[0mValueError\u001b[0m\u001b[1;33m:\u001b[0m\u001b[1;33m\u001b[0m\u001b[1;33m\u001b[0m\u001b[0m\n",
      "\u001b[1;31mValueError\u001b[0m: complex() arg is a malformed string",
      "\nDuring handling of the above exception, another exception occurred:\n",
      "\u001b[1;31mTypeError\u001b[0m                                 Traceback (most recent call last)",
      "\u001b[1;32m<ipython-input-22-e74c01f56ffa>\u001b[0m in \u001b[0;36m<module>\u001b[1;34m\u001b[0m\n\u001b[0;32m      5\u001b[0m \u001b[0mX_test\u001b[0m \u001b[1;33m=\u001b[0m \u001b[0mpd\u001b[0m\u001b[1;33m.\u001b[0m\u001b[0mget_dummies\u001b[0m\u001b[1;33m(\u001b[0m\u001b[0mtest_data\u001b[0m\u001b[1;33m[\u001b[0m\u001b[0mfeatures\u001b[0m\u001b[1;33m]\u001b[0m\u001b[1;33m)\u001b[0m\u001b[1;33m\u001b[0m\u001b[1;33m\u001b[0m\u001b[0m\n\u001b[0;32m      6\u001b[0m \u001b[1;33m\u001b[0m\u001b[0m\n\u001b[1;32m----> 7\u001b[1;33m \u001b[0mavg_age\u001b[0m \u001b[1;33m=\u001b[0m \u001b[0mtrain_data\u001b[0m\u001b[1;33m[\u001b[0m\u001b[1;34m\"Age\"\u001b[0m\u001b[1;33m]\u001b[0m\u001b[1;33m.\u001b[0m\u001b[0mmean\u001b[0m\u001b[1;33m(\u001b[0m\u001b[1;33m)\u001b[0m\u001b[1;33m\u001b[0m\u001b[1;33m\u001b[0m\u001b[0m\n\u001b[0m\u001b[0;32m      8\u001b[0m \u001b[0mX\u001b[0m \u001b[1;33m=\u001b[0m \u001b[0mX\u001b[0m\u001b[1;33m.\u001b[0m\u001b[0mfillna\u001b[0m\u001b[1;33m(\u001b[0m\u001b[0mavg_age\u001b[0m\u001b[1;33m)\u001b[0m\u001b[1;33m\u001b[0m\u001b[1;33m\u001b[0m\u001b[0m\n\u001b[0;32m      9\u001b[0m \u001b[0mX_test\u001b[0m \u001b[1;33m=\u001b[0m \u001b[0mX_test\u001b[0m\u001b[1;33m.\u001b[0m\u001b[0mfillna\u001b[0m\u001b[1;33m(\u001b[0m\u001b[0mavg_age\u001b[0m\u001b[1;33m)\u001b[0m\u001b[1;33m\u001b[0m\u001b[1;33m\u001b[0m\u001b[0m\n",
      "\u001b[1;32mD:\\Anaconda3\\lib\\site-packages\\pandas\\core\\generic.py\u001b[0m in \u001b[0;36mstat_func\u001b[1;34m(self, axis, skipna, level, numeric_only, **kwargs)\u001b[0m\n\u001b[0;32m  11213\u001b[0m             \u001b[1;32mreturn\u001b[0m \u001b[0mself\u001b[0m\u001b[1;33m.\u001b[0m\u001b[0m_agg_by_level\u001b[0m\u001b[1;33m(\u001b[0m\u001b[0mname\u001b[0m\u001b[1;33m,\u001b[0m \u001b[0maxis\u001b[0m\u001b[1;33m=\u001b[0m\u001b[0maxis\u001b[0m\u001b[1;33m,\u001b[0m \u001b[0mlevel\u001b[0m\u001b[1;33m=\u001b[0m\u001b[0mlevel\u001b[0m\u001b[1;33m,\u001b[0m \u001b[0mskipna\u001b[0m\u001b[1;33m=\u001b[0m\u001b[0mskipna\u001b[0m\u001b[1;33m)\u001b[0m\u001b[1;33m\u001b[0m\u001b[1;33m\u001b[0m\u001b[0m\n\u001b[0;32m  11214\u001b[0m         return self._reduce(\n\u001b[1;32m> 11215\u001b[1;33m             \u001b[0mf\u001b[0m\u001b[1;33m,\u001b[0m \u001b[0mname\u001b[0m\u001b[1;33m,\u001b[0m \u001b[0maxis\u001b[0m\u001b[1;33m=\u001b[0m\u001b[0maxis\u001b[0m\u001b[1;33m,\u001b[0m \u001b[0mskipna\u001b[0m\u001b[1;33m=\u001b[0m\u001b[0mskipna\u001b[0m\u001b[1;33m,\u001b[0m \u001b[0mnumeric_only\u001b[0m\u001b[1;33m=\u001b[0m\u001b[0mnumeric_only\u001b[0m\u001b[1;33m\u001b[0m\u001b[1;33m\u001b[0m\u001b[0m\n\u001b[0m\u001b[0;32m  11216\u001b[0m         )\n\u001b[0;32m  11217\u001b[0m \u001b[1;33m\u001b[0m\u001b[0m\n",
      "\u001b[1;32mD:\\Anaconda3\\lib\\site-packages\\pandas\\core\\series.py\u001b[0m in \u001b[0;36m_reduce\u001b[1;34m(self, op, name, axis, skipna, numeric_only, filter_type, **kwds)\u001b[0m\n\u001b[0;32m   3889\u001b[0m                 )\n\u001b[0;32m   3890\u001b[0m             \u001b[1;32mwith\u001b[0m \u001b[0mnp\u001b[0m\u001b[1;33m.\u001b[0m\u001b[0merrstate\u001b[0m\u001b[1;33m(\u001b[0m\u001b[0mall\u001b[0m\u001b[1;33m=\u001b[0m\u001b[1;34m\"ignore\"\u001b[0m\u001b[1;33m)\u001b[0m\u001b[1;33m:\u001b[0m\u001b[1;33m\u001b[0m\u001b[1;33m\u001b[0m\u001b[0m\n\u001b[1;32m-> 3891\u001b[1;33m                 \u001b[1;32mreturn\u001b[0m \u001b[0mop\u001b[0m\u001b[1;33m(\u001b[0m\u001b[0mdelegate\u001b[0m\u001b[1;33m,\u001b[0m \u001b[0mskipna\u001b[0m\u001b[1;33m=\u001b[0m\u001b[0mskipna\u001b[0m\u001b[1;33m,\u001b[0m \u001b[1;33m**\u001b[0m\u001b[0mkwds\u001b[0m\u001b[1;33m)\u001b[0m\u001b[1;33m\u001b[0m\u001b[1;33m\u001b[0m\u001b[0m\n\u001b[0m\u001b[0;32m   3892\u001b[0m \u001b[1;33m\u001b[0m\u001b[0m\n\u001b[0;32m   3893\u001b[0m         \u001b[1;31m# TODO(EA) dispatch to Index\u001b[0m\u001b[1;33m\u001b[0m\u001b[1;33m\u001b[0m\u001b[1;33m\u001b[0m\u001b[0m\n",
      "\u001b[1;32mD:\\Anaconda3\\lib\\site-packages\\pandas\\core\\nanops.py\u001b[0m in \u001b[0;36m_f\u001b[1;34m(*args, **kwargs)\u001b[0m\n\u001b[0;32m     67\u001b[0m             \u001b[1;32mtry\u001b[0m\u001b[1;33m:\u001b[0m\u001b[1;33m\u001b[0m\u001b[1;33m\u001b[0m\u001b[0m\n\u001b[0;32m     68\u001b[0m                 \u001b[1;32mwith\u001b[0m \u001b[0mnp\u001b[0m\u001b[1;33m.\u001b[0m\u001b[0merrstate\u001b[0m\u001b[1;33m(\u001b[0m\u001b[0minvalid\u001b[0m\u001b[1;33m=\u001b[0m\u001b[1;34m\"ignore\"\u001b[0m\u001b[1;33m)\u001b[0m\u001b[1;33m:\u001b[0m\u001b[1;33m\u001b[0m\u001b[1;33m\u001b[0m\u001b[0m\n\u001b[1;32m---> 69\u001b[1;33m                     \u001b[1;32mreturn\u001b[0m \u001b[0mf\u001b[0m\u001b[1;33m(\u001b[0m\u001b[1;33m*\u001b[0m\u001b[0margs\u001b[0m\u001b[1;33m,\u001b[0m \u001b[1;33m**\u001b[0m\u001b[0mkwargs\u001b[0m\u001b[1;33m)\u001b[0m\u001b[1;33m\u001b[0m\u001b[1;33m\u001b[0m\u001b[0m\n\u001b[0m\u001b[0;32m     70\u001b[0m             \u001b[1;32mexcept\u001b[0m \u001b[0mValueError\u001b[0m \u001b[1;32mas\u001b[0m \u001b[0me\u001b[0m\u001b[1;33m:\u001b[0m\u001b[1;33m\u001b[0m\u001b[1;33m\u001b[0m\u001b[0m\n\u001b[0;32m     71\u001b[0m                 \u001b[1;31m# we want to transform an object array\u001b[0m\u001b[1;33m\u001b[0m\u001b[1;33m\u001b[0m\u001b[1;33m\u001b[0m\u001b[0m\n",
      "\u001b[1;32mD:\\Anaconda3\\lib\\site-packages\\pandas\\core\\nanops.py\u001b[0m in \u001b[0;36mf\u001b[1;34m(values, axis, skipna, **kwds)\u001b[0m\n\u001b[0;32m    123\u001b[0m                     \u001b[0mresult\u001b[0m \u001b[1;33m=\u001b[0m \u001b[0malt\u001b[0m\u001b[1;33m(\u001b[0m\u001b[0mvalues\u001b[0m\u001b[1;33m,\u001b[0m \u001b[0maxis\u001b[0m\u001b[1;33m=\u001b[0m\u001b[0maxis\u001b[0m\u001b[1;33m,\u001b[0m \u001b[0mskipna\u001b[0m\u001b[1;33m=\u001b[0m\u001b[0mskipna\u001b[0m\u001b[1;33m,\u001b[0m \u001b[1;33m**\u001b[0m\u001b[0mkwds\u001b[0m\u001b[1;33m)\u001b[0m\u001b[1;33m\u001b[0m\u001b[1;33m\u001b[0m\u001b[0m\n\u001b[0;32m    124\u001b[0m             \u001b[1;32melse\u001b[0m\u001b[1;33m:\u001b[0m\u001b[1;33m\u001b[0m\u001b[1;33m\u001b[0m\u001b[0m\n\u001b[1;32m--> 125\u001b[1;33m                 \u001b[0mresult\u001b[0m \u001b[1;33m=\u001b[0m \u001b[0malt\u001b[0m\u001b[1;33m(\u001b[0m\u001b[0mvalues\u001b[0m\u001b[1;33m,\u001b[0m \u001b[0maxis\u001b[0m\u001b[1;33m=\u001b[0m\u001b[0maxis\u001b[0m\u001b[1;33m,\u001b[0m \u001b[0mskipna\u001b[0m\u001b[1;33m=\u001b[0m\u001b[0mskipna\u001b[0m\u001b[1;33m,\u001b[0m \u001b[1;33m**\u001b[0m\u001b[0mkwds\u001b[0m\u001b[1;33m)\u001b[0m\u001b[1;33m\u001b[0m\u001b[1;33m\u001b[0m\u001b[0m\n\u001b[0m\u001b[0;32m    126\u001b[0m \u001b[1;33m\u001b[0m\u001b[0m\n\u001b[0;32m    127\u001b[0m             \u001b[1;32mreturn\u001b[0m \u001b[0mresult\u001b[0m\u001b[1;33m\u001b[0m\u001b[1;33m\u001b[0m\u001b[0m\n",
      "\u001b[1;32mD:\\Anaconda3\\lib\\site-packages\\pandas\\core\\nanops.py\u001b[0m in \u001b[0;36mnanmean\u001b[1;34m(values, axis, skipna, mask)\u001b[0m\n\u001b[0;32m    540\u001b[0m         \u001b[0mdtype_count\u001b[0m \u001b[1;33m=\u001b[0m \u001b[0mdtype\u001b[0m\u001b[1;33m\u001b[0m\u001b[1;33m\u001b[0m\u001b[0m\n\u001b[0;32m    541\u001b[0m     \u001b[0mcount\u001b[0m \u001b[1;33m=\u001b[0m \u001b[0m_get_counts\u001b[0m\u001b[1;33m(\u001b[0m\u001b[0mvalues\u001b[0m\u001b[1;33m.\u001b[0m\u001b[0mshape\u001b[0m\u001b[1;33m,\u001b[0m \u001b[0mmask\u001b[0m\u001b[1;33m,\u001b[0m \u001b[0maxis\u001b[0m\u001b[1;33m,\u001b[0m \u001b[0mdtype\u001b[0m\u001b[1;33m=\u001b[0m\u001b[0mdtype_count\u001b[0m\u001b[1;33m)\u001b[0m\u001b[1;33m\u001b[0m\u001b[1;33m\u001b[0m\u001b[0m\n\u001b[1;32m--> 542\u001b[1;33m     \u001b[0mthe_sum\u001b[0m \u001b[1;33m=\u001b[0m \u001b[0m_ensure_numeric\u001b[0m\u001b[1;33m(\u001b[0m\u001b[0mvalues\u001b[0m\u001b[1;33m.\u001b[0m\u001b[0msum\u001b[0m\u001b[1;33m(\u001b[0m\u001b[0maxis\u001b[0m\u001b[1;33m,\u001b[0m \u001b[0mdtype\u001b[0m\u001b[1;33m=\u001b[0m\u001b[0mdtype_sum\u001b[0m\u001b[1;33m)\u001b[0m\u001b[1;33m)\u001b[0m\u001b[1;33m\u001b[0m\u001b[1;33m\u001b[0m\u001b[0m\n\u001b[0m\u001b[0;32m    543\u001b[0m \u001b[1;33m\u001b[0m\u001b[0m\n\u001b[0;32m    544\u001b[0m     \u001b[1;32mif\u001b[0m \u001b[0maxis\u001b[0m \u001b[1;32mis\u001b[0m \u001b[1;32mnot\u001b[0m \u001b[1;32mNone\u001b[0m \u001b[1;32mand\u001b[0m \u001b[0mgetattr\u001b[0m\u001b[1;33m(\u001b[0m\u001b[0mthe_sum\u001b[0m\u001b[1;33m,\u001b[0m \u001b[1;34m\"ndim\"\u001b[0m\u001b[1;33m,\u001b[0m \u001b[1;32mFalse\u001b[0m\u001b[1;33m)\u001b[0m\u001b[1;33m:\u001b[0m\u001b[1;33m\u001b[0m\u001b[1;33m\u001b[0m\u001b[0m\n",
      "\u001b[1;32mD:\\Anaconda3\\lib\\site-packages\\pandas\\core\\nanops.py\u001b[0m in \u001b[0;36m_ensure_numeric\u001b[1;34m(x)\u001b[0m\n\u001b[0;32m   1308\u001b[0m             \u001b[1;32mexcept\u001b[0m \u001b[0mValueError\u001b[0m\u001b[1;33m:\u001b[0m\u001b[1;33m\u001b[0m\u001b[1;33m\u001b[0m\u001b[0m\n\u001b[0;32m   1309\u001b[0m                 \u001b[1;31m# e.g. \"foo\"\u001b[0m\u001b[1;33m\u001b[0m\u001b[1;33m\u001b[0m\u001b[1;33m\u001b[0m\u001b[0m\n\u001b[1;32m-> 1310\u001b[1;33m                 \u001b[1;32mraise\u001b[0m \u001b[0mTypeError\u001b[0m\u001b[1;33m(\u001b[0m\u001b[1;34mf\"Could not convert {x} to numeric\"\u001b[0m\u001b[1;33m)\u001b[0m\u001b[1;33m\u001b[0m\u001b[1;33m\u001b[0m\u001b[0m\n\u001b[0m\u001b[0;32m   1311\u001b[0m     \u001b[1;32mreturn\u001b[0m \u001b[0mx\u001b[0m\u001b[1;33m\u001b[0m\u001b[1;33m\u001b[0m\u001b[0m\n\u001b[0;32m   1312\u001b[0m \u001b[1;33m\u001b[0m\u001b[0m\n",
      "\u001b[1;31mTypeError\u001b[0m: Could not convert 22.038.026.035.035.0nan54.02.027.014.04.058.020.039.014.055.02.0nan31.0nan35.034.015.028.08.038.0nan19.0nannan40.0nannan66.028.042.0nan21.018.014.040.027.0nan3.019.0nannannannan18.07.021.049.029.065.0nan21.028.55.011.022.038.045.04.0nannan29.019.017.026.032.016.021.026.032.025.0nannan0.8330.022.029.0nan28.017.033.016.0nan23.024.029.020.046.026.059.0nan71.023.034.034.028.0nan21.033.037.028.021.0nan38.0nan47.014.522.020.017.021.070.529.024.02.021.0nan32.532.554.012.0nan24.0nan45.033.020.047.029.025.023.019.037.016.024.0nan22.024.019.018.019.027.09.036.542.051.022.055.540.5nan51.016.030.0nannan44.040.026.017.01.09.0nan45.0nan28.061.04.01.021.056.018.0nan50.030.036.0nannan9.01.04.0nannan45.040.036.032.019.019.03.044.058.0nan42.0nan24.028.0nan34.045.518.02.032.026.016.040.024.035.022.030.0nan31.027.042.032.030.016.027.051.0nan38.022.019.020.518.0nan35.029.059.05.024.0nan44.08.019.033.0nannan29.022.030.044.025.024.037.054.0nan29.062.030.041.029.0nan30.035.050.0nan3.052.040.0nan36.016.025.058.035.0nan25.041.037.0nan63.045.0nan7.035.065.028.016.019.0nan33.030.022.042.022.026.019.036.024.024.0nan23.52.0nan50.0nannan19.0nannan0.92nan17.030.030.024.018.026.028.043.026.024.054.031.040.022.027.030.022.0nan36.061.036.031.016.0nan45.538.016.0nannan29.041.045.045.02.024.028.025.036.024.040.0nan3.042.023.0nan15.025.0nan28.022.038.0nannan40.029.045.035.0nan30.060.0nannan24.025.018.019.022.03.0nan22.027.020.019.042.01.032.035.0nan18.01.036.0nan17.036.021.028.023.024.022.031.046.023.028.039.026.021.028.020.034.051.03.021.0nannannan33.0nan44.0nan34.018.030.010.0nan21.029.028.018.0nan28.019.0nan32.028.0nan42.017.050.014.021.024.064.031.045.020.025.028.0nan4.013.034.05.052.036.0nan30.049.0nan29.065.0nan50.0nan48.034.047.048.0nan38.0nan56.0nan0.75nan38.033.023.022.0nan34.029.022.02.09.0nan50.063.025.0nan35.058.030.09.0nan21.055.071.021.0nan54.0nan25.024.017.021.0nan37.016.018.033.0nan28.026.029.0nan36.054.024.047.034.0nan36.032.030.022.0nan44.0nan40.550.0nan39.023.02.0nan17.0nan30.07.045.030.0nan22.036.09.011.032.050.064.019.0nan33.08.017.027.0nan22.022.062.048.0nan39.036.0nan40.028.0nannan24.019.029.0nan32.062.053.036.0nan16.019.034.039.0nan32.025.039.054.036.0nan18.047.060.022.0nan35.052.047.0nan37.036.0nan49.0nan49.024.0nannan44.035.036.030.027.022.040.039.0nannannan35.024.034.026.04.026.027.042.020.021.021.061.057.021.026.0nan80.051.032.0nan9.028.032.031.041.0nan20.024.02.0nan0.7548.019.056.0nan23.0nan18.021.0nan18.024.0nan32.023.058.050.040.047.036.020.032.025.0nan43.0nan40.031.070.031.0nan18.024.518.043.036.0nan27.020.014.060.025.014.019.018.015.031.04.0nan25.060.052.044.0nan49.042.018.035.018.025.026.039.045.042.022.0nan24.0nan48.029.052.019.038.027.0nan33.06.017.034.050.027.020.030.0nan25.025.029.011.0nan23.023.028.548.035.0nannannan36.021.024.031.070.016.030.019.031.04.06.033.023.048.00.6728.018.034.033.0nan41.020.036.016.051.0nan30.5nan32.024.048.057.0nan54.018.0nan5.0nan43.013.017.029.0nan25.025.018.08.01.046.0nan16.0nannan25.039.049.031.030.030.034.031.011.00.4227.031.039.018.039.033.026.039.035.06.030.5nan23.031.043.010.052.027.038.027.02.0nannan1.0nan62.015.00.83nan23.018.039.021.0nan32.0nan20.016.030.034.517.042.0nan35.028.0nan4.074.09.016.044.018.045.051.024.0nan41.021.048.0nan24.042.027.031.0nan4.026.047.033.047.028.015.020.019.0nan56.025.033.022.028.025.039.027.019.0nan26.032.0 to numeric"
     ]
    }
   ],
   "source": [
    "from sklearn.ensemble import RandomForestClassifier\n",
    "y = train_data[\"Survived\"]\n",
    "features = [\"Pclass\", \"Sex\", \"SibSp\", \"Parch\", \"Age\"]\n",
    "X = pd.get_dummies(train_data[features])\n",
    "X_test = pd.get_dummies(test_data[features])\n",
    "\n",
    "avg_age = train_data[\"Age\"].mean()\n",
    "X = X.fillna(avg_age)\n",
    "X_test = X_test.fillna(avg_age)\n",
    "\n",
    "model = RandomForestClassifier(n_estimators=100, max_depth=5, random_state=1)\n",
    "model.fit(X,y)\n",
    "predictions = model.predict(X_test)\n",
    "\n",
    "output=pd.DataFrame({'PassengerId': test_data.PassengerId, 'Survived': predictions})\n",
    "output.to_csv('my_submission.csv', index=False)\n",
    "print(\"Your submission was saved!\")\n",
    "#.77511\n",
    "\n",
    "model = LogisticRegression()\n",
    "model.fit(X,y)\n",
    "predictions=model.predict(X_test)\n",
    "#.77033"
   ]
  },
  {
   "cell_type": "code",
   "execution_count": 23,
   "metadata": {},
   "outputs": [
    {
     "ename": "ValueError",
     "evalue": "Input contains NaN, infinity or a value too large for dtype('float32').",
     "output_type": "error",
     "traceback": [
      "\u001b[1;31m---------------------------------------------------------------------------\u001b[0m",
      "\u001b[1;31mValueError\u001b[0m                                Traceback (most recent call last)",
      "\u001b[1;32m<ipython-input-23-d39103b1897d>\u001b[0m in \u001b[0;36m<module>\u001b[1;34m\u001b[0m\n\u001b[0;32m      6\u001b[0m \u001b[0mmodel\u001b[0m \u001b[1;33m=\u001b[0m \u001b[0mtree\u001b[0m\u001b[1;33m.\u001b[0m\u001b[0mDecisionTreeClassifier\u001b[0m\u001b[1;33m(\u001b[0m\u001b[1;33m)\u001b[0m\u001b[1;33m\u001b[0m\u001b[1;33m\u001b[0m\u001b[0m\n\u001b[0;32m      7\u001b[0m \u001b[0mmodel\u001b[0m\u001b[1;33m.\u001b[0m\u001b[0mfit\u001b[0m\u001b[1;33m(\u001b[0m\u001b[0mX\u001b[0m\u001b[1;33m,\u001b[0m\u001b[0my\u001b[0m\u001b[1;33m)\u001b[0m\u001b[1;33m\u001b[0m\u001b[1;33m\u001b[0m\u001b[0m\n\u001b[1;32m----> 8\u001b[1;33m \u001b[0mpredictions\u001b[0m\u001b[1;33m=\u001b[0m\u001b[0mmodel\u001b[0m\u001b[1;33m.\u001b[0m\u001b[0mpredict\u001b[0m\u001b[1;33m(\u001b[0m\u001b[0mX_test\u001b[0m\u001b[1;33m)\u001b[0m\u001b[1;33m\u001b[0m\u001b[1;33m\u001b[0m\u001b[0m\n\u001b[0m",
      "\u001b[1;32mD:\\Anaconda3\\lib\\site-packages\\sklearn\\tree\\_classes.py\u001b[0m in \u001b[0;36mpredict\u001b[1;34m(self, X, check_input)\u001b[0m\n\u001b[0;32m    417\u001b[0m         \"\"\"\n\u001b[0;32m    418\u001b[0m         \u001b[0mcheck_is_fitted\u001b[0m\u001b[1;33m(\u001b[0m\u001b[0mself\u001b[0m\u001b[1;33m)\u001b[0m\u001b[1;33m\u001b[0m\u001b[1;33m\u001b[0m\u001b[0m\n\u001b[1;32m--> 419\u001b[1;33m         \u001b[0mX\u001b[0m \u001b[1;33m=\u001b[0m \u001b[0mself\u001b[0m\u001b[1;33m.\u001b[0m\u001b[0m_validate_X_predict\u001b[0m\u001b[1;33m(\u001b[0m\u001b[0mX\u001b[0m\u001b[1;33m,\u001b[0m \u001b[0mcheck_input\u001b[0m\u001b[1;33m)\u001b[0m\u001b[1;33m\u001b[0m\u001b[1;33m\u001b[0m\u001b[0m\n\u001b[0m\u001b[0;32m    420\u001b[0m         \u001b[0mproba\u001b[0m \u001b[1;33m=\u001b[0m \u001b[0mself\u001b[0m\u001b[1;33m.\u001b[0m\u001b[0mtree_\u001b[0m\u001b[1;33m.\u001b[0m\u001b[0mpredict\u001b[0m\u001b[1;33m(\u001b[0m\u001b[0mX\u001b[0m\u001b[1;33m)\u001b[0m\u001b[1;33m\u001b[0m\u001b[1;33m\u001b[0m\u001b[0m\n\u001b[0;32m    421\u001b[0m         \u001b[0mn_samples\u001b[0m \u001b[1;33m=\u001b[0m \u001b[0mX\u001b[0m\u001b[1;33m.\u001b[0m\u001b[0mshape\u001b[0m\u001b[1;33m[\u001b[0m\u001b[1;36m0\u001b[0m\u001b[1;33m]\u001b[0m\u001b[1;33m\u001b[0m\u001b[1;33m\u001b[0m\u001b[0m\n",
      "\u001b[1;32mD:\\Anaconda3\\lib\\site-packages\\sklearn\\tree\\_classes.py\u001b[0m in \u001b[0;36m_validate_X_predict\u001b[1;34m(self, X, check_input)\u001b[0m\n\u001b[0;32m    378\u001b[0m         \u001b[1;34m\"\"\"Validate X whenever one tries to predict, apply, predict_proba\"\"\"\u001b[0m\u001b[1;33m\u001b[0m\u001b[1;33m\u001b[0m\u001b[0m\n\u001b[0;32m    379\u001b[0m         \u001b[1;32mif\u001b[0m \u001b[0mcheck_input\u001b[0m\u001b[1;33m:\u001b[0m\u001b[1;33m\u001b[0m\u001b[1;33m\u001b[0m\u001b[0m\n\u001b[1;32m--> 380\u001b[1;33m             \u001b[0mX\u001b[0m \u001b[1;33m=\u001b[0m \u001b[0mcheck_array\u001b[0m\u001b[1;33m(\u001b[0m\u001b[0mX\u001b[0m\u001b[1;33m,\u001b[0m \u001b[0mdtype\u001b[0m\u001b[1;33m=\u001b[0m\u001b[0mDTYPE\u001b[0m\u001b[1;33m,\u001b[0m \u001b[0maccept_sparse\u001b[0m\u001b[1;33m=\u001b[0m\u001b[1;34m\"csr\"\u001b[0m\u001b[1;33m)\u001b[0m\u001b[1;33m\u001b[0m\u001b[1;33m\u001b[0m\u001b[0m\n\u001b[0m\u001b[0;32m    381\u001b[0m             if issparse(X) and (X.indices.dtype != np.intc or\n\u001b[0;32m    382\u001b[0m                                 X.indptr.dtype != np.intc):\n",
      "\u001b[1;32mD:\\Anaconda3\\lib\\site-packages\\sklearn\\utils\\validation.py\u001b[0m in \u001b[0;36mcheck_array\u001b[1;34m(array, accept_sparse, accept_large_sparse, dtype, order, copy, force_all_finite, ensure_2d, allow_nd, ensure_min_samples, ensure_min_features, warn_on_dtype, estimator)\u001b[0m\n\u001b[0;32m    576\u001b[0m         \u001b[1;32mif\u001b[0m \u001b[0mforce_all_finite\u001b[0m\u001b[1;33m:\u001b[0m\u001b[1;33m\u001b[0m\u001b[1;33m\u001b[0m\u001b[0m\n\u001b[0;32m    577\u001b[0m             _assert_all_finite(array,\n\u001b[1;32m--> 578\u001b[1;33m                                allow_nan=force_all_finite == 'allow-nan')\n\u001b[0m\u001b[0;32m    579\u001b[0m \u001b[1;33m\u001b[0m\u001b[0m\n\u001b[0;32m    580\u001b[0m     \u001b[1;32mif\u001b[0m \u001b[0mensure_min_samples\u001b[0m \u001b[1;33m>\u001b[0m \u001b[1;36m0\u001b[0m\u001b[1;33m:\u001b[0m\u001b[1;33m\u001b[0m\u001b[1;33m\u001b[0m\u001b[0m\n",
      "\u001b[1;32mD:\\Anaconda3\\lib\\site-packages\\sklearn\\utils\\validation.py\u001b[0m in \u001b[0;36m_assert_all_finite\u001b[1;34m(X, allow_nan, msg_dtype)\u001b[0m\n\u001b[0;32m     58\u001b[0m                     \u001b[0mmsg_err\u001b[0m\u001b[1;33m.\u001b[0m\u001b[0mformat\u001b[0m\u001b[1;33m\u001b[0m\u001b[1;33m\u001b[0m\u001b[0m\n\u001b[0;32m     59\u001b[0m                     (type_err,\n\u001b[1;32m---> 60\u001b[1;33m                      msg_dtype if msg_dtype is not None else X.dtype)\n\u001b[0m\u001b[0;32m     61\u001b[0m             )\n\u001b[0;32m     62\u001b[0m     \u001b[1;31m# for object dtype data, we only check for NaNs (GH-13254)\u001b[0m\u001b[1;33m\u001b[0m\u001b[1;33m\u001b[0m\u001b[1;33m\u001b[0m\u001b[0m\n",
      "\u001b[1;31mValueError\u001b[0m: Input contains NaN, infinity or a value too large for dtype('float32')."
     ]
    }
   ],
   "source": [
    "from sklearn import tree\n",
    "y = train_data[\"Survived\"]\n",
    "features = [\"Pclass\", \"Sex\", \"age_bin\", \"SibSp\", \"Parch\", \"Fare\", \"cabin_code\", \"Embarked\"]\n",
    "X = pd.get_dummies(train_data[features])\n",
    "X_test = pd.get_dummies(test_data[features])\n",
    "model = tree.DecisionTreeClassifier()\n",
    "model.fit(X,y)\n",
    "predictions=model.predict(X_test)"
   ]
  },
  {
   "cell_type": "code",
   "execution_count": 29,
   "metadata": {},
   "outputs": [
    {
     "data": {
      "text/plain": [
       "<bound method NDFrame.head of      Pclass  SibSp  Parch     Fare  Sex_female  Sex_male  age_bin_  \\\n",
       "0         3      1      0   7.2500           0         1         1   \n",
       "1         1      1      0  71.2833           1         0         1   \n",
       "2         3      0      0   7.9250           1         0         1   \n",
       "3         1      1      0  53.1000           1         0         1   \n",
       "4         3      0      0   8.0500           0         1         1   \n",
       "..      ...    ...    ...      ...         ...       ...       ...   \n",
       "886       2      0      0  13.0000           0         1         1   \n",
       "887       1      0      0  30.0000           1         0         1   \n",
       "888       3      1      2  23.4500           1         0         1   \n",
       "889       1      0      0  30.0000           0         1         1   \n",
       "890       3      0      0   7.7500           0         1         1   \n",
       "\n",
       "     cabin_code_A  cabin_code_B  cabin_code_C  cabin_code_D  cabin_code_E  \\\n",
       "0               0             0             0             0             0   \n",
       "1               0             0             1             0             0   \n",
       "2               0             0             0             0             0   \n",
       "3               0             0             1             0             0   \n",
       "4               0             0             0             0             0   \n",
       "..            ...           ...           ...           ...           ...   \n",
       "886             0             0             0             0             0   \n",
       "887             0             1             0             0             0   \n",
       "888             0             0             0             0             0   \n",
       "889             0             0             1             0             0   \n",
       "890             0             0             0             0             0   \n",
       "\n",
       "     cabin_code_F  cabin_code_G  cabin_code_T  cabin_code_none  Embarked_C  \\\n",
       "0               0             0             0                1           0   \n",
       "1               0             0             0                0           1   \n",
       "2               0             0             0                1           0   \n",
       "3               0             0             0                0           0   \n",
       "4               0             0             0                1           0   \n",
       "..            ...           ...           ...              ...         ...   \n",
       "886             0             0             0                1           0   \n",
       "887             0             0             0                0           0   \n",
       "888             0             0             0                1           0   \n",
       "889             0             0             0                0           1   \n",
       "890             0             0             0                1           0   \n",
       "\n",
       "     Embarked_Q  Embarked_S  \n",
       "0             0           1  \n",
       "1             0           0  \n",
       "2             0           1  \n",
       "3             0           1  \n",
       "4             0           1  \n",
       "..          ...         ...  \n",
       "886           0           1  \n",
       "887           0           1  \n",
       "888           0           1  \n",
       "889           0           0  \n",
       "890           1           0  \n",
       "\n",
       "[891 rows x 19 columns]>"
      ]
     },
     "metadata": {},
     "output_type": "display_data"
    },
    {
     "ename": "KeyError",
     "evalue": "'age_bin_less than 75'",
     "output_type": "error",
     "traceback": [
      "\u001b[1;31m---------------------------------------------------------------------------\u001b[0m",
      "\u001b[1;31mKeyError\u001b[0m                                  Traceback (most recent call last)",
      "\u001b[1;32mD:\\Anaconda3\\lib\\site-packages\\pandas\\core\\indexes\\base.py\u001b[0m in \u001b[0;36mget_loc\u001b[1;34m(self, key, method, tolerance)\u001b[0m\n\u001b[0;32m   2645\u001b[0m             \u001b[1;32mtry\u001b[0m\u001b[1;33m:\u001b[0m\u001b[1;33m\u001b[0m\u001b[1;33m\u001b[0m\u001b[0m\n\u001b[1;32m-> 2646\u001b[1;33m                 \u001b[1;32mreturn\u001b[0m \u001b[0mself\u001b[0m\u001b[1;33m.\u001b[0m\u001b[0m_engine\u001b[0m\u001b[1;33m.\u001b[0m\u001b[0mget_loc\u001b[0m\u001b[1;33m(\u001b[0m\u001b[0mkey\u001b[0m\u001b[1;33m)\u001b[0m\u001b[1;33m\u001b[0m\u001b[1;33m\u001b[0m\u001b[0m\n\u001b[0m\u001b[0;32m   2647\u001b[0m             \u001b[1;32mexcept\u001b[0m \u001b[0mKeyError\u001b[0m\u001b[1;33m:\u001b[0m\u001b[1;33m\u001b[0m\u001b[1;33m\u001b[0m\u001b[0m\n",
      "\u001b[1;32mpandas\\_libs\\index.pyx\u001b[0m in \u001b[0;36mpandas._libs.index.IndexEngine.get_loc\u001b[1;34m()\u001b[0m\n",
      "\u001b[1;32mpandas\\_libs\\index.pyx\u001b[0m in \u001b[0;36mpandas._libs.index.IndexEngine.get_loc\u001b[1;34m()\u001b[0m\n",
      "\u001b[1;32mpandas\\_libs\\hashtable_class_helper.pxi\u001b[0m in \u001b[0;36mpandas._libs.hashtable.PyObjectHashTable.get_item\u001b[1;34m()\u001b[0m\n",
      "\u001b[1;32mpandas\\_libs\\hashtable_class_helper.pxi\u001b[0m in \u001b[0;36mpandas._libs.hashtable.PyObjectHashTable.get_item\u001b[1;34m()\u001b[0m\n",
      "\u001b[1;31mKeyError\u001b[0m: 'age_bin_less than 75'",
      "\nDuring handling of the above exception, another exception occurred:\n",
      "\u001b[1;31mKeyError\u001b[0m                                  Traceback (most recent call last)",
      "\u001b[1;32m<ipython-input-29-e5640b2fe580>\u001b[0m in \u001b[0;36m<module>\u001b[1;34m\u001b[0m\n\u001b[0;32m      9\u001b[0m \u001b[1;33m\u001b[0m\u001b[0m\n\u001b[0;32m     10\u001b[0m \u001b[0mX_test\u001b[0m\u001b[1;33m[\u001b[0m\u001b[1;34m'Fare'\u001b[0m\u001b[1;33m]\u001b[0m \u001b[1;33m=\u001b[0m \u001b[0mX_test\u001b[0m\u001b[1;33m[\u001b[0m\u001b[1;34m'Fare'\u001b[0m\u001b[1;33m]\u001b[0m\u001b[1;33m.\u001b[0m\u001b[0mfillna\u001b[0m\u001b[1;33m(\u001b[0m\u001b[0mvalue\u001b[0m\u001b[1;33m=\u001b[0m\u001b[1;36m10\u001b[0m\u001b[1;33m)\u001b[0m\u001b[1;33m\u001b[0m\u001b[1;33m\u001b[0m\u001b[0m\n\u001b[1;32m---> 11\u001b[1;33m \u001b[0mX_test\u001b[0m\u001b[1;33m[\u001b[0m\u001b[1;34m'age_bin_less than 75'\u001b[0m\u001b[1;33m]\u001b[0m \u001b[1;33m=\u001b[0m \u001b[0mX_test\u001b[0m\u001b[1;33m[\u001b[0m\u001b[1;34m'age_bin_less than 75'\u001b[0m\u001b[1;33m]\u001b[0m\u001b[1;33m.\u001b[0m\u001b[0mfillna\u001b[0m\u001b[1;33m(\u001b[0m\u001b[0mvalue\u001b[0m\u001b[1;33m=\u001b[0m\u001b[1;36m0\u001b[0m\u001b[1;33m)\u001b[0m\u001b[1;33m\u001b[0m\u001b[1;33m\u001b[0m\u001b[0m\n\u001b[0m\u001b[0;32m     12\u001b[0m \u001b[0mX_test\u001b[0m\u001b[1;33m[\u001b[0m\u001b[1;34m'age_bin_less than 85'\u001b[0m\u001b[1;33m]\u001b[0m \u001b[1;33m=\u001b[0m \u001b[0mX_test\u001b[0m\u001b[1;33m[\u001b[0m\u001b[1;34m'age_bin_less than 85'\u001b[0m\u001b[1;33m]\u001b[0m\u001b[1;33m.\u001b[0m\u001b[0mfillna\u001b[0m\u001b[1;33m(\u001b[0m\u001b[0mvalue\u001b[0m\u001b[1;33m=\u001b[0m\u001b[1;36m0\u001b[0m\u001b[1;33m)\u001b[0m\u001b[1;33m\u001b[0m\u001b[1;33m\u001b[0m\u001b[0m\n\u001b[0;32m     13\u001b[0m \u001b[0mX_test\u001b[0m\u001b[1;33m[\u001b[0m\u001b[1;34m'cabin_code_T'\u001b[0m\u001b[1;33m]\u001b[0m \u001b[1;33m=\u001b[0m \u001b[0mX_test\u001b[0m\u001b[1;33m[\u001b[0m\u001b[1;34m'cabin_code_T'\u001b[0m\u001b[1;33m]\u001b[0m\u001b[1;33m.\u001b[0m\u001b[0mfillna\u001b[0m\u001b[1;33m(\u001b[0m\u001b[0mvalue\u001b[0m\u001b[1;33m=\u001b[0m\u001b[1;36m0\u001b[0m\u001b[1;33m)\u001b[0m\u001b[1;33m\u001b[0m\u001b[1;33m\u001b[0m\u001b[0m\n",
      "\u001b[1;32mD:\\Anaconda3\\lib\\site-packages\\pandas\\core\\frame.py\u001b[0m in \u001b[0;36m__getitem__\u001b[1;34m(self, key)\u001b[0m\n\u001b[0;32m   2798\u001b[0m             \u001b[1;32mif\u001b[0m \u001b[0mself\u001b[0m\u001b[1;33m.\u001b[0m\u001b[0mcolumns\u001b[0m\u001b[1;33m.\u001b[0m\u001b[0mnlevels\u001b[0m \u001b[1;33m>\u001b[0m \u001b[1;36m1\u001b[0m\u001b[1;33m:\u001b[0m\u001b[1;33m\u001b[0m\u001b[1;33m\u001b[0m\u001b[0m\n\u001b[0;32m   2799\u001b[0m                 \u001b[1;32mreturn\u001b[0m \u001b[0mself\u001b[0m\u001b[1;33m.\u001b[0m\u001b[0m_getitem_multilevel\u001b[0m\u001b[1;33m(\u001b[0m\u001b[0mkey\u001b[0m\u001b[1;33m)\u001b[0m\u001b[1;33m\u001b[0m\u001b[1;33m\u001b[0m\u001b[0m\n\u001b[1;32m-> 2800\u001b[1;33m             \u001b[0mindexer\u001b[0m \u001b[1;33m=\u001b[0m \u001b[0mself\u001b[0m\u001b[1;33m.\u001b[0m\u001b[0mcolumns\u001b[0m\u001b[1;33m.\u001b[0m\u001b[0mget_loc\u001b[0m\u001b[1;33m(\u001b[0m\u001b[0mkey\u001b[0m\u001b[1;33m)\u001b[0m\u001b[1;33m\u001b[0m\u001b[1;33m\u001b[0m\u001b[0m\n\u001b[0m\u001b[0;32m   2801\u001b[0m             \u001b[1;32mif\u001b[0m \u001b[0mis_integer\u001b[0m\u001b[1;33m(\u001b[0m\u001b[0mindexer\u001b[0m\u001b[1;33m)\u001b[0m\u001b[1;33m:\u001b[0m\u001b[1;33m\u001b[0m\u001b[1;33m\u001b[0m\u001b[0m\n\u001b[0;32m   2802\u001b[0m                 \u001b[0mindexer\u001b[0m \u001b[1;33m=\u001b[0m \u001b[1;33m[\u001b[0m\u001b[0mindexer\u001b[0m\u001b[1;33m]\u001b[0m\u001b[1;33m\u001b[0m\u001b[1;33m\u001b[0m\u001b[0m\n",
      "\u001b[1;32mD:\\Anaconda3\\lib\\site-packages\\pandas\\core\\indexes\\base.py\u001b[0m in \u001b[0;36mget_loc\u001b[1;34m(self, key, method, tolerance)\u001b[0m\n\u001b[0;32m   2646\u001b[0m                 \u001b[1;32mreturn\u001b[0m \u001b[0mself\u001b[0m\u001b[1;33m.\u001b[0m\u001b[0m_engine\u001b[0m\u001b[1;33m.\u001b[0m\u001b[0mget_loc\u001b[0m\u001b[1;33m(\u001b[0m\u001b[0mkey\u001b[0m\u001b[1;33m)\u001b[0m\u001b[1;33m\u001b[0m\u001b[1;33m\u001b[0m\u001b[0m\n\u001b[0;32m   2647\u001b[0m             \u001b[1;32mexcept\u001b[0m \u001b[0mKeyError\u001b[0m\u001b[1;33m:\u001b[0m\u001b[1;33m\u001b[0m\u001b[1;33m\u001b[0m\u001b[0m\n\u001b[1;32m-> 2648\u001b[1;33m                 \u001b[1;32mreturn\u001b[0m \u001b[0mself\u001b[0m\u001b[1;33m.\u001b[0m\u001b[0m_engine\u001b[0m\u001b[1;33m.\u001b[0m\u001b[0mget_loc\u001b[0m\u001b[1;33m(\u001b[0m\u001b[0mself\u001b[0m\u001b[1;33m.\u001b[0m\u001b[0m_maybe_cast_indexer\u001b[0m\u001b[1;33m(\u001b[0m\u001b[0mkey\u001b[0m\u001b[1;33m)\u001b[0m\u001b[1;33m)\u001b[0m\u001b[1;33m\u001b[0m\u001b[1;33m\u001b[0m\u001b[0m\n\u001b[0m\u001b[0;32m   2649\u001b[0m         \u001b[0mindexer\u001b[0m \u001b[1;33m=\u001b[0m \u001b[0mself\u001b[0m\u001b[1;33m.\u001b[0m\u001b[0mget_indexer\u001b[0m\u001b[1;33m(\u001b[0m\u001b[1;33m[\u001b[0m\u001b[0mkey\u001b[0m\u001b[1;33m]\u001b[0m\u001b[1;33m,\u001b[0m \u001b[0mmethod\u001b[0m\u001b[1;33m=\u001b[0m\u001b[0mmethod\u001b[0m\u001b[1;33m,\u001b[0m \u001b[0mtolerance\u001b[0m\u001b[1;33m=\u001b[0m\u001b[0mtolerance\u001b[0m\u001b[1;33m)\u001b[0m\u001b[1;33m\u001b[0m\u001b[1;33m\u001b[0m\u001b[0m\n\u001b[0;32m   2650\u001b[0m         \u001b[1;32mif\u001b[0m \u001b[0mindexer\u001b[0m\u001b[1;33m.\u001b[0m\u001b[0mndim\u001b[0m \u001b[1;33m>\u001b[0m \u001b[1;36m1\u001b[0m \u001b[1;32mor\u001b[0m \u001b[0mindexer\u001b[0m\u001b[1;33m.\u001b[0m\u001b[0msize\u001b[0m \u001b[1;33m>\u001b[0m \u001b[1;36m1\u001b[0m\u001b[1;33m:\u001b[0m\u001b[1;33m\u001b[0m\u001b[1;33m\u001b[0m\u001b[0m\n",
      "\u001b[1;32mpandas\\_libs\\index.pyx\u001b[0m in \u001b[0;36mpandas._libs.index.IndexEngine.get_loc\u001b[1;34m()\u001b[0m\n",
      "\u001b[1;32mpandas\\_libs\\index.pyx\u001b[0m in \u001b[0;36mpandas._libs.index.IndexEngine.get_loc\u001b[1;34m()\u001b[0m\n",
      "\u001b[1;32mpandas\\_libs\\hashtable_class_helper.pxi\u001b[0m in \u001b[0;36mpandas._libs.hashtable.PyObjectHashTable.get_item\u001b[1;34m()\u001b[0m\n",
      "\u001b[1;32mpandas\\_libs\\hashtable_class_helper.pxi\u001b[0m in \u001b[0;36mpandas._libs.hashtable.PyObjectHashTable.get_item\u001b[1;34m()\u001b[0m\n",
      "\u001b[1;31mKeyError\u001b[0m: 'age_bin_less than 75'"
     ]
    }
   ],
   "source": [
    "from sklearn import tree\n",
    "y = train_data[\"Survived\"]\n",
    "features = [\"Pclass\", \"Sex\", \"age_bin\", \"SibSp\", \"Parch\", \"Fare\", \"cabin_code\", \"Embarked\"]\n",
    "\n",
    "X = pd.get_dummies(train_data[features])\n",
    "X_test = pd.get_dummies(test_data[features])\n",
    "\n",
    "X, X_test = X.align(X_test, join='left', axis=1)\n",
    "\n",
    "X_test['Fare'] = X_test['Fare'].fillna(value=10)\n",
    "X_test['age_bin_less than 75'] = X_test['age_bin_less than 75'].fillna(value=0)\n",
    "X_test['age_bin_less than 85'] = X_test['age_bin_less than 85'].fillna(value=0)\n",
    "X_test['cabin_code_T'] = X_test['cabin_code_T'].fillna(value=0)\n",
    "\n",
    "#display(X_test.isnull().any())\n",
    "\n",
    "model = tree.DecisionTreeClassifier()\n",
    "model.fit(X,y)\n",
    "predictions=model.predict(X_test)\n",
    "\n",
    "output=pd.DataFrame({'PassengerId': test_data.PassengerId, 'Survived': predictions})\n",
    "output.to_csv('my_submission.csv', index=False)\n",
    "print(\"Your submission was saved!\")"
   ]
  },
  {
   "cell_type": "code",
   "execution_count": 25,
   "metadata": {},
   "outputs": [
    {
     "data": {
      "text/plain": [
       "[Text(193.05620404411766, 211.4, 'X[4] <= 0.5\\ngini = 0.473\\nsamples = 891\\nvalue = [549, 342]'),\n",
       " Text(109.19806985294119, 199.32, 'X[15] <= 0.5\\ngini = 0.306\\nsamples = 577\\nvalue = [468, 109]'),\n",
       " Text(41.37132352941177, 187.24, 'X[3] <= 7.9\\ngini = 0.487\\nsamples = 107\\nvalue = [62, 45]'),\n",
       " Text(39.18308823529412, 175.16, 'gini = 0.0\\nsamples = 8\\nvalue = [8, 0]'),\n",
       " Text(43.559558823529414, 175.16, 'X[3] <= 26.469\\ngini = 0.496\\nsamples = 99\\nvalue = [54, 45]'),\n",
       " Text(22.429411764705886, 163.07999999999998, 'X[3] <= 26.144\\ngini = 0.426\\nsamples = 13\\nvalue = [4, 9]'),\n",
       " Text(20.241176470588236, 151.0, 'X[0] <= 1.5\\ngini = 0.494\\nsamples = 9\\nvalue = [4, 5]'),\n",
       " Text(18.05294117647059, 138.92000000000002, 'gini = 0.0\\nsamples = 2\\nvalue = [2, 0]'),\n",
       " Text(22.429411764705886, 138.92000000000002, 'X[18] <= 0.5\\ngini = 0.408\\nsamples = 7\\nvalue = [2, 5]'),\n",
       " Text(20.241176470588236, 126.84, 'gini = 0.0\\nsamples = 1\\nvalue = [1, 0]'),\n",
       " Text(24.617647058823533, 126.84, 'X[2] <= 1.5\\ngini = 0.278\\nsamples = 6\\nvalue = [1, 5]'),\n",
       " Text(22.429411764705886, 114.75999999999999, 'gini = 0.0\\nsamples = 5\\nvalue = [0, 5]'),\n",
       " Text(26.80588235294118, 114.75999999999999, 'gini = 0.0\\nsamples = 1\\nvalue = [1, 0]'),\n",
       " Text(24.617647058823533, 151.0, 'gini = 0.0\\nsamples = 4\\nvalue = [0, 4]'),\n",
       " Text(64.68970588235295, 163.07999999999998, 'X[3] <= 387.665\\ngini = 0.487\\nsamples = 86\\nvalue = [50, 36]'),\n",
       " Text(62.5014705882353, 151.0, 'X[3] <= 152.506\\ngini = 0.482\\nsamples = 84\\nvalue = [50, 34]'),\n",
       " Text(60.31323529411765, 138.92000000000002, 'X[2] <= 1.5\\ngini = 0.492\\nsamples = 78\\nvalue = [44, 34]'),\n",
       " Text(48.41470588235295, 126.84, 'X[16] <= 0.5\\ngini = 0.481\\nsamples = 72\\nvalue = [43, 29]'),\n",
       " Text(31.182352941176475, 114.75999999999999, 'X[3] <= 59.087\\ngini = 0.449\\nsamples = 47\\nvalue = [31, 16]'),\n",
       " Text(26.80588235294118, 102.67999999999999, 'X[2] <= 0.5\\ngini = 0.482\\nsamples = 37\\nvalue = [22, 15]'),\n",
       " Text(24.617647058823533, 90.6, 'X[3] <= 56.45\\ngini = 0.467\\nsamples = 35\\nvalue = [22, 13]'),\n",
       " Text(22.429411764705886, 78.52000000000001, 'X[3] <= 31.41\\ngini = 0.457\\nsamples = 34\\nvalue = [22, 12]'),\n",
       " Text(13.129411764705884, 66.44, 'X[3] <= 29.25\\ngini = 0.5\\nsamples = 14\\nvalue = [7, 7]'),\n",
       " Text(8.75294117647059, 54.359999999999985, 'X[11] <= 0.5\\ngini = 0.469\\nsamples = 8\\nvalue = [5, 3]'),\n",
       " Text(6.564705882352942, 42.28, 'X[8] <= 0.5\\ngini = 0.32\\nsamples = 5\\nvalue = [4, 1]'),\n",
       " Text(4.376470588235295, 30.19999999999999, 'X[3] <= 27.525\\ngini = 0.375\\nsamples = 4\\nvalue = [3, 1]'),\n",
       " Text(2.1882352941176473, 18.120000000000005, 'gini = 0.444\\nsamples = 3\\nvalue = [2, 1]'),\n",
       " Text(6.564705882352942, 18.120000000000005, 'gini = 0.0\\nsamples = 1\\nvalue = [1, 0]'),\n",
       " Text(8.75294117647059, 30.19999999999999, 'gini = 0.0\\nsamples = 1\\nvalue = [1, 0]'),\n",
       " Text(10.941176470588236, 42.28, 'gini = 0.444\\nsamples = 3\\nvalue = [1, 2]'),\n",
       " Text(17.50588235294118, 54.359999999999985, 'X[7] <= 0.5\\ngini = 0.444\\nsamples = 6\\nvalue = [2, 4]'),\n",
       " Text(15.317647058823532, 42.28, 'X[10] <= 0.5\\ngini = 0.48\\nsamples = 5\\nvalue = [2, 3]'),\n",
       " Text(13.129411764705884, 30.19999999999999, 'gini = 0.444\\nsamples = 3\\nvalue = [1, 2]'),\n",
       " Text(17.50588235294118, 30.19999999999999, 'gini = 0.5\\nsamples = 2\\nvalue = [1, 1]'),\n",
       " Text(19.694117647058825, 42.28, 'gini = 0.0\\nsamples = 1\\nvalue = [0, 1]'),\n",
       " Text(31.729411764705887, 66.44, 'X[1] <= 0.5\\ngini = 0.375\\nsamples = 20\\nvalue = [15, 5]'),\n",
       " Text(26.258823529411767, 54.359999999999985, 'X[3] <= 37.0\\ngini = 0.26\\nsamples = 13\\nvalue = [11, 2]'),\n",
       " Text(24.07058823529412, 42.28, 'X[3] <= 35.25\\ngini = 0.408\\nsamples = 7\\nvalue = [5, 2]'),\n",
       " Text(21.88235294117647, 30.19999999999999, 'gini = 0.0\\nsamples = 4\\nvalue = [4, 0]'),\n",
       " Text(26.258823529411767, 30.19999999999999, 'X[14] <= 0.5\\ngini = 0.444\\nsamples = 3\\nvalue = [1, 2]'),\n",
       " Text(24.07058823529412, 18.120000000000005, 'gini = 0.0\\nsamples = 2\\nvalue = [0, 2]'),\n",
       " Text(28.447058823529414, 18.120000000000005, 'gini = 0.0\\nsamples = 1\\nvalue = [1, 0]'),\n",
       " Text(28.447058823529414, 42.28, 'gini = 0.0\\nsamples = 6\\nvalue = [6, 0]'),\n",
       " Text(37.2, 54.359999999999985, 'X[3] <= 52.827\\ngini = 0.49\\nsamples = 7\\nvalue = [4, 3]'),\n",
       " Text(32.82352941176471, 42.28, 'X[8] <= 0.5\\ngini = 0.444\\nsamples = 3\\nvalue = [1, 2]'),\n",
       " Text(30.635294117647064, 30.19999999999999, 'gini = 0.0\\nsamples = 2\\nvalue = [0, 2]'),\n",
       " Text(35.01176470588236, 30.19999999999999, 'gini = 0.0\\nsamples = 1\\nvalue = [1, 0]'),\n",
       " Text(41.576470588235296, 42.28, 'X[11] <= 0.5\\ngini = 0.375\\nsamples = 4\\nvalue = [3, 1]'),\n",
       " Text(39.38823529411765, 30.19999999999999, 'gini = 0.0\\nsamples = 2\\nvalue = [2, 0]'),\n",
       " Text(43.76470588235294, 30.19999999999999, 'X[3] <= 54.5\\ngini = 0.5\\nsamples = 2\\nvalue = [1, 1]'),\n",
       " Text(41.576470588235296, 18.120000000000005, 'gini = 0.0\\nsamples = 1\\nvalue = [0, 1]'),\n",
       " Text(45.952941176470596, 18.120000000000005, 'gini = 0.0\\nsamples = 1\\nvalue = [1, 0]'),\n",
       " Text(26.80588235294118, 78.52000000000001, 'gini = 0.0\\nsamples = 1\\nvalue = [0, 1]'),\n",
       " Text(28.994117647058825, 90.6, 'gini = 0.0\\nsamples = 2\\nvalue = [0, 2]'),\n",
       " Text(35.55882352941177, 102.67999999999999, 'X[3] <= 86.737\\ngini = 0.18\\nsamples = 10\\nvalue = [9, 1]'),\n",
       " Text(33.37058823529412, 90.6, 'gini = 0.0\\nsamples = 8\\nvalue = [8, 0]'),\n",
       " Text(37.747058823529414, 90.6, 'X[17] <= 0.5\\ngini = 0.5\\nsamples = 2\\nvalue = [1, 1]'),\n",
       " Text(35.55882352941177, 78.52000000000001, 'gini = 0.0\\nsamples = 1\\nvalue = [0, 1]'),\n",
       " Text(39.93529411764706, 78.52000000000001, 'gini = 0.0\\nsamples = 1\\nvalue = [1, 0]'),\n",
       " Text(65.64705882352942, 114.75999999999999, 'X[3] <= 98.752\\ngini = 0.499\\nsamples = 25\\nvalue = [12, 13]'),\n",
       " Text(63.458823529411774, 102.67999999999999, 'X[1] <= 0.5\\ngini = 0.483\\nsamples = 22\\nvalue = [9, 13]'),\n",
       " Text(61.27058823529413, 90.6, 'X[10] <= 0.5\\ngini = 0.492\\nsamples = 16\\nvalue = [9, 7]'),\n",
       " Text(59.082352941176474, 78.52000000000001, 'X[3] <= 37.812\\ngini = 0.459\\nsamples = 14\\nvalue = [9, 5]'),\n",
       " Text(56.89411764705883, 66.44, 'X[3] <= 29.85\\ngini = 0.5\\nsamples = 10\\nvalue = [5, 5]'),\n",
       " Text(52.517647058823535, 54.359999999999985, 'X[3] <= 28.725\\ngini = 0.375\\nsamples = 4\\nvalue = [3, 1]'),\n",
       " Text(50.32941176470589, 42.28, 'gini = 0.0\\nsamples = 1\\nvalue = [1, 0]'),\n",
       " Text(54.70588235294118, 42.28, 'X[2] <= 0.5\\ngini = 0.444\\nsamples = 3\\nvalue = [2, 1]'),\n",
       " Text(52.517647058823535, 30.19999999999999, 'X[8] <= 0.5\\ngini = 0.5\\nsamples = 2\\nvalue = [1, 1]'),\n",
       " Text(50.32941176470589, 18.120000000000005, 'gini = 0.0\\nsamples = 1\\nvalue = [0, 1]'),\n",
       " Text(54.70588235294118, 18.120000000000005, 'gini = 0.0\\nsamples = 1\\nvalue = [1, 0]'),\n",
       " Text(56.89411764705883, 30.19999999999999, 'gini = 0.0\\nsamples = 1\\nvalue = [1, 0]'),\n",
       " Text(61.27058823529413, 54.359999999999985, 'X[3] <= 30.598\\ngini = 0.444\\nsamples = 6\\nvalue = [2, 4]'),\n",
       " Text(59.082352941176474, 42.28, 'gini = 0.0\\nsamples = 2\\nvalue = [0, 2]'),\n",
       " Text(63.458823529411774, 42.28, 'X[3] <= 30.848\\ngini = 0.5\\nsamples = 4\\nvalue = [2, 2]'),\n",
       " Text(61.27058823529413, 30.19999999999999, 'gini = 0.0\\nsamples = 1\\nvalue = [1, 0]'),\n",
       " Text(65.64705882352942, 30.19999999999999, 'X[3] <= 32.827\\ngini = 0.444\\nsamples = 3\\nvalue = [1, 2]'),\n",
       " Text(63.458823529411774, 18.120000000000005, 'gini = 0.0\\nsamples = 1\\nvalue = [0, 1]'),\n",
       " Text(67.83529411764707, 18.120000000000005, 'X[3] <= 35.077\\ngini = 0.5\\nsamples = 2\\nvalue = [1, 1]'),\n",
       " Text(65.64705882352942, 6.039999999999992, 'gini = 0.0\\nsamples = 1\\nvalue = [1, 0]'),\n",
       " Text(70.02352941176471, 6.039999999999992, 'gini = 0.0\\nsamples = 1\\nvalue = [0, 1]'),\n",
       " Text(61.27058823529413, 66.44, 'gini = 0.0\\nsamples = 4\\nvalue = [4, 0]'),\n",
       " Text(63.458823529411774, 78.52000000000001, 'gini = 0.0\\nsamples = 2\\nvalue = [0, 2]'),\n",
       " Text(65.64705882352942, 90.6, 'gini = 0.0\\nsamples = 6\\nvalue = [0, 6]'),\n",
       " Text(67.83529411764707, 102.67999999999999, 'gini = 0.0\\nsamples = 3\\nvalue = [3, 0]'),\n",
       " Text(72.21176470588236, 126.84, 'X[10] <= 0.5\\ngini = 0.278\\nsamples = 6\\nvalue = [1, 5]'),\n",
       " Text(70.02352941176471, 114.75999999999999, 'gini = 0.0\\nsamples = 5\\nvalue = [0, 5]'),\n",
       " Text(74.4, 114.75999999999999, 'gini = 0.0\\nsamples = 1\\nvalue = [1, 0]'),\n",
       " Text(64.68970588235295, 138.92000000000002, 'gini = 0.0\\nsamples = 6\\nvalue = [6, 0]'),\n",
       " Text(66.8779411764706, 151.0, 'gini = 0.0\\nsamples = 2\\nvalue = [0, 2]'),\n",
       " Text(177.0248161764706, 187.24, 'X[2] <= 0.5\\ngini = 0.235\\nsamples = 470\\nvalue = [406, 64]'),\n",
       " Text(152.73198529411766, 175.16, 'X[3] <= 26.275\\ngini = 0.209\\nsamples = 404\\nvalue = [356, 48]'),\n",
       " Text(132.59338235294118, 163.07999999999998, 'X[16] <= 0.5\\ngini = 0.181\\nsamples = 367\\nvalue = [330, 37]'),\n",
       " Text(114.19852941176472, 151.0, 'X[3] <= 13.25\\ngini = 0.167\\nsamples = 326\\nvalue = [296, 30]'),\n",
       " Text(100.38529411764706, 138.92000000000002, 'X[3] <= 7.91\\ngini = 0.181\\nsamples = 278\\nvalue = [250, 28]'),\n",
       " Text(88.07647058823531, 126.84, 'X[3] <= 7.865\\ngini = 0.132\\nsamples = 141\\nvalue = [131, 10]'),\n",
       " Text(85.88823529411765, 114.75999999999999, 'X[3] <= 7.746\\ngini = 0.169\\nsamples = 107\\nvalue = [97, 10]'),\n",
       " Text(78.7764705882353, 102.67999999999999, 'X[3] <= 7.196\\ngini = 0.095\\nsamples = 60\\nvalue = [57, 3]'),\n",
       " Text(76.58823529411765, 90.6, 'X[3] <= 7.133\\ngini = 0.153\\nsamples = 36\\nvalue = [33, 3]'),\n",
       " Text(74.4, 78.52000000000001, 'X[3] <= 7.01\\ngini = 0.108\\nsamples = 35\\nvalue = [33, 2]'),\n",
       " Text(72.21176470588236, 66.44, 'X[3] <= 6.962\\ngini = 0.172\\nsamples = 21\\nvalue = [19, 2]'),\n",
       " Text(70.02352941176471, 54.359999999999985, 'X[0] <= 2.5\\ngini = 0.1\\nsamples = 19\\nvalue = [18, 1]'),\n",
       " Text(67.83529411764707, 42.28, 'gini = 0.0\\nsamples = 8\\nvalue = [8, 0]'),\n",
       " Text(72.21176470588236, 42.28, 'X[3] <= 3.119\\ngini = 0.165\\nsamples = 11\\nvalue = [10, 1]'),\n",
       " Text(70.02352941176471, 30.19999999999999, 'gini = 0.375\\nsamples = 4\\nvalue = [3, 1]'),\n",
       " Text(74.4, 30.19999999999999, 'gini = 0.0\\nsamples = 7\\nvalue = [7, 0]'),\n",
       " Text(74.4, 54.359999999999985, 'gini = 0.5\\nsamples = 2\\nvalue = [1, 1]'),\n",
       " Text(76.58823529411765, 66.44, 'gini = 0.0\\nsamples = 14\\nvalue = [14, 0]'),\n",
       " Text(78.7764705882353, 78.52000000000001, 'gini = 0.0\\nsamples = 1\\nvalue = [0, 1]'),\n",
       " Text(80.96470588235294, 90.6, 'gini = 0.0\\nsamples = 24\\nvalue = [24, 0]'),\n",
       " Text(93.00000000000001, 102.67999999999999, 'X[1] <= 0.5\\ngini = 0.254\\nsamples = 47\\nvalue = [40, 7]'),\n",
       " Text(87.52941176470588, 90.6, 'X[3] <= 7.785\\ngini = 0.24\\nsamples = 43\\nvalue = [37, 6]'),\n",
       " Text(83.15294117647059, 78.52000000000001, 'X[17] <= 0.5\\ngini = 0.191\\nsamples = 28\\nvalue = [25, 3]'),\n",
       " Text(80.96470588235294, 66.44, 'X[3] <= 7.763\\ngini = 0.142\\nsamples = 13\\nvalue = [12, 1]'),\n",
       " Text(78.7764705882353, 54.359999999999985, 'gini = 0.0\\nsamples = 2\\nvalue = [2, 0]'),\n",
       " Text(83.15294117647059, 54.359999999999985, 'gini = 0.165\\nsamples = 11\\nvalue = [10, 1]'),\n",
       " Text(85.34117647058824, 66.44, 'gini = 0.231\\nsamples = 15\\nvalue = [13, 2]'),\n",
       " Text(91.90588235294119, 78.52000000000001, 'X[3] <= 7.798\\ngini = 0.32\\nsamples = 15\\nvalue = [12, 3]'),\n",
       " Text(89.71764705882354, 66.44, 'gini = 0.444\\nsamples = 6\\nvalue = [4, 2]'),\n",
       " Text(94.09411764705884, 66.44, 'X[3] <= 7.842\\ngini = 0.198\\nsamples = 9\\nvalue = [8, 1]'),\n",
       " Text(91.90588235294119, 54.359999999999985, 'gini = 0.0\\nsamples = 2\\nvalue = [2, 0]'),\n",
       " Text(96.28235294117648, 54.359999999999985, 'gini = 0.245\\nsamples = 7\\nvalue = [6, 1]'),\n",
       " Text(98.47058823529413, 90.6, 'X[3] <= 7.763\\ngini = 0.375\\nsamples = 4\\nvalue = [3, 1]'),\n",
       " Text(96.28235294117648, 78.52000000000001, 'gini = 0.0\\nsamples = 1\\nvalue = [1, 0]'),\n",
       " Text(100.65882352941178, 78.52000000000001, 'X[3] <= 7.815\\ngini = 0.444\\nsamples = 3\\nvalue = [2, 1]'),\n",
       " Text(98.47058823529413, 66.44, 'gini = 0.5\\nsamples = 2\\nvalue = [1, 1]'),\n",
       " Text(102.84705882352942, 66.44, 'gini = 0.0\\nsamples = 1\\nvalue = [1, 0]'),\n",
       " Text(90.26470588235296, 114.75999999999999, 'gini = 0.0\\nsamples = 34\\nvalue = [34, 0]'),\n",
       " Text(112.69411764705883, 126.84, 'X[3] <= 7.988\\ngini = 0.228\\nsamples = 137\\nvalue = [119, 18]'),\n",
       " Text(108.31764705882354, 114.75999999999999, 'X[1] <= 1.5\\ngini = 0.473\\nsamples = 13\\nvalue = [8, 5]'),\n",
       " Text(106.12941176470589, 102.67999999999999, 'X[1] <= 0.5\\ngini = 0.496\\nsamples = 11\\nvalue = [6, 5]'),\n",
       " Text(103.94117647058825, 90.6, 'gini = 0.48\\nsamples = 10\\nvalue = [6, 4]'),\n",
       " Text(108.31764705882354, 90.6, 'gini = 0.0\\nsamples = 1\\nvalue = [0, 1]'),\n",
       " Text(110.50588235294119, 102.67999999999999, 'gini = 0.0\\nsamples = 2\\nvalue = [2, 0]'),\n",
       " Text(117.07058823529412, 114.75999999999999, 'X[1] <= 0.5\\ngini = 0.188\\nsamples = 124\\nvalue = [111, 13]'),\n",
       " Text(114.88235294117648, 102.67999999999999, 'X[18] <= 0.5\\ngini = 0.19\\nsamples = 122\\nvalue = [109, 13]'),\n",
       " Text(112.69411764705883, 90.6, 'gini = 0.0\\nsamples = 2\\nvalue = [2, 0]'),\n",
       " Text(117.07058823529412, 90.6, 'X[3] <= 9.492\\ngini = 0.193\\nsamples = 120\\nvalue = [107, 13]'),\n",
       " Text(111.60000000000001, 78.52000000000001, 'X[3] <= 8.135\\ngini = 0.175\\nsamples = 62\\nvalue = [56, 6]'),\n",
       " Text(107.22352941176472, 66.44, 'X[3] <= 8.081\\ngini = 0.214\\nsamples = 41\\nvalue = [36, 5]'),\n",
       " Text(105.03529411764707, 54.359999999999985, 'gini = 0.18\\nsamples = 40\\nvalue = [36, 4]'),\n",
       " Text(109.41176470588236, 54.359999999999985, 'gini = 0.0\\nsamples = 1\\nvalue = [0, 1]'),\n",
       " Text(115.9764705882353, 66.44, 'X[3] <= 8.831\\ngini = 0.091\\nsamples = 21\\nvalue = [20, 1]'),\n",
       " Text(113.78823529411765, 54.359999999999985, 'X[3] <= 8.658\\ngini = 0.133\\nsamples = 14\\nvalue = [13, 1]'),\n",
       " Text(111.60000000000001, 42.28, 'gini = 0.0\\nsamples = 5\\nvalue = [5, 0]'),\n",
       " Text(115.9764705882353, 42.28, 'gini = 0.198\\nsamples = 9\\nvalue = [8, 1]'),\n",
       " Text(118.16470588235295, 54.359999999999985, 'gini = 0.0\\nsamples = 7\\nvalue = [7, 0]'),\n",
       " Text(122.54117647058825, 78.52000000000001, 'X[3] <= 9.673\\ngini = 0.212\\nsamples = 58\\nvalue = [51, 7]'),\n",
       " Text(120.3529411764706, 66.44, 'gini = 0.346\\nsamples = 9\\nvalue = [7, 2]'),\n",
       " Text(124.7294117647059, 66.44, 'X[3] <= 10.335\\ngini = 0.183\\nsamples = 49\\nvalue = [44, 5]'),\n",
       " Text(122.54117647058825, 54.359999999999985, 'gini = 0.0\\nsamples = 2\\nvalue = [2, 0]'),\n",
       " Text(126.91764705882355, 54.359999999999985, 'X[3] <= 11.0\\ngini = 0.19\\nsamples = 47\\nvalue = [42, 5]'),\n",
       " Text(124.7294117647059, 42.28, 'gini = 0.219\\nsamples = 16\\nvalue = [14, 2]'),\n",
       " Text(129.1058823529412, 42.28, 'X[3] <= 12.762\\ngini = 0.175\\nsamples = 31\\nvalue = [28, 3]'),\n",
       " Text(126.91764705882355, 30.19999999999999, 'gini = 0.0\\nsamples = 4\\nvalue = [4, 0]'),\n",
       " Text(131.29411764705884, 30.19999999999999, 'gini = 0.198\\nsamples = 27\\nvalue = [24, 3]'),\n",
       " Text(119.25882352941177, 102.67999999999999, 'gini = 0.0\\nsamples = 2\\nvalue = [2, 0]'),\n",
       " Text(128.01176470588237, 138.92000000000002, 'X[1] <= 1.5\\ngini = 0.08\\nsamples = 48\\nvalue = [46, 2]'),\n",
       " Text(123.63529411764708, 126.84, 'X[3] <= 25.962\\ngini = 0.044\\nsamples = 44\\nvalue = [43, 1]'),\n",
       " Text(121.44705882352942, 114.75999999999999, 'gini = 0.0\\nsamples = 31\\nvalue = [31, 0]'),\n",
       " Text(125.82352941176472, 114.75999999999999, 'X[1] <= 0.5\\ngini = 0.142\\nsamples = 13\\nvalue = [12, 1]'),\n",
       " Text(123.63529411764708, 102.67999999999999, 'gini = 0.0\\nsamples = 7\\nvalue = [7, 0]'),\n",
       " Text(128.01176470588237, 102.67999999999999, 'gini = 0.278\\nsamples = 6\\nvalue = [5, 1]'),\n",
       " Text(132.38823529411766, 126.84, 'X[18] <= 0.5\\ngini = 0.375\\nsamples = 4\\nvalue = [3, 1]'),\n",
       " Text(130.20000000000002, 114.75999999999999, 'gini = 0.0\\nsamples = 1\\nvalue = [0, 1]'),\n",
       " Text(134.5764705882353, 114.75999999999999, 'gini = 0.0\\nsamples = 3\\nvalue = [3, 0]'),\n",
       " Text(150.98823529411766, 151.0, 'X[3] <= 9.977\\ngini = 0.283\\nsamples = 41\\nvalue = [34, 7]'),\n",
       " Text(145.51764705882354, 138.92000000000002, 'X[3] <= 7.227\\ngini = 0.231\\nsamples = 30\\nvalue = [26, 4]'),\n",
       " Text(141.14117647058825, 126.84, 'X[3] <= 6.831\\ngini = 0.153\\nsamples = 12\\nvalue = [11, 1]'),\n",
       " Text(138.9529411764706, 114.75999999999999, 'gini = 0.0\\nsamples = 2\\nvalue = [2, 0]'),\n",
       " Text(143.3294117647059, 114.75999999999999, 'gini = 0.18\\nsamples = 10\\nvalue = [9, 1]'),\n",
       " Text(149.89411764705883, 126.84, 'X[3] <= 8.279\\ngini = 0.278\\nsamples = 18\\nvalue = [15, 3]'),\n",
       " Text(147.7058823529412, 114.75999999999999, 'X[3] <= 7.562\\ngini = 0.305\\nsamples = 16\\nvalue = [13, 3]'),\n",
       " Text(145.51764705882354, 102.67999999999999, 'gini = 0.298\\nsamples = 11\\nvalue = [9, 2]'),\n",
       " Text(149.89411764705883, 102.67999999999999, 'gini = 0.32\\nsamples = 5\\nvalue = [4, 1]'),\n",
       " Text(152.08235294117648, 114.75999999999999, 'gini = 0.0\\nsamples = 2\\nvalue = [2, 0]'),\n",
       " Text(156.45882352941177, 138.92000000000002, 'X[3] <= 14.158\\ngini = 0.397\\nsamples = 11\\nvalue = [8, 3]'),\n",
       " Text(154.27058823529413, 126.84, 'gini = 0.0\\nsamples = 2\\nvalue = [0, 2]'),\n",
       " Text(158.64705882352942, 126.84, 'X[3] <= 16.919\\ngini = 0.198\\nsamples = 9\\nvalue = [8, 1]'),\n",
       " Text(156.45882352941177, 114.75999999999999, 'gini = 0.0\\nsamples = 5\\nvalue = [5, 0]'),\n",
       " Text(160.83529411764707, 114.75999999999999, 'X[1] <= 0.5\\ngini = 0.375\\nsamples = 4\\nvalue = [3, 1]'),\n",
       " Text(158.64705882352942, 102.67999999999999, 'gini = 0.5\\nsamples = 2\\nvalue = [1, 1]'),\n",
       " Text(163.0235294117647, 102.67999999999999, 'gini = 0.0\\nsamples = 2\\nvalue = [2, 0]'),\n",
       " Text(172.87058823529412, 163.07999999999998, 'X[0] <= 2.5\\ngini = 0.418\\nsamples = 37\\nvalue = [26, 11]'),\n",
       " Text(170.68235294117648, 151.0, 'X[3] <= 26.775\\ngini = 0.32\\nsamples = 30\\nvalue = [24, 6]'),\n",
       " Text(165.21176470588236, 138.92000000000002, 'X[16] <= 0.5\\ngini = 0.49\\nsamples = 7\\nvalue = [3, 4]'),\n",
       " Text(163.0235294117647, 126.84, 'gini = 0.5\\nsamples = 6\\nvalue = [3, 3]'),\n",
       " Text(167.4, 126.84, 'gini = 0.0\\nsamples = 1\\nvalue = [0, 1]'),\n",
       " Text(176.15294117647062, 138.92000000000002, 'X[3] <= 107.91\\ngini = 0.159\\nsamples = 23\\nvalue = [21, 2]'),\n",
       " Text(171.7764705882353, 126.84, 'X[3] <= 30.598\\ngini = 0.095\\nsamples = 20\\nvalue = [19, 1]'),\n",
       " Text(169.58823529411765, 114.75999999999999, 'X[3] <= 30.285\\ngini = 0.245\\nsamples = 7\\nvalue = [6, 1]'),\n",
       " Text(167.4, 102.67999999999999, 'gini = 0.0\\nsamples = 6\\nvalue = [6, 0]'),\n",
       " Text(171.7764705882353, 102.67999999999999, 'gini = 0.0\\nsamples = 1\\nvalue = [0, 1]'),\n",
       " Text(173.96470588235294, 114.75999999999999, 'gini = 0.0\\nsamples = 13\\nvalue = [13, 0]'),\n",
       " Text(180.5294117647059, 126.84, 'X[1] <= 1.0\\ngini = 0.444\\nsamples = 3\\nvalue = [2, 1]'),\n",
       " Text(178.34117647058827, 114.75999999999999, 'gini = 0.0\\nsamples = 2\\nvalue = [2, 0]'),\n",
       " Text(182.71764705882356, 114.75999999999999, 'gini = 0.0\\nsamples = 1\\nvalue = [0, 1]'),\n",
       " Text(175.05882352941177, 151.0, 'gini = 0.408\\nsamples = 7\\nvalue = [2, 5]'),\n",
       " Text(201.31764705882355, 175.16, 'X[3] <= 20.825\\ngini = 0.367\\nsamples = 66\\nvalue = [50, 16]'),\n",
       " Text(193.6588235294118, 163.07999999999998, 'X[3] <= 8.46\\ngini = 0.499\\nsamples = 25\\nvalue = [13, 12]'),\n",
       " Text(191.47058823529414, 151.0, 'gini = 0.0\\nsamples = 4\\nvalue = [4, 0]'),\n",
       " Text(195.84705882352944, 151.0, 'X[16] <= 0.5\\ngini = 0.49\\nsamples = 21\\nvalue = [9, 12]'),\n",
       " Text(193.6588235294118, 138.92000000000002, 'X[0] <= 2.5\\ngini = 0.498\\nsamples = 17\\nvalue = [9, 8]'),\n",
       " Text(189.2823529411765, 126.84, 'X[3] <= 13.0\\ngini = 0.375\\nsamples = 4\\nvalue = [1, 3]'),\n",
       " Text(187.09411764705885, 114.75999999999999, 'gini = 0.0\\nsamples = 1\\nvalue = [1, 0]'),\n",
       " Text(191.47058823529414, 114.75999999999999, 'gini = 0.0\\nsamples = 3\\nvalue = [0, 3]'),\n",
       " Text(198.03529411764708, 126.84, 'X[3] <= 12.767\\ngini = 0.473\\nsamples = 13\\nvalue = [8, 5]'),\n",
       " Text(195.84705882352944, 114.75999999999999, 'gini = 0.0\\nsamples = 1\\nvalue = [0, 1]'),\n",
       " Text(200.22352941176473, 114.75999999999999, 'X[3] <= 15.7\\ngini = 0.444\\nsamples = 12\\nvalue = [8, 4]'),\n",
       " Text(198.03529411764708, 102.67999999999999, 'gini = 0.0\\nsamples = 3\\nvalue = [3, 0]'),\n",
       " Text(202.41176470588238, 102.67999999999999, 'X[3] <= 16.0\\ngini = 0.494\\nsamples = 9\\nvalue = [5, 4]'),\n",
       " Text(200.22352941176473, 90.6, 'gini = 0.0\\nsamples = 2\\nvalue = [0, 2]'),\n",
       " Text(204.60000000000002, 90.6, 'X[2] <= 1.5\\ngini = 0.408\\nsamples = 7\\nvalue = [5, 2]'),\n",
       " Text(202.41176470588238, 78.52000000000001, 'gini = 0.0\\nsamples = 4\\nvalue = [4, 0]'),\n",
       " Text(206.78823529411767, 78.52000000000001, 'X[3] <= 20.55\\ngini = 0.444\\nsamples = 3\\nvalue = [1, 2]'),\n",
       " Text(204.60000000000002, 66.44, 'gini = 0.0\\nsamples = 1\\nvalue = [0, 1]'),\n",
       " Text(208.97647058823532, 66.44, 'gini = 0.5\\nsamples = 2\\nvalue = [1, 1]'),\n",
       " Text(198.03529411764708, 138.92000000000002, 'gini = 0.0\\nsamples = 4\\nvalue = [0, 4]'),\n",
       " Text(208.97647058823532, 163.07999999999998, 'X[1] <= 0.5\\ngini = 0.176\\nsamples = 41\\nvalue = [37, 4]'),\n",
       " Text(204.60000000000002, 151.0, 'X[2] <= 1.5\\ngini = 0.5\\nsamples = 4\\nvalue = [2, 2]'),\n",
       " Text(202.41176470588238, 138.92000000000002, 'gini = 0.0\\nsamples = 2\\nvalue = [2, 0]'),\n",
       " Text(206.78823529411767, 138.92000000000002, 'gini = 0.0\\nsamples = 2\\nvalue = [0, 2]'),\n",
       " Text(213.3529411764706, 151.0, 'X[3] <= 31.331\\ngini = 0.102\\nsamples = 37\\nvalue = [35, 2]'),\n",
       " Text(211.16470588235296, 138.92000000000002, 'gini = 0.0\\nsamples = 16\\nvalue = [16, 0]'),\n",
       " Text(215.54117647058825, 138.92000000000002, 'X[3] <= 36.877\\ngini = 0.172\\nsamples = 21\\nvalue = [19, 2]'),\n",
       " Text(213.3529411764706, 126.84, 'X[2] <= 2.5\\ngini = 0.48\\nsamples = 5\\nvalue = [3, 2]'),\n",
       " Text(211.16470588235296, 114.75999999999999, 'X[0] <= 2.5\\ngini = 0.5\\nsamples = 4\\nvalue = [2, 2]'),\n",
       " Text(208.97647058823532, 102.67999999999999, 'gini = 0.5\\nsamples = 2\\nvalue = [1, 1]'),\n",
       " Text(213.3529411764706, 102.67999999999999, 'gini = 0.5\\nsamples = 2\\nvalue = [1, 1]'),\n",
       " Text(215.54117647058825, 114.75999999999999, 'gini = 0.0\\nsamples = 1\\nvalue = [1, 0]'),\n",
       " Text(217.7294117647059, 126.84, 'gini = 0.0\\nsamples = 16\\nvalue = [16, 0]'),\n",
       " Text(276.91433823529417, 199.32, 'X[0] <= 2.5\\ngini = 0.383\\nsamples = 314\\nvalue = [81, 233]'),\n",
       " Text(245.90294117647062, 187.24, 'X[3] <= 28.856\\ngini = 0.1\\nsamples = 170\\nvalue = [9, 161]'),\n",
       " Text(241.2529411764706, 175.16, 'X[3] <= 28.231\\ngini = 0.18\\nsamples = 70\\nvalue = [7, 63]'),\n",
       " Text(239.06470588235297, 163.07999999999998, 'X[11] <= 0.5\\ngini = 0.159\\nsamples = 69\\nvalue = [6, 63]'),\n",
       " Text(231.9529411764706, 151.0, 'X[1] <= 0.5\\ngini = 0.142\\nsamples = 65\\nvalue = [5, 60]'),\n",
       " Text(224.29411764705884, 138.92000000000002, 'X[3] <= 13.25\\ngini = 0.089\\nsamples = 43\\nvalue = [2, 41]'),\n",
       " Text(222.1058823529412, 126.84, 'X[3] <= 12.825\\ngini = 0.165\\nsamples = 22\\nvalue = [2, 20]'),\n",
       " Text(219.91764705882355, 114.75999999999999, 'gini = 0.0\\nsamples = 9\\nvalue = [0, 9]'),\n",
       " Text(224.29411764705884, 114.75999999999999, 'X[15] <= 0.5\\ngini = 0.26\\nsamples = 13\\nvalue = [2, 11]'),\n",
       " Text(222.1058823529412, 102.67999999999999, 'gini = 0.0\\nsamples = 2\\nvalue = [0, 2]'),\n",
       " Text(226.4823529411765, 102.67999999999999, 'X[2] <= 1.0\\ngini = 0.298\\nsamples = 11\\nvalue = [2, 9]'),\n",
       " Text(224.29411764705884, 90.6, 'gini = 0.32\\nsamples = 10\\nvalue = [2, 8]'),\n",
       " Text(228.67058823529413, 90.6, 'gini = 0.0\\nsamples = 1\\nvalue = [0, 1]'),\n",
       " Text(226.4823529411765, 126.84, 'gini = 0.0\\nsamples = 21\\nvalue = [0, 21]'),\n",
       " Text(239.61176470588236, 138.92000000000002, 'X[3] <= 26.125\\ngini = 0.236\\nsamples = 22\\nvalue = [3, 19]'),\n",
       " Text(237.42352941176472, 126.84, 'X[2] <= 2.0\\ngini = 0.291\\nsamples = 17\\nvalue = [3, 14]'),\n",
       " Text(235.23529411764707, 114.75999999999999, 'X[18] <= 0.5\\ngini = 0.32\\nsamples = 15\\nvalue = [3, 12]'),\n",
       " Text(233.04705882352943, 102.67999999999999, 'gini = 0.0\\nsamples = 2\\nvalue = [0, 2]'),\n",
       " Text(237.42352941176472, 102.67999999999999, 'X[3] <= 22.0\\ngini = 0.355\\nsamples = 13\\nvalue = [3, 10]'),\n",
       " Text(233.04705882352943, 90.6, 'X[1] <= 2.0\\ngini = 0.5\\nsamples = 2\\nvalue = [1, 1]'),\n",
       " Text(230.85882352941178, 78.52000000000001, 'gini = 0.0\\nsamples = 1\\nvalue = [1, 0]'),\n",
       " Text(235.23529411764707, 78.52000000000001, 'gini = 0.0\\nsamples = 1\\nvalue = [0, 1]'),\n",
       " Text(241.8, 90.6, 'X[2] <= 0.5\\ngini = 0.298\\nsamples = 11\\nvalue = [2, 9]'),\n",
       " Text(239.61176470588236, 78.52000000000001, 'gini = 0.219\\nsamples = 8\\nvalue = [1, 7]'),\n",
       " Text(243.98823529411766, 78.52000000000001, 'X[3] <= 24.5\\ngini = 0.444\\nsamples = 3\\nvalue = [1, 2]'),\n",
       " Text(241.8, 66.44, 'gini = 0.0\\nsamples = 1\\nvalue = [0, 1]'),\n",
       " Text(246.17647058823533, 66.44, 'gini = 0.5\\nsamples = 2\\nvalue = [1, 1]'),\n",
       " Text(239.61176470588236, 114.75999999999999, 'gini = 0.0\\nsamples = 2\\nvalue = [0, 2]'),\n",
       " Text(241.8, 126.84, 'gini = 0.0\\nsamples = 5\\nvalue = [0, 5]'),\n",
       " Text(246.17647058823533, 151.0, 'X[3] <= 11.425\\ngini = 0.375\\nsamples = 4\\nvalue = [1, 3]'),\n",
       " Text(243.98823529411766, 138.92000000000002, 'gini = 0.5\\nsamples = 2\\nvalue = [1, 1]'),\n",
       " Text(248.36470588235298, 138.92000000000002, 'gini = 0.0\\nsamples = 2\\nvalue = [0, 2]'),\n",
       " Text(243.44117647058826, 163.07999999999998, 'gini = 0.0\\nsamples = 1\\nvalue = [1, 0]'),\n",
       " Text(250.55294117647063, 175.16, 'X[2] <= 1.5\\ngini = 0.039\\nsamples = 100\\nvalue = [2, 98]'),\n",
       " Text(248.36470588235298, 163.07999999999998, 'gini = 0.0\\nsamples = 84\\nvalue = [0, 84]'),\n",
       " Text(252.74117647058827, 163.07999999999998, 'X[9] <= 0.5\\ngini = 0.219\\nsamples = 16\\nvalue = [2, 14]'),\n",
       " Text(250.55294117647063, 151.0, 'gini = 0.0\\nsamples = 11\\nvalue = [0, 11]'),\n",
       " Text(254.92941176470592, 151.0, 'X[3] <= 158.208\\ngini = 0.48\\nsamples = 5\\nvalue = [2, 3]'),\n",
       " Text(252.74117647058827, 138.92000000000002, 'gini = 0.0\\nsamples = 2\\nvalue = [2, 0]'),\n",
       " Text(257.11764705882354, 138.92000000000002, 'gini = 0.0\\nsamples = 3\\nvalue = [0, 3]'),\n",
       " Text(307.92573529411766, 187.24, 'X[3] <= 23.35\\ngini = 0.5\\nsamples = 144\\nvalue = [72, 72]'),\n",
       " Text(289.8044117647059, 175.16, 'X[18] <= 0.5\\ngini = 0.484\\nsamples = 117\\nvalue = [48, 69]'),\n",
       " Text(271.34117647058827, 163.07999999999998, 'X[3] <= 15.621\\ngini = 0.417\\nsamples = 54\\nvalue = [16, 38]'),\n",
       " Text(269.1529411764706, 151.0, 'X[3] <= 13.935\\ngini = 0.454\\nsamples = 46\\nvalue = [16, 30]'),\n",
       " Text(261.49411764705883, 138.92000000000002, 'X[3] <= 6.987\\ngini = 0.342\\nsamples = 32\\nvalue = [7, 25]'),\n",
       " Text(259.3058823529412, 126.84, 'gini = 0.0\\nsamples = 1\\nvalue = [1, 0]'),\n",
       " Text(263.6823529411765, 126.84, 'X[2] <= 1.5\\ngini = 0.312\\nsamples = 31\\nvalue = [6, 25]'),\n",
       " Text(261.49411764705883, 114.75999999999999, 'X[16] <= 0.5\\ngini = 0.278\\nsamples = 30\\nvalue = [5, 25]'),\n",
       " Text(259.3058823529412, 102.67999999999999, 'X[3] <= 7.681\\ngini = 0.33\\nsamples = 24\\nvalue = [5, 19]'),\n",
       " Text(257.11764705882354, 90.6, 'gini = 0.0\\nsamples = 1\\nvalue = [1, 0]'),\n",
       " Text(261.49411764705883, 90.6, 'X[3] <= 8.083\\ngini = 0.287\\nsamples = 23\\nvalue = [4, 19]'),\n",
       " Text(259.3058823529412, 78.52000000000001, 'X[3] <= 7.769\\ngini = 0.236\\nsamples = 22\\nvalue = [3, 19]'),\n",
       " Text(257.11764705882354, 66.44, 'X[3] <= 7.744\\ngini = 0.32\\nsamples = 15\\nvalue = [3, 12]'),\n",
       " Text(254.92941176470592, 54.359999999999985, 'gini = 0.0\\nsamples = 3\\nvalue = [0, 3]'),\n",
       " Text(259.3058823529412, 54.359999999999985, 'gini = 0.375\\nsamples = 12\\nvalue = [3, 9]'),\n",
       " Text(261.49411764705883, 66.44, 'gini = 0.0\\nsamples = 7\\nvalue = [0, 7]'),\n",
       " Text(263.6823529411765, 78.52000000000001, 'gini = 0.0\\nsamples = 1\\nvalue = [1, 0]'),\n",
       " Text(263.6823529411765, 102.67999999999999, 'gini = 0.0\\nsamples = 6\\nvalue = [0, 6]'),\n",
       " Text(265.8705882352941, 114.75999999999999, 'gini = 0.0\\nsamples = 1\\nvalue = [1, 0]'),\n",
       " Text(276.81176470588235, 138.92000000000002, 'X[3] <= 15.373\\ngini = 0.459\\nsamples = 14\\nvalue = [9, 5]'),\n",
       " Text(272.43529411764706, 126.84, 'X[2] <= 1.5\\ngini = 0.32\\nsamples = 10\\nvalue = [8, 2]'),\n",
       " Text(270.2470588235294, 114.75999999999999, 'X[1] <= 0.5\\ngini = 0.219\\nsamples = 8\\nvalue = [7, 1]'),\n",
       " Text(268.05882352941177, 102.67999999999999, 'gini = 0.0\\nsamples = 3\\nvalue = [3, 0]'),\n",
       " Text(272.43529411764706, 102.67999999999999, 'X[3] <= 14.456\\ngini = 0.32\\nsamples = 5\\nvalue = [4, 1]'),\n",
       " Text(270.2470588235294, 90.6, 'gini = 0.444\\nsamples = 3\\nvalue = [2, 1]'),\n",
       " Text(274.6235294117647, 90.6, 'gini = 0.0\\nsamples = 2\\nvalue = [2, 0]'),\n",
       " Text(274.6235294117647, 114.75999999999999, 'gini = 0.5\\nsamples = 2\\nvalue = [1, 1]'),\n",
       " Text(281.1882352941177, 126.84, 'X[2] <= 0.5\\ngini = 0.375\\nsamples = 4\\nvalue = [1, 3]'),\n",
       " Text(279.0, 114.75999999999999, 'gini = 0.0\\nsamples = 3\\nvalue = [0, 3]'),\n",
       " Text(283.37647058823535, 114.75999999999999, 'gini = 0.0\\nsamples = 1\\nvalue = [1, 0]'),\n",
       " Text(273.5294117647059, 151.0, 'gini = 0.0\\nsamples = 8\\nvalue = [0, 8]'),\n",
       " Text(308.26764705882357, 163.07999999999998, 'X[3] <= 10.825\\ngini = 0.5\\nsamples = 63\\nvalue = [32, 31]'),\n",
       " Text(297.0529411764706, 151.0, 'X[3] <= 7.988\\ngini = 0.482\\nsamples = 37\\nvalue = [22, 15]'),\n",
       " Text(287.75294117647064, 138.92000000000002, 'X[3] <= 7.523\\ngini = 0.495\\nsamples = 20\\nvalue = [9, 11]'),\n",
       " Text(285.564705882353, 126.84, 'gini = 0.0\\nsamples = 2\\nvalue = [0, 2]'),\n",
       " Text(289.9411764705883, 126.84, 'X[1] <= 2.5\\ngini = 0.5\\nsamples = 18\\nvalue = [9, 9]'),\n",
       " Text(287.75294117647064, 114.75999999999999, 'X[3] <= 7.7\\ngini = 0.498\\nsamples = 17\\nvalue = [9, 8]'),\n",
       " Text(282.2823529411765, 102.67999999999999, 'X[3] <= 7.6\\ngini = 0.444\\nsamples = 3\\nvalue = [1, 2]'),\n",
       " Text(280.09411764705885, 90.6, 'gini = 0.5\\nsamples = 2\\nvalue = [1, 1]'),\n",
       " Text(284.47058823529414, 90.6, 'gini = 0.0\\nsamples = 1\\nvalue = [0, 1]'),\n",
       " Text(293.22352941176473, 102.67999999999999, 'X[3] <= 7.91\\ngini = 0.49\\nsamples = 14\\nvalue = [8, 6]'),\n",
       " Text(288.84705882352944, 90.6, 'X[1] <= 0.5\\ngini = 0.48\\nsamples = 10\\nvalue = [6, 4]'),\n",
       " Text(286.6588235294118, 78.52000000000001, 'X[3] <= 7.875\\ngini = 0.444\\nsamples = 9\\nvalue = [6, 3]'),\n",
       " Text(284.47058823529414, 66.44, 'X[3] <= 7.763\\ngini = 0.469\\nsamples = 8\\nvalue = [5, 3]'),\n",
       " Text(282.2823529411765, 54.359999999999985, 'gini = 0.5\\nsamples = 2\\nvalue = [1, 1]'),\n",
       " Text(286.6588235294118, 54.359999999999985, 'X[3] <= 7.815\\ngini = 0.444\\nsamples = 6\\nvalue = [4, 2]'),\n",
       " Text(284.47058823529414, 42.28, 'gini = 0.444\\nsamples = 3\\nvalue = [2, 1]'),\n",
       " Text(288.84705882352944, 42.28, 'gini = 0.444\\nsamples = 3\\nvalue = [2, 1]'),\n",
       " Text(288.84705882352944, 66.44, 'gini = 0.0\\nsamples = 1\\nvalue = [1, 0]'),\n",
       " Text(291.0352941176471, 78.52000000000001, 'gini = 0.0\\nsamples = 1\\nvalue = [0, 1]'),\n",
       " Text(297.6, 90.6, 'X[1] <= 0.5\\ngini = 0.5\\nsamples = 4\\nvalue = [2, 2]'),\n",
       " Text(295.4117647058824, 78.52000000000001, 'gini = 0.444\\nsamples = 3\\nvalue = [1, 2]'),\n",
       " Text(299.78823529411767, 78.52000000000001, 'gini = 0.0\\nsamples = 1\\nvalue = [1, 0]'),\n",
       " Text(292.12941176470594, 114.75999999999999, 'gini = 0.0\\nsamples = 1\\nvalue = [0, 1]'),\n",
       " Text(306.3529411764706, 138.92000000000002, 'X[3] <= 8.673\\ngini = 0.36\\nsamples = 17\\nvalue = [13, 4]'),\n",
       " Text(304.16470588235296, 126.84, 'gini = 0.0\\nsamples = 4\\nvalue = [4, 0]'),\n",
       " Text(308.54117647058825, 126.84, 'X[1] <= 0.5\\ngini = 0.426\\nsamples = 13\\nvalue = [9, 4]'),\n",
       " Text(306.3529411764706, 114.75999999999999, 'X[3] <= 10.152\\ngini = 0.494\\nsamples = 9\\nvalue = [5, 4]'),\n",
       " Text(304.16470588235296, 102.67999999999999, 'X[3] <= 8.767\\ngini = 0.49\\nsamples = 7\\nvalue = [3, 4]'),\n",
       " Text(301.9764705882353, 90.6, 'gini = 0.0\\nsamples = 1\\nvalue = [0, 1]'),\n",
       " Text(306.3529411764706, 90.6, 'X[2] <= 0.5\\ngini = 0.5\\nsamples = 6\\nvalue = [3, 3]'),\n",
       " Text(304.16470588235296, 78.52000000000001, 'X[3] <= 9.84\\ngini = 0.48\\nsamples = 5\\nvalue = [3, 2]'),\n",
       " Text(301.9764705882353, 66.44, 'X[3] <= 9.219\\ngini = 0.375\\nsamples = 4\\nvalue = [3, 1]'),\n",
       " Text(299.78823529411767, 54.359999999999985, 'gini = 0.0\\nsamples = 1\\nvalue = [1, 0]'),\n",
       " Text(304.16470588235296, 54.359999999999985, 'X[3] <= 9.712\\ngini = 0.444\\nsamples = 3\\nvalue = [2, 1]'),\n",
       " Text(301.9764705882353, 42.28, 'gini = 0.5\\nsamples = 2\\nvalue = [1, 1]'),\n",
       " Text(306.3529411764706, 42.28, 'gini = 0.0\\nsamples = 1\\nvalue = [1, 0]'),\n",
       " Text(306.3529411764706, 66.44, 'gini = 0.0\\nsamples = 1\\nvalue = [0, 1]'),\n",
       " Text(308.54117647058825, 78.52000000000001, 'gini = 0.0\\nsamples = 1\\nvalue = [0, 1]'),\n",
       " Text(308.54117647058825, 102.67999999999999, 'gini = 0.0\\nsamples = 2\\nvalue = [2, 0]'),\n",
       " Text(310.7294117647059, 114.75999999999999, 'gini = 0.0\\nsamples = 4\\nvalue = [4, 0]'),\n",
       " Text(319.4823529411765, 151.0, 'X[3] <= 17.6\\ngini = 0.473\\nsamples = 26\\nvalue = [10, 16]'),\n",
       " Text(315.1058823529412, 138.92000000000002, 'X[3] <= 13.438\\ngini = 0.305\\nsamples = 16\\nvalue = [3, 13]'),\n",
       " Text(312.91764705882355, 126.84, 'gini = 0.0\\nsamples = 6\\nvalue = [0, 6]'),\n",
       " Text(317.29411764705884, 126.84, 'X[3] <= 15.175\\ngini = 0.42\\nsamples = 10\\nvalue = [3, 7]'),\n",
       " Text(315.1058823529412, 114.75999999999999, 'gini = 0.0\\nsamples = 2\\nvalue = [2, 0]'),\n",
       " Text(319.4823529411765, 114.75999999999999, 'X[3] <= 16.4\\ngini = 0.219\\nsamples = 8\\nvalue = [1, 7]'),\n",
       " Text(317.29411764705884, 102.67999999999999, 'X[3] <= 15.975\\ngini = 0.32\\nsamples = 5\\nvalue = [1, 4]'),\n",
       " Text(315.1058823529412, 90.6, 'gini = 0.0\\nsamples = 2\\nvalue = [0, 2]'),\n",
       " Text(319.4823529411765, 90.6, 'gini = 0.444\\nsamples = 3\\nvalue = [1, 2]'),\n",
       " Text(321.67058823529413, 102.67999999999999, 'gini = 0.0\\nsamples = 3\\nvalue = [0, 3]'),\n",
       " Text(323.8588235294118, 138.92000000000002, 'X[3] <= 20.231\\ngini = 0.42\\nsamples = 10\\nvalue = [7, 3]'),\n",
       " Text(321.67058823529413, 126.84, 'gini = 0.0\\nsamples = 4\\nvalue = [4, 0]'),\n",
       " Text(326.0470588235294, 126.84, 'X[3] <= 20.8\\ngini = 0.5\\nsamples = 6\\nvalue = [3, 3]'),\n",
       " Text(323.8588235294118, 114.75999999999999, 'gini = 0.0\\nsamples = 2\\nvalue = [0, 2]'),\n",
       " Text(328.2352941176471, 114.75999999999999, 'X[3] <= 21.55\\ngini = 0.375\\nsamples = 4\\nvalue = [3, 1]'),\n",
       " Text(326.0470588235294, 102.67999999999999, 'gini = 0.0\\nsamples = 3\\nvalue = [3, 0]'),\n",
       " Text(330.4235294117647, 102.67999999999999, 'gini = 0.0\\nsamples = 1\\nvalue = [0, 1]'),\n",
       " Text(326.0470588235294, 175.16, 'X[2] <= 0.5\\ngini = 0.198\\nsamples = 27\\nvalue = [24, 3]'),\n",
       " Text(323.8588235294118, 163.07999999999998, 'gini = 0.0\\nsamples = 1\\nvalue = [0, 1]'),\n",
       " Text(328.2352941176471, 163.07999999999998, 'X[3] <= 31.331\\ngini = 0.142\\nsamples = 26\\nvalue = [24, 2]'),\n",
       " Text(326.0470588235294, 151.0, 'gini = 0.0\\nsamples = 15\\nvalue = [15, 0]'),\n",
       " Text(330.4235294117647, 151.0, 'X[3] <= 32.881\\ngini = 0.298\\nsamples = 11\\nvalue = [9, 2]'),\n",
       " Text(328.2352941176471, 138.92000000000002, 'gini = 0.0\\nsamples = 2\\nvalue = [0, 2]'),\n",
       " Text(332.61176470588236, 138.92000000000002, 'gini = 0.0\\nsamples = 9\\nvalue = [9, 0]')]"
      ]
     },
     "execution_count": 25,
     "metadata": {},
     "output_type": "execute_result"
    },
    {
     "data": {
      "image/png": "[encoded data removed]",
      "text/plain": [
       "<Figure size 432x288 with 1 Axes>"
      ]
     },
     "metadata": {
      "needs_background": "light"
     },
     "output_type": "display_data"
    }
   ],
   "source": [
    "tree.plot_tree(model.fit(X,y))"
   ]
  },
  {
   "cell_type": "code",
   "execution_count": 26,
   "metadata": {},
   "outputs": [
    {
     "ename": "AttributeError",
     "evalue": "'DataFrame' object has no attribute 'feature_names'",
     "output_type": "error",
     "traceback": [
      "\u001b[1;31m---------------------------------------------------------------------------\u001b[0m",
      "\u001b[1;31mAttributeError\u001b[0m                            Traceback (most recent call last)",
      "\u001b[1;32m<ipython-input-26-f3825e8e2332>\u001b[0m in \u001b[0;36m<module>\u001b[1;34m\u001b[0m\n\u001b[0;32m      7\u001b[0m \u001b[1;33m\u001b[0m\u001b[0m\n\u001b[0;32m      8\u001b[0m \u001b[1;31m# class labels\u001b[0m\u001b[1;33m\u001b[0m\u001b[1;33m\u001b[0m\u001b[1;33m\u001b[0m\u001b[0m\n\u001b[1;32m----> 9\u001b[1;33m \u001b[0mlabels\u001b[0m \u001b[1;33m=\u001b[0m \u001b[0mtrain_data\u001b[0m\u001b[1;33m.\u001b[0m\u001b[0mfeature_names\u001b[0m\u001b[1;33m\u001b[0m\u001b[1;33m\u001b[0m\u001b[0m\n\u001b[0m\u001b[0;32m     10\u001b[0m \u001b[1;33m\u001b[0m\u001b[0m\n\u001b[0;32m     11\u001b[0m \u001b[1;31m# print dataset description\u001b[0m\u001b[1;33m\u001b[0m\u001b[1;33m\u001b[0m\u001b[1;33m\u001b[0m\u001b[0m\n",
      "\u001b[1;32mD:\\Anaconda3\\lib\\site-packages\\pandas\\core\\generic.py\u001b[0m in \u001b[0;36m__getattr__\u001b[1;34m(self, name)\u001b[0m\n\u001b[0;32m   5272\u001b[0m             \u001b[1;32mif\u001b[0m \u001b[0mself\u001b[0m\u001b[1;33m.\u001b[0m\u001b[0m_info_axis\u001b[0m\u001b[1;33m.\u001b[0m\u001b[0m_can_hold_identifiers_and_holds_name\u001b[0m\u001b[1;33m(\u001b[0m\u001b[0mname\u001b[0m\u001b[1;33m)\u001b[0m\u001b[1;33m:\u001b[0m\u001b[1;33m\u001b[0m\u001b[1;33m\u001b[0m\u001b[0m\n\u001b[0;32m   5273\u001b[0m                 \u001b[1;32mreturn\u001b[0m \u001b[0mself\u001b[0m\u001b[1;33m[\u001b[0m\u001b[0mname\u001b[0m\u001b[1;33m]\u001b[0m\u001b[1;33m\u001b[0m\u001b[1;33m\u001b[0m\u001b[0m\n\u001b[1;32m-> 5274\u001b[1;33m             \u001b[1;32mreturn\u001b[0m \u001b[0mobject\u001b[0m\u001b[1;33m.\u001b[0m\u001b[0m__getattribute__\u001b[0m\u001b[1;33m(\u001b[0m\u001b[0mself\u001b[0m\u001b[1;33m,\u001b[0m \u001b[0mname\u001b[0m\u001b[1;33m)\u001b[0m\u001b[1;33m\u001b[0m\u001b[1;33m\u001b[0m\u001b[0m\n\u001b[0m\u001b[0;32m   5275\u001b[0m \u001b[1;33m\u001b[0m\u001b[0m\n\u001b[0;32m   5276\u001b[0m     \u001b[1;32mdef\u001b[0m \u001b[0m__setattr__\u001b[0m\u001b[1;33m(\u001b[0m\u001b[0mself\u001b[0m\u001b[1;33m,\u001b[0m \u001b[0mname\u001b[0m\u001b[1;33m:\u001b[0m \u001b[0mstr\u001b[0m\u001b[1;33m,\u001b[0m \u001b[0mvalue\u001b[0m\u001b[1;33m)\u001b[0m \u001b[1;33m->\u001b[0m \u001b[1;32mNone\u001b[0m\u001b[1;33m:\u001b[0m\u001b[1;33m\u001b[0m\u001b[1;33m\u001b[0m\u001b[0m\n",
      "\u001b[1;31mAttributeError\u001b[0m: 'DataFrame' object has no attribute 'feature_names'"
     ]
    }
   ],
   "source": [
    "from sklearn.tree import DecisionTreeClassifier, export_graphviz\n",
    "from sklearn import tree\n",
    "from sklearn.datasets import load_wine\n",
    "from IPython.display import SVG\n",
    "from graphviz import Source\n",
    "from IPython.display import display\n",
    "\n",
    "# class labels\n",
    "labels = train_data.feature_names\n",
    "\n",
    "# print dataset description\n",
    "print(train_data.DESCR)\n",
    "\n",
    "graph = Source(tree.export_graphviz(model, out_file=None\n",
    "   , feature_names=labels, class_names=['0', '1'] \n",
    "   , filled = True))\n",
    "display(SVG(graph.pipe(format='svg')))"
   ]
  },
  {
   "cell_type": "code",
   "execution_count": null,
   "metadata": {},
   "outputs": [],
   "source": []
  },
  {
   "cell_type": "code",
   "execution_count": null,
   "metadata": {},
   "outputs": [],
   "source": []
  },
  {
   "cell_type": "code",
   "execution_count": null,
   "metadata": {},
   "outputs": [],
   "source": []
  },
  {
   "cell_type": "code",
   "execution_count": null,
   "metadata": {},
   "outputs": [],
   "source": []
  },
  {
   "cell_type": "code",
   "execution_count": null,
   "metadata": {},
   "outputs": [],
   "source": []
  },
  {
   "cell_type": "code",
   "execution_count": null,
   "metadata": {},
   "outputs": [],
   "source": []
  },
  {
   "cell_type": "code",
   "execution_count": null,
   "metadata": {},
   "outputs": [],
   "source": []
  },
  {
   "cell_type": "code",
   "execution_count": null,
   "metadata": {},
   "outputs": [],
   "source": []
  },
  {
   "cell_type": "code",
   "execution_count": null,
   "metadata": {},
   "outputs": [],
   "source": []
  },
  {
   "cell_type": "code",
   "execution_count": null,
   "metadata": {},
   "outputs": [],
   "source": []
  },
  {
   "cell_type": "code",
   "execution_count": null,
   "metadata": {},
   "outputs": [],
   "source": []
  },
  {
   "cell_type": "code",
   "execution_count": null,
   "metadata": {},
   "outputs": [],
   "source": []
  }
 ],
 "metadata": {
  "kernelspec": {
   "display_name": "Python 3",
   "language": "python",
   "name": "python3"
  },
  "language_info": {
   "codemirror_mode": {
    "name": "ipython",
    "version": 3
   },
   "file_extension": ".py",
   "mimetype": "text/x-python",
   "name": "python",
   "nbconvert_exporter": "python",
   "pygments_lexer": "ipython3",
   "version": "3.7.6"
  }
 },
 "nbformat": 4,
 "nbformat_minor": 4
}
