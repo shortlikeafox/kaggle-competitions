{
 "cells": [
  {
   "cell_type": "code",
   "execution_count": null,
   "metadata": {},
   "outputs": [],
   "source": [
    "#This is for the Titanic competition\n"
   ]
  },
  {
   "cell_type": "code",
   "execution_count": 52,
   "metadata": {},
   "outputs": [],
   "source": [
    "import pandas as pd\n",
    "import numpy as np\n",
    "from sklearn.linear_model import LogisticRegression"
   ]
  },
  {
   "cell_type": "code",
   "execution_count": 98,
   "metadata": {},
   "outputs": [],
   "source": [
    "train_data = pd.read_csv(\"data/train.csv\")"
   ]
  },
  {
   "cell_type": "code",
   "execution_count": 99,
   "metadata": {},
   "outputs": [
    {
     "data": {
      "text/html": [
       "<div>\n",
       "<style scoped>\n",
       "    .dataframe tbody tr th:only-of-type {\n",
       "        vertical-align: middle;\n",
       "    }\n",
       "\n",
       "    .dataframe tbody tr th {\n",
       "        vertical-align: top;\n",
       "    }\n",
       "\n",
       "    .dataframe thead th {\n",
       "        text-align: right;\n",
       "    }\n",
       "</style>\n",
       "<table border=\"1\" class=\"dataframe\">\n",
       "  <thead>\n",
       "    <tr style=\"text-align: right;\">\n",
       "      <th></th>\n",
       "      <th>PassengerId</th>\n",
       "      <th>Survived</th>\n",
       "      <th>Pclass</th>\n",
       "      <th>Name</th>\n",
       "      <th>Sex</th>\n",
       "      <th>Age</th>\n",
       "      <th>age_bin</th>\n",
       "      <th>SibSp</th>\n",
       "      <th>Parch</th>\n",
       "      <th>Ticket</th>\n",
       "      <th>Fare</th>\n",
       "      <th>Cabin</th>\n",
       "      <th>cabin_code</th>\n",
       "      <th>Embarked</th>\n",
       "    </tr>\n",
       "  </thead>\n",
       "  <tbody>\n",
       "    <tr>\n",
       "      <th>0</th>\n",
       "      <td>1</td>\n",
       "      <td>0</td>\n",
       "      <td>3</td>\n",
       "      <td>Braund, Mr. Owen Harris</td>\n",
       "      <td>male</td>\n",
       "      <td>22.0</td>\n",
       "      <td>less than 25</td>\n",
       "      <td>1</td>\n",
       "      <td>0</td>\n",
       "      <td>A/5 21171</td>\n",
       "      <td>7.2500</td>\n",
       "      <td>NaN</td>\n",
       "      <td>none</td>\n",
       "      <td>S</td>\n",
       "    </tr>\n",
       "    <tr>\n",
       "      <th>1</th>\n",
       "      <td>2</td>\n",
       "      <td>1</td>\n",
       "      <td>1</td>\n",
       "      <td>Cumings, Mrs. John Bradley (Florence Briggs Th...</td>\n",
       "      <td>female</td>\n",
       "      <td>38.0</td>\n",
       "      <td>less thank 40</td>\n",
       "      <td>1</td>\n",
       "      <td>0</td>\n",
       "      <td>PC 17599</td>\n",
       "      <td>71.2833</td>\n",
       "      <td>C85</td>\n",
       "      <td>C</td>\n",
       "      <td>C</td>\n",
       "    </tr>\n",
       "    <tr>\n",
       "      <th>2</th>\n",
       "      <td>3</td>\n",
       "      <td>1</td>\n",
       "      <td>3</td>\n",
       "      <td>Heikkinen, Miss. Laina</td>\n",
       "      <td>female</td>\n",
       "      <td>26.0</td>\n",
       "      <td>less than 30</td>\n",
       "      <td>0</td>\n",
       "      <td>0</td>\n",
       "      <td>STON/O2. 3101282</td>\n",
       "      <td>7.9250</td>\n",
       "      <td>NaN</td>\n",
       "      <td>none</td>\n",
       "      <td>S</td>\n",
       "    </tr>\n",
       "    <tr>\n",
       "      <th>3</th>\n",
       "      <td>4</td>\n",
       "      <td>1</td>\n",
       "      <td>1</td>\n",
       "      <td>Futrelle, Mrs. Jacques Heath (Lily May Peel)</td>\n",
       "      <td>female</td>\n",
       "      <td>35.0</td>\n",
       "      <td>less thank 40</td>\n",
       "      <td>1</td>\n",
       "      <td>0</td>\n",
       "      <td>113803</td>\n",
       "      <td>53.1000</td>\n",
       "      <td>C123</td>\n",
       "      <td>C</td>\n",
       "      <td>S</td>\n",
       "    </tr>\n",
       "    <tr>\n",
       "      <th>4</th>\n",
       "      <td>5</td>\n",
       "      <td>0</td>\n",
       "      <td>3</td>\n",
       "      <td>Allen, Mr. William Henry</td>\n",
       "      <td>male</td>\n",
       "      <td>35.0</td>\n",
       "      <td>less thank 40</td>\n",
       "      <td>0</td>\n",
       "      <td>0</td>\n",
       "      <td>373450</td>\n",
       "      <td>8.0500</td>\n",
       "      <td>NaN</td>\n",
       "      <td>none</td>\n",
       "      <td>S</td>\n",
       "    </tr>\n",
       "  </tbody>\n",
       "</table>\n",
       "</div>"
      ],
      "text/plain": [
       "   PassengerId  Survived  Pclass  \\\n",
       "0            1         0       3   \n",
       "1            2         1       1   \n",
       "2            3         1       3   \n",
       "3            4         1       1   \n",
       "4            5         0       3   \n",
       "\n",
       "                                                Name     Sex   Age  \\\n",
       "0                            Braund, Mr. Owen Harris    male  22.0   \n",
       "1  Cumings, Mrs. John Bradley (Florence Briggs Th...  female  38.0   \n",
       "2                             Heikkinen, Miss. Laina  female  26.0   \n",
       "3       Futrelle, Mrs. Jacques Heath (Lily May Peel)  female  35.0   \n",
       "4                           Allen, Mr. William Henry    male  35.0   \n",
       "\n",
       "         age_bin  SibSp  Parch            Ticket     Fare Cabin cabin_code  \\\n",
       "0   less than 25      1      0         A/5 21171   7.2500   NaN       none   \n",
       "1  less thank 40      1      0          PC 17599  71.2833   C85          C   \n",
       "2   less than 30      0      0  STON/O2. 3101282   7.9250   NaN       none   \n",
       "3  less thank 40      1      0            113803  53.1000  C123          C   \n",
       "4  less thank 40      0      0            373450   8.0500   NaN       none   \n",
       "\n",
       "  Embarked  \n",
       "0        S  \n",
       "1        C  \n",
       "2        S  \n",
       "3        S  \n",
       "4        S  "
      ]
     },
     "execution_count": 99,
     "metadata": {},
     "output_type": "execute_result"
    }
   ],
   "source": [
    "train_data.head()"
   ]
  },
  {
   "cell_type": "code",
   "execution_count": 113,
   "metadata": {},
   "outputs": [],
   "source": [
    "test_data = pd.read_csv(\"data/test.csv\")"
   ]
  },
  {
   "cell_type": "code",
   "execution_count": 118,
   "metadata": {
    "scrolled": true
   },
   "outputs": [
    {
     "name": "stdout",
     "output_type": "stream",
     "text": [
      "418\n"
     ]
    }
   ],
   "source": [
    "test_data.head()\n",
    "print(len(test_data))"
   ]
  },
  {
   "cell_type": "code",
   "execution_count": 7,
   "metadata": {},
   "outputs": [
    {
     "name": "stdout",
     "output_type": "stream",
     "text": [
      "Your submission was saved!\n"
     ]
    }
   ],
   "source": [
    "from sklearn.ensemble import RandomForestClassifier\n",
    "y = train_data[\"Survived\"]\n",
    "features = [\"Pclass\", \"Sex\", \"SibSp\", \"Parch\"]\n",
    "X = pd.get_dummies(train_data[features])\n",
    "X_test = pd.get_dummies(test_data[features])\n",
    "\n",
    "model = RandomForestClassifier(n_estimators=100, max_depth=5, random_state=1)\n",
    "model.fit(X,y)\n",
    "predictions = model.predict(X_test)\n",
    "\n",
    "output=pd.DataFrame({'PassengerId': test_data.PassengerId, 'Survived': predictions})\n",
    "output.to_csv('my_submission.csv', index=False)\n",
    "print(\"Your submission was saved!\")\n",
    "#.77511"
   ]
  },
  {
   "cell_type": "code",
   "execution_count": 9,
   "metadata": {},
   "outputs": [],
   "source": [
    "model = LogisticRegression()\n",
    "model.fit(X,y)\n",
    "predictions=model.predict(X_test)\n",
    "#.77033"
   ]
  },
  {
   "cell_type": "code",
   "execution_count": 10,
   "metadata": {},
   "outputs": [
    {
     "name": "stdout",
     "output_type": "stream",
     "text": [
      "Your submission was saved!\n"
     ]
    }
   ],
   "source": [
    "output=pd.DataFrame({'PassengerId': test_data.PassengerId, 'Survived': predictions})\n",
    "output.to_csv('my_submission.csv', index=False)\n",
    "print(\"Your submission was saved!\")\n"
   ]
  },
  {
   "cell_type": "code",
   "execution_count": 34,
   "metadata": {},
   "outputs": [
    {
     "name": "stdout",
     "output_type": "stream",
     "text": [
      "29.69911764705882\n"
     ]
    }
   ],
   "source": [
    "features = [\"Age\", \"Sex\", \"Pclass\"]\n",
    "avg_age = train_data[\"Age\"].mean()\n",
    "print(avg_age)"
   ]
  },
  {
   "cell_type": "code",
   "execution_count": 35,
   "metadata": {},
   "outputs": [
    {
     "name": "stdout",
     "output_type": "stream",
     "text": [
      "<bound method NDFrame.head of            Age  Pclass  Sex_female  Sex_male\n",
      "0    22.000000       3           0         1\n",
      "1    38.000000       1           1         0\n",
      "2    26.000000       3           1         0\n",
      "3    35.000000       1           1         0\n",
      "4    35.000000       3           0         1\n",
      "..         ...     ...         ...       ...\n",
      "886  27.000000       2           0         1\n",
      "887  19.000000       1           1         0\n",
      "888  29.699118       3           1         0\n",
      "889  26.000000       1           0         1\n",
      "890  32.000000       3           0         1\n",
      "\n",
      "[891 rows x 4 columns]>\n"
     ]
    }
   ],
   "source": [
    "#Lets just look at age and gender.\n",
    "X = pd.get_dummies(train_data[features])\n",
    "X = X.fillna(avg_age)\n",
    "print(X.head)\n",
    "X_test = pd.get_dummies(test_data[features])\n",
    "X_test = X_test.fillna(avg_age)"
   ]
  },
  {
   "cell_type": "code",
   "execution_count": 36,
   "metadata": {},
   "outputs": [],
   "source": [
    "model = LogisticRegression()\n",
    "model.fit(X,y)\n",
    "predictions=model.predict(X_test)"
   ]
  },
  {
   "cell_type": "code",
   "execution_count": 37,
   "metadata": {},
   "outputs": [
    {
     "name": "stdout",
     "output_type": "stream",
     "text": [
      "Your submission was saved!\n"
     ]
    }
   ],
   "source": [
    "output=pd.DataFrame({'PassengerId': test_data.PassengerId, 'Survived': predictions})\n",
    "output.to_csv('my_submission.csv', index=False)\n",
    "print(\"Your submission was saved!\")"
   ]
  },
  {
   "cell_type": "code",
   "execution_count": 39,
   "metadata": {},
   "outputs": [
    {
     "name": "stdout",
     "output_type": "stream",
     "text": [
      "Your submission was saved!\n"
     ]
    }
   ],
   "source": [
    "from sklearn.ensemble import RandomForestClassifier\n",
    "y = train_data[\"Survived\"]\n",
    "features = [\"Pclass\", \"Sex\", \"SibSp\", \"Parch\", \"Age\"]\n",
    "X = pd.get_dummies(train_data[features])\n",
    "X_test = pd.get_dummies(test_data[features])\n",
    "\n",
    "avg_age = train_data[\"Age\"].mean()\n",
    "X = X.fillna(avg_age)\n",
    "X_test = X_test.fillna(avg_age)\n",
    "\n",
    "model = RandomForestClassifier(n_estimators=100, max_depth=5, random_state=1)\n",
    "model.fit(X,y)\n",
    "predictions = model.predict(X_test)\n",
    "\n",
    "output=pd.DataFrame({'PassengerId': test_data.PassengerId, 'Survived': predictions})\n",
    "output.to_csv('my_submission.csv', index=False)\n",
    "print(\"Your submission was saved!\")\n",
    "#.77511\n",
    "\n",
    "model = LogisticRegression()\n",
    "model.fit(X,y)\n",
    "predictions=model.predict(X_test)\n",
    "#.77033"
   ]
  },
  {
   "cell_type": "code",
   "execution_count": 40,
   "metadata": {},
   "outputs": [
    {
     "name": "stdout",
     "output_type": "stream",
     "text": [
      "Your submission was saved!\n"
     ]
    }
   ],
   "source": [
    "output=pd.DataFrame({'PassengerId': test_data.PassengerId, 'Survived': predictions})\n",
    "output.to_csv('my_submission.csv', index=False)\n",
    "print(\"Your submission was saved!\")"
   ]
  },
  {
   "cell_type": "code",
   "execution_count": 41,
   "metadata": {},
   "outputs": [
    {
     "ename": "TypeError",
     "evalue": "insert() missing 2 required positional arguments: 'column' and 'value'",
     "output_type": "error",
     "traceback": [
      "\u001b[1;31m---------------------------------------------------------------------------\u001b[0m",
      "\u001b[1;31mTypeError\u001b[0m                                 Traceback (most recent call last)",
      "\u001b[1;32m<ipython-input-41-cfd4af6f8475>\u001b[0m in \u001b[0;36m<module>\u001b[1;34m\u001b[0m\n\u001b[0;32m      1\u001b[0m \u001b[1;31m#Now we are going to feature engineer the data a bit.\u001b[0m\u001b[1;33m\u001b[0m\u001b[1;33m\u001b[0m\u001b[1;33m\u001b[0m\u001b[0m\n\u001b[1;32m----> 2\u001b[1;33m \u001b[0mtrain_data\u001b[0m\u001b[1;33m.\u001b[0m\u001b[0minsert\u001b[0m\u001b[1;33m(\u001b[0m\u001b[1;34m\"test\"\u001b[0m\u001b[1;33m)\u001b[0m\u001b[1;33m\u001b[0m\u001b[1;33m\u001b[0m\u001b[0m\n\u001b[0m",
      "\u001b[1;31mTypeError\u001b[0m: insert() missing 2 required positional arguments: 'column' and 'value'"
     ]
    }
   ],
   "source": [
    "#Now we are going to feature engineer the data a bit.\n"
   ]
  },
  {
   "cell_type": "code",
   "execution_count": 47,
   "metadata": {},
   "outputs": [],
   "source": [
    "train_data[\"age_bin\"] = \"\""
   ]
  },
  {
   "cell_type": "code",
   "execution_count": 48,
   "metadata": {},
   "outputs": [
    {
     "data": {
      "text/plain": [
       "<bound method NDFrame.head of      PassengerId  Survived  Pclass  \\\n",
       "0              1         0       3   \n",
       "1              2         1       1   \n",
       "2              3         1       3   \n",
       "3              4         1       1   \n",
       "4              5         0       3   \n",
       "..           ...       ...     ...   \n",
       "886          887         0       2   \n",
       "887          888         1       1   \n",
       "888          889         0       3   \n",
       "889          890         1       1   \n",
       "890          891         0       3   \n",
       "\n",
       "                                                  Name     Sex   Age  SibSp  \\\n",
       "0                              Braund, Mr. Owen Harris    male  22.0      1   \n",
       "1    Cumings, Mrs. John Bradley (Florence Briggs Th...  female  38.0      1   \n",
       "2                               Heikkinen, Miss. Laina  female  26.0      0   \n",
       "3         Futrelle, Mrs. Jacques Heath (Lily May Peel)  female  35.0      1   \n",
       "4                             Allen, Mr. William Henry    male  35.0      0   \n",
       "..                                                 ...     ...   ...    ...   \n",
       "886                              Montvila, Rev. Juozas    male  27.0      0   \n",
       "887                       Graham, Miss. Margaret Edith  female  19.0      0   \n",
       "888           Johnston, Miss. Catherine Helen \"Carrie\"  female   NaN      1   \n",
       "889                              Behr, Mr. Karl Howell    male  26.0      0   \n",
       "890                                Dooley, Mr. Patrick    male  32.0      0   \n",
       "\n",
       "     Parch            Ticket     Fare Cabin Embarked age_bin  \n",
       "0        0         A/5 21171   7.2500   NaN        S          \n",
       "1        0          PC 17599  71.2833   C85        C          \n",
       "2        0  STON/O2. 3101282   7.9250   NaN        S          \n",
       "3        0            113803  53.1000  C123        S          \n",
       "4        0            373450   8.0500   NaN        S          \n",
       "..     ...               ...      ...   ...      ...     ...  \n",
       "886      0            211536  13.0000   NaN        S          \n",
       "887      0            112053  30.0000   B42        S          \n",
       "888      2        W./C. 6607  23.4500   NaN        S          \n",
       "889      0            111369  30.0000  C148        C          \n",
       "890      0            370376   7.7500   NaN        Q          \n",
       "\n",
       "[891 rows x 13 columns]>"
      ]
     },
     "execution_count": 48,
     "metadata": {},
     "output_type": "execute_result"
    }
   ],
   "source": [
    "train_data.head"
   ]
  },
  {
   "cell_type": "code",
   "execution_count": 95,
   "metadata": {},
   "outputs": [
    {
     "ename": "TypeError",
     "evalue": "cannot convert the series to <class 'float'>",
     "output_type": "error",
     "traceback": [
      "\u001b[1;31m---------------------------------------------------------------------------\u001b[0m",
      "\u001b[1;31mTypeError\u001b[0m                                 Traceback (most recent call last)",
      "\u001b[1;32m<ipython-input-95-72cc9c50cfa6>\u001b[0m in \u001b[0;36m<module>\u001b[1;34m\u001b[0m\n\u001b[0;32m      1\u001b[0m \u001b[0mtrain_data\u001b[0m\u001b[1;33m[\u001b[0m\u001b[1;34m'Age'\u001b[0m\u001b[1;33m]\u001b[0m \u001b[1;33m=\u001b[0m \u001b[0mnp\u001b[0m\u001b[1;33m.\u001b[0m\u001b[0mwhere\u001b[0m\u001b[1;33m(\u001b[0m\u001b[1;33m(\u001b[0m\u001b[0mtrain_data\u001b[0m\u001b[1;33m.\u001b[0m\u001b[0mAge\u001b[0m \u001b[1;33m==\u001b[0m \u001b[1;34m'nan'\u001b[0m\u001b[1;33m)\u001b[0m\u001b[1;33m,\u001b[0m \u001b[1;34m'unknown'\u001b[0m\u001b[1;33m,\u001b[0m \u001b[0mtrain_data\u001b[0m\u001b[1;33m.\u001b[0m\u001b[0mAge\u001b[0m\u001b[1;33m)\u001b[0m\u001b[1;33m\u001b[0m\u001b[1;33m\u001b[0m\u001b[0m\n\u001b[1;32m----> 2\u001b[1;33m \u001b[0mtrain_data\u001b[0m\u001b[1;33m[\u001b[0m\u001b[1;34m'Age'\u001b[0m\u001b[1;33m]\u001b[0m \u001b[1;33m=\u001b[0m \u001b[0mnp\u001b[0m\u001b[1;33m.\u001b[0m\u001b[0mwhere\u001b[0m\u001b[1;33m(\u001b[0m\u001b[1;33m(\u001b[0m\u001b[0mfloat\u001b[0m\u001b[1;33m(\u001b[0m\u001b[0mtrain_data\u001b[0m\u001b[1;33m.\u001b[0m\u001b[0mAge\u001b[0m\u001b[1;33m)\u001b[0m \u001b[1;33m<\u001b[0m \u001b[1;36m5\u001b[0m \u001b[1;33m)\u001b[0m\u001b[1;33m,\u001b[0m \u001b[1;34m'Less than 5'\u001b[0m\u001b[1;33m,\u001b[0m \u001b[0mtrain_data\u001b[0m\u001b[1;33m.\u001b[0m\u001b[0mAge\u001b[0m\u001b[1;33m)\u001b[0m\u001b[1;33m\u001b[0m\u001b[1;33m\u001b[0m\u001b[0m\n\u001b[0m",
      "\u001b[1;32mD:\\Anaconda3\\lib\\site-packages\\pandas\\core\\series.py\u001b[0m in \u001b[0;36mwrapper\u001b[1;34m(self)\u001b[0m\n\u001b[0;32m    110\u001b[0m         \u001b[1;32mif\u001b[0m \u001b[0mlen\u001b[0m\u001b[1;33m(\u001b[0m\u001b[0mself\u001b[0m\u001b[1;33m)\u001b[0m \u001b[1;33m==\u001b[0m \u001b[1;36m1\u001b[0m\u001b[1;33m:\u001b[0m\u001b[1;33m\u001b[0m\u001b[1;33m\u001b[0m\u001b[0m\n\u001b[0;32m    111\u001b[0m             \u001b[1;32mreturn\u001b[0m \u001b[0mconverter\u001b[0m\u001b[1;33m(\u001b[0m\u001b[0mself\u001b[0m\u001b[1;33m.\u001b[0m\u001b[0miloc\u001b[0m\u001b[1;33m[\u001b[0m\u001b[1;36m0\u001b[0m\u001b[1;33m]\u001b[0m\u001b[1;33m)\u001b[0m\u001b[1;33m\u001b[0m\u001b[1;33m\u001b[0m\u001b[0m\n\u001b[1;32m--> 112\u001b[1;33m         \u001b[1;32mraise\u001b[0m \u001b[0mTypeError\u001b[0m\u001b[1;33m(\u001b[0m\u001b[1;34mf\"cannot convert the series to {converter}\"\u001b[0m\u001b[1;33m)\u001b[0m\u001b[1;33m\u001b[0m\u001b[1;33m\u001b[0m\u001b[0m\n\u001b[0m\u001b[0;32m    113\u001b[0m \u001b[1;33m\u001b[0m\u001b[0m\n\u001b[0;32m    114\u001b[0m     \u001b[0mwrapper\u001b[0m\u001b[1;33m.\u001b[0m\u001b[0m__name__\u001b[0m \u001b[1;33m=\u001b[0m \u001b[1;34mf\"__{converter.__name__}__\"\u001b[0m\u001b[1;33m\u001b[0m\u001b[1;33m\u001b[0m\u001b[0m\n",
      "\u001b[1;31mTypeError\u001b[0m: cannot convert the series to <class 'float'>"
     ]
    }
   ],
   "source": [
    "train_data['Age'] = np.where((train_data.Age == 'nan'), 'unknown', train_data.Age)\n",
    "train_data['Age'] = np.where((float(train_data.Age) < 5 ), 'Less than 5', train_data.Age)\n"
   ]
  },
  {
   "cell_type": "code",
   "execution_count": 94,
   "metadata": {},
   "outputs": [
    {
     "data": {
      "text/plain": [
       "<bound method NDFrame.head of      PassengerId  Survived  Pclass  \\\n",
       "0              1         0       3   \n",
       "1              2         1       1   \n",
       "2              3         1       3   \n",
       "3              4         1       1   \n",
       "4              5         0       3   \n",
       "..           ...       ...     ...   \n",
       "886          887         0       2   \n",
       "887          888         1       1   \n",
       "888          889         0       3   \n",
       "889          890         1       1   \n",
       "890          891         0       3   \n",
       "\n",
       "                                                  Name     Sex      Age  \\\n",
       "0                              Braund, Mr. Owen Harris    male     23.0   \n",
       "1    Cumings, Mrs. John Bradley (Florence Briggs Th...  female     38.0   \n",
       "2                               Heikkinen, Miss. Laina  female     26.0   \n",
       "3         Futrelle, Mrs. Jacques Heath (Lily May Peel)  female     35.0   \n",
       "4                             Allen, Mr. William Henry    male     35.0   \n",
       "..                                                 ...     ...      ...   \n",
       "886                              Montvila, Rev. Juozas    male     27.0   \n",
       "887                       Graham, Miss. Margaret Edith  female     19.0   \n",
       "888           Johnston, Miss. Catherine Helen \"Carrie\"  female  unknown   \n",
       "889                              Behr, Mr. Karl Howell    male     26.0   \n",
       "890                                Dooley, Mr. Patrick    male     32.0   \n",
       "\n",
       "     SibSp  Parch            Ticket     Fare Cabin Embarked age_bin  \n",
       "0        1      0         A/5 21171   7.2500   NaN        S    22.0  \n",
       "1        1      0          PC 17599  71.2833   C85        C    38.0  \n",
       "2        0      0  STON/O2. 3101282   7.9250   NaN        S    26.0  \n",
       "3        1      0            113803  53.1000  C123        S    35.0  \n",
       "4        0      0            373450   8.0500   NaN        S    35.0  \n",
       "..     ...    ...               ...      ...   ...      ...     ...  \n",
       "886      0      0            211536  13.0000   NaN        S    27.0  \n",
       "887      0      0            112053  30.0000   B42        S    19.0  \n",
       "888      1      2        W./C. 6607  23.4500   NaN        S     nan  \n",
       "889      0      0            111369  30.0000  C148        C    26.0  \n",
       "890      0      0            370376   7.7500   NaN        Q    32.0  \n",
       "\n",
       "[891 rows x 13 columns]>"
      ]
     },
     "execution_count": 94,
     "metadata": {},
     "output_type": "execute_result"
    }
   ],
   "source": [
    "train_data.head"
   ]
  },
  {
   "cell_type": "code",
   "execution_count": 101,
   "metadata": {},
   "outputs": [
    {
     "name": "stdout",
     "output_type": "stream",
     "text": [
      "Your submission was saved!\n"
     ]
    }
   ],
   "source": [
    "from sklearn.ensemble import RandomForestClassifier\n",
    "y = train_data[\"Survived\"]\n",
    "features = [\"Pclass\", \"Sex\", \"SibSp\", \"Parch\", \"Age\"]\n",
    "X = pd.get_dummies(train_data[features])\n",
    "X_test = pd.get_dummies(test_data[features])\n",
    "\n",
    "avg_age = train_data[\"Age\"].mean()\n",
    "X = X.fillna(avg_age)\n",
    "X_test = X_test.fillna(avg_age)\n",
    "\n",
    "model = RandomForestClassifier(n_estimators=100, max_depth=5, random_state=1)\n",
    "model.fit(X,y)\n",
    "predictions = model.predict(X_test)\n",
    "\n",
    "output=pd.DataFrame({'PassengerId': test_data.PassengerId, 'Survived': predictions})\n",
    "output.to_csv('my_submission.csv', index=False)\n",
    "print(\"Your submission was saved!\")\n",
    "#.77511\n",
    "\n",
    "model = LogisticRegression()\n",
    "model.fit(X,y)\n",
    "predictions=model.predict(X_test)\n",
    "#.77033"
   ]
  },
  {
   "cell_type": "code",
   "execution_count": 126,
   "metadata": {},
   "outputs": [
    {
     "ename": "ValueError",
     "evalue": "Input contains NaN, infinity or a value too large for dtype('float32').",
     "output_type": "error",
     "traceback": [
      "\u001b[1;31m---------------------------------------------------------------------------\u001b[0m",
      "\u001b[1;31mValueError\u001b[0m                                Traceback (most recent call last)",
      "\u001b[1;32m<ipython-input-126-d39103b1897d>\u001b[0m in \u001b[0;36m<module>\u001b[1;34m\u001b[0m\n\u001b[0;32m      6\u001b[0m \u001b[0mmodel\u001b[0m \u001b[1;33m=\u001b[0m \u001b[0mtree\u001b[0m\u001b[1;33m.\u001b[0m\u001b[0mDecisionTreeClassifier\u001b[0m\u001b[1;33m(\u001b[0m\u001b[1;33m)\u001b[0m\u001b[1;33m\u001b[0m\u001b[1;33m\u001b[0m\u001b[0m\n\u001b[0;32m      7\u001b[0m \u001b[0mmodel\u001b[0m\u001b[1;33m.\u001b[0m\u001b[0mfit\u001b[0m\u001b[1;33m(\u001b[0m\u001b[0mX\u001b[0m\u001b[1;33m,\u001b[0m\u001b[0my\u001b[0m\u001b[1;33m)\u001b[0m\u001b[1;33m\u001b[0m\u001b[1;33m\u001b[0m\u001b[0m\n\u001b[1;32m----> 8\u001b[1;33m \u001b[0mpredictions\u001b[0m\u001b[1;33m=\u001b[0m\u001b[0mmodel\u001b[0m\u001b[1;33m.\u001b[0m\u001b[0mpredict\u001b[0m\u001b[1;33m(\u001b[0m\u001b[0mX_test\u001b[0m\u001b[1;33m)\u001b[0m\u001b[1;33m\u001b[0m\u001b[1;33m\u001b[0m\u001b[0m\n\u001b[0m",
      "\u001b[1;32mD:\\Anaconda3\\lib\\site-packages\\sklearn\\tree\\_classes.py\u001b[0m in \u001b[0;36mpredict\u001b[1;34m(self, X, check_input)\u001b[0m\n\u001b[0;32m    417\u001b[0m         \"\"\"\n\u001b[0;32m    418\u001b[0m         \u001b[0mcheck_is_fitted\u001b[0m\u001b[1;33m(\u001b[0m\u001b[0mself\u001b[0m\u001b[1;33m)\u001b[0m\u001b[1;33m\u001b[0m\u001b[1;33m\u001b[0m\u001b[0m\n\u001b[1;32m--> 419\u001b[1;33m         \u001b[0mX\u001b[0m \u001b[1;33m=\u001b[0m \u001b[0mself\u001b[0m\u001b[1;33m.\u001b[0m\u001b[0m_validate_X_predict\u001b[0m\u001b[1;33m(\u001b[0m\u001b[0mX\u001b[0m\u001b[1;33m,\u001b[0m \u001b[0mcheck_input\u001b[0m\u001b[1;33m)\u001b[0m\u001b[1;33m\u001b[0m\u001b[1;33m\u001b[0m\u001b[0m\n\u001b[0m\u001b[0;32m    420\u001b[0m         \u001b[0mproba\u001b[0m \u001b[1;33m=\u001b[0m \u001b[0mself\u001b[0m\u001b[1;33m.\u001b[0m\u001b[0mtree_\u001b[0m\u001b[1;33m.\u001b[0m\u001b[0mpredict\u001b[0m\u001b[1;33m(\u001b[0m\u001b[0mX\u001b[0m\u001b[1;33m)\u001b[0m\u001b[1;33m\u001b[0m\u001b[1;33m\u001b[0m\u001b[0m\n\u001b[0;32m    421\u001b[0m         \u001b[0mn_samples\u001b[0m \u001b[1;33m=\u001b[0m \u001b[0mX\u001b[0m\u001b[1;33m.\u001b[0m\u001b[0mshape\u001b[0m\u001b[1;33m[\u001b[0m\u001b[1;36m0\u001b[0m\u001b[1;33m]\u001b[0m\u001b[1;33m\u001b[0m\u001b[1;33m\u001b[0m\u001b[0m\n",
      "\u001b[1;32mD:\\Anaconda3\\lib\\site-packages\\sklearn\\tree\\_classes.py\u001b[0m in \u001b[0;36m_validate_X_predict\u001b[1;34m(self, X, check_input)\u001b[0m\n\u001b[0;32m    378\u001b[0m         \u001b[1;34m\"\"\"Validate X whenever one tries to predict, apply, predict_proba\"\"\"\u001b[0m\u001b[1;33m\u001b[0m\u001b[1;33m\u001b[0m\u001b[0m\n\u001b[0;32m    379\u001b[0m         \u001b[1;32mif\u001b[0m \u001b[0mcheck_input\u001b[0m\u001b[1;33m:\u001b[0m\u001b[1;33m\u001b[0m\u001b[1;33m\u001b[0m\u001b[0m\n\u001b[1;32m--> 380\u001b[1;33m             \u001b[0mX\u001b[0m \u001b[1;33m=\u001b[0m \u001b[0mcheck_array\u001b[0m\u001b[1;33m(\u001b[0m\u001b[0mX\u001b[0m\u001b[1;33m,\u001b[0m \u001b[0mdtype\u001b[0m\u001b[1;33m=\u001b[0m\u001b[0mDTYPE\u001b[0m\u001b[1;33m,\u001b[0m \u001b[0maccept_sparse\u001b[0m\u001b[1;33m=\u001b[0m\u001b[1;34m\"csr\"\u001b[0m\u001b[1;33m)\u001b[0m\u001b[1;33m\u001b[0m\u001b[1;33m\u001b[0m\u001b[0m\n\u001b[0m\u001b[0;32m    381\u001b[0m             if issparse(X) and (X.indices.dtype != np.intc or\n\u001b[0;32m    382\u001b[0m                                 X.indptr.dtype != np.intc):\n",
      "\u001b[1;32mD:\\Anaconda3\\lib\\site-packages\\sklearn\\utils\\validation.py\u001b[0m in \u001b[0;36mcheck_array\u001b[1;34m(array, accept_sparse, accept_large_sparse, dtype, order, copy, force_all_finite, ensure_2d, allow_nd, ensure_min_samples, ensure_min_features, warn_on_dtype, estimator)\u001b[0m\n\u001b[0;32m    576\u001b[0m         \u001b[1;32mif\u001b[0m \u001b[0mforce_all_finite\u001b[0m\u001b[1;33m:\u001b[0m\u001b[1;33m\u001b[0m\u001b[1;33m\u001b[0m\u001b[0m\n\u001b[0;32m    577\u001b[0m             _assert_all_finite(array,\n\u001b[1;32m--> 578\u001b[1;33m                                allow_nan=force_all_finite == 'allow-nan')\n\u001b[0m\u001b[0;32m    579\u001b[0m \u001b[1;33m\u001b[0m\u001b[0m\n\u001b[0;32m    580\u001b[0m     \u001b[1;32mif\u001b[0m \u001b[0mensure_min_samples\u001b[0m \u001b[1;33m>\u001b[0m \u001b[1;36m0\u001b[0m\u001b[1;33m:\u001b[0m\u001b[1;33m\u001b[0m\u001b[1;33m\u001b[0m\u001b[0m\n",
      "\u001b[1;32mD:\\Anaconda3\\lib\\site-packages\\sklearn\\utils\\validation.py\u001b[0m in \u001b[0;36m_assert_all_finite\u001b[1;34m(X, allow_nan, msg_dtype)\u001b[0m\n\u001b[0;32m     58\u001b[0m                     \u001b[0mmsg_err\u001b[0m\u001b[1;33m.\u001b[0m\u001b[0mformat\u001b[0m\u001b[1;33m\u001b[0m\u001b[1;33m\u001b[0m\u001b[0m\n\u001b[0;32m     59\u001b[0m                     (type_err,\n\u001b[1;32m---> 60\u001b[1;33m                      msg_dtype if msg_dtype is not None else X.dtype)\n\u001b[0m\u001b[0;32m     61\u001b[0m             )\n\u001b[0;32m     62\u001b[0m     \u001b[1;31m# for object dtype data, we only check for NaNs (GH-13254)\u001b[0m\u001b[1;33m\u001b[0m\u001b[1;33m\u001b[0m\u001b[1;33m\u001b[0m\u001b[0m\n",
      "\u001b[1;31mValueError\u001b[0m: Input contains NaN, infinity or a value too large for dtype('float32')."
     ]
    }
   ],
   "source": [
    "from sklearn import tree\n",
    "y = train_data[\"Survived\"]\n",
    "features = [\"Pclass\", \"Sex\", \"age_bin\", \"SibSp\", \"Parch\", \"Fare\", \"cabin_code\", \"Embarked\"]\n",
    "X = pd.get_dummies(train_data[features])\n",
    "X_test = pd.get_dummies(test_data[features])\n",
    "model = tree.DecisionTreeClassifier()\n",
    "model.fit(X,y)\n",
    "predictions=model.predict(X_test)"
   ]
  },
  {
   "cell_type": "code",
   "execution_count": 156,
   "metadata": {},
   "outputs": [
    {
     "name": "stdout",
     "output_type": "stream",
     "text": [
      "Your submission was saved!\n"
     ]
    }
   ],
   "source": [
    "from sklearn import tree\n",
    "y = train_data[\"Survived\"]\n",
    "features = [\"Pclass\", \"Sex\", \"age_bin\", \"SibSp\", \"Parch\", \"Fare\", \"cabin_code\", \"Embarked\"]\n",
    "\n",
    "X = pd.get_dummies(train_data[features])\n",
    "X_test = pd.get_dummies(test_data[features])\n",
    "\n",
    "X, X_test = X.align(X_test, join='left', axis=1)\n",
    "\n",
    "X_test['Fare'] = X_test['Fare'].fillna(value=10)\n",
    "X_test['age_bin_less than 75'] = X_test['age_bin_less than 75'].fillna(value=0)\n",
    "X_test['age_bin_less than 85'] = X_test['age_bin_less than 85'].fillna(value=0)\n",
    "X_test['cabin_code_T'] = X_test['cabin_code_T'].fillna(value=0)\n",
    "\n",
    "#display(X_test.isnull().any())\n",
    "\n",
    "model = tree.DecisionTreeClassifier()\n",
    "model.fit(X,y)\n",
    "predictions=model.predict(X_test)\n",
    "\n",
    "output=pd.DataFrame({'PassengerId': test_data.PassengerId, 'Survived': predictions})\n",
    "output.to_csv('my_submission.csv', index=False)\n",
    "print(\"Your submission was saved!\")"
   ]
  },
  {
   "cell_type": "code",
   "execution_count": 109,
   "metadata": {},
   "outputs": [
    {
     "data": {
      "text/plain": [
       "[Text(145.6774694973287, 212.26285714285714, 'X[5] <= 0.5\\ngini = 0.473\\nsamples = 891\\nvalue = [549, 342]'),\n",
       " Text(56.07445725915875, 201.90857142857143, 'X[0] <= 2.5\\ngini = 0.383\\nsamples = 314\\nvalue = [81, 233]'),\n",
       " Text(25.4393487109905, 191.5542857142857, 'X[9] <= 0.5\\ngini = 0.1\\nsamples = 170\\nvalue = [9, 161]'),\n",
       " Text(16.353867028493895, 181.2, 'X[3] <= 13.25\\ngini = 0.075\\nsamples = 153\\nvalue = [6, 147]'),\n",
       " Text(9.085481682496608, 170.84571428571428, 'X[15] <= 0.5\\ngini = 0.245\\nsamples = 21\\nvalue = [3, 18]'),\n",
       " Text(7.268385345997286, 160.49142857142857, 'X[21] <= 0.5\\ngini = 0.18\\nsamples = 20\\nvalue = [2, 18]'),\n",
       " Text(3.634192672998643, 150.13714285714286, 'X[8] <= 0.5\\ngini = 0.111\\nsamples = 17\\nvalue = [1, 16]'),\n",
       " Text(1.8170963364993216, 139.78285714285715, 'gini = 0.0\\nsamples = 14\\nvalue = [0, 14]'),\n",
       " Text(5.451289009497964, 139.78285714285715, 'X[31] <= 0.5\\ngini = 0.444\\nsamples = 3\\nvalue = [1, 2]'),\n",
       " Text(3.634192672998643, 129.42857142857144, 'gini = 0.0\\nsamples = 1\\nvalue = [0, 1]'),\n",
       " Text(7.268385345997286, 129.42857142857144, 'X[3] <= 11.75\\ngini = 0.5\\nsamples = 2\\nvalue = [1, 1]'),\n",
       " Text(5.451289009497964, 119.07428571428571, 'gini = 0.0\\nsamples = 1\\nvalue = [0, 1]'),\n",
       " Text(9.085481682496608, 119.07428571428571, 'gini = 0.0\\nsamples = 1\\nvalue = [1, 0]'),\n",
       " Text(10.902578018995928, 150.13714285714286, 'X[26] <= 0.5\\ngini = 0.444\\nsamples = 3\\nvalue = [1, 2]'),\n",
       " Text(9.085481682496608, 139.78285714285715, 'gini = 0.5\\nsamples = 2\\nvalue = [1, 1]'),\n",
       " Text(12.71967435549525, 139.78285714285715, 'gini = 0.0\\nsamples = 1\\nvalue = [0, 1]'),\n",
       " Text(10.902578018995928, 160.49142857142857, 'gini = 0.0\\nsamples = 1\\nvalue = [1, 0]'),\n",
       " Text(23.62225237449118, 170.84571428571428, 'X[12] <= 0.5\\ngini = 0.044\\nsamples = 132\\nvalue = [3, 129]'),\n",
       " Text(19.98805970149254, 160.49142857142857, 'X[3] <= 28.856\\ngini = 0.031\\nsamples = 127\\nvalue = [2, 125]'),\n",
       " Text(18.170963364993217, 150.13714285714286, 'X[3] <= 28.231\\ngini = 0.111\\nsamples = 34\\nvalue = [2, 32]'),\n",
       " Text(16.353867028493895, 139.78285714285715, 'X[11] <= 0.5\\ngini = 0.059\\nsamples = 33\\nvalue = [1, 32]'),\n",
       " Text(14.536770691994573, 129.42857142857144, 'gini = 0.0\\nsamples = 28\\nvalue = [0, 28]'),\n",
       " Text(18.170963364993217, 129.42857142857144, 'X[1] <= 0.5\\ngini = 0.32\\nsamples = 5\\nvalue = [1, 4]'),\n",
       " Text(16.353867028493895, 119.07428571428571, 'gini = 0.0\\nsamples = 3\\nvalue = [0, 3]'),\n",
       " Text(19.98805970149254, 119.07428571428571, 'gini = 0.5\\nsamples = 2\\nvalue = [1, 1]'),\n",
       " Text(19.98805970149254, 139.78285714285715, 'gini = 0.0\\nsamples = 1\\nvalue = [1, 0]'),\n",
       " Text(21.805156037991857, 150.13714285714286, 'gini = 0.0\\nsamples = 93\\nvalue = [0, 93]'),\n",
       " Text(27.256445047489823, 160.49142857142857, 'X[25] <= 0.5\\ngini = 0.32\\nsamples = 5\\nvalue = [1, 4]'),\n",
       " Text(25.4393487109905, 150.13714285714286, 'gini = 0.0\\nsamples = 4\\nvalue = [0, 4]'),\n",
       " Text(29.073541383989145, 150.13714285714286, 'gini = 0.0\\nsamples = 1\\nvalue = [1, 0]'),\n",
       " Text(34.52483039348711, 181.2, 'X[2] <= 1.5\\ngini = 0.291\\nsamples = 17\\nvalue = [3, 14]'),\n",
       " Text(32.70773405698779, 170.84571428571428, 'X[1] <= 0.5\\ngini = 0.219\\nsamples = 16\\nvalue = [2, 14]'),\n",
       " Text(30.890637720488467, 160.49142857142857, 'gini = 0.0\\nsamples = 8\\nvalue = [0, 8]'),\n",
       " Text(34.52483039348711, 160.49142857142857, 'X[32] <= 0.5\\ngini = 0.375\\nsamples = 8\\nvalue = [2, 6]'),\n",
       " Text(32.70773405698779, 150.13714285714286, 'X[3] <= 23.5\\ngini = 0.444\\nsamples = 6\\nvalue = [2, 4]'),\n",
       " Text(30.890637720488467, 139.78285714285715, 'gini = 0.0\\nsamples = 1\\nvalue = [1, 0]'),\n",
       " Text(34.52483039348711, 139.78285714285715, 'X[2] <= 0.5\\ngini = 0.32\\nsamples = 5\\nvalue = [1, 4]'),\n",
       " Text(32.70773405698779, 129.42857142857144, 'gini = 0.0\\nsamples = 3\\nvalue = [0, 3]'),\n",
       " Text(36.34192672998643, 129.42857142857144, 'X[3] <= 28.0\\ngini = 0.5\\nsamples = 2\\nvalue = [1, 1]'),\n",
       " Text(34.52483039348711, 119.07428571428571, 'gini = 0.0\\nsamples = 1\\nvalue = [1, 0]'),\n",
       " Text(38.15902306648575, 119.07428571428571, 'gini = 0.0\\nsamples = 1\\nvalue = [0, 1]'),\n",
       " Text(36.34192672998643, 150.13714285714286, 'gini = 0.0\\nsamples = 2\\nvalue = [0, 2]'),\n",
       " Text(36.34192672998643, 170.84571428571428, 'gini = 0.0\\nsamples = 1\\nvalue = [1, 0]'),\n",
       " Text(86.709565807327, 191.5542857142857, 'X[3] <= 23.35\\ngini = 0.5\\nsamples = 144\\nvalue = [72, 72]'),\n",
       " Text(68.02754409769335, 181.2, 'X[34] <= 0.5\\ngini = 0.484\\nsamples = 117\\nvalue = [48, 69]'),\n",
       " Text(50.878697421981, 170.84571428571428, 'X[10] <= 0.5\\ngini = 0.417\\nsamples = 54\\nvalue = [16, 38]'),\n",
       " Text(49.06160108548168, 160.49142857142857, 'X[3] <= 15.373\\ngini = 0.393\\nsamples = 52\\nvalue = [14, 38]'),\n",
       " Text(47.24450474898236, 150.13714285714286, 'X[3] <= 13.935\\ngini = 0.45\\nsamples = 41\\nvalue = [14, 27]'),\n",
       " Text(41.793215739484395, 139.78285714285715, 'X[3] <= 6.987\\ngini = 0.312\\nsamples = 31\\nvalue = [6, 25]'),\n",
       " Text(39.97611940298508, 129.42857142857144, 'gini = 0.0\\nsamples = 1\\nvalue = [1, 0]'),\n",
       " Text(43.610312075983714, 129.42857142857144, 'X[2] <= 1.5\\ngini = 0.278\\nsamples = 30\\nvalue = [5, 25]'),\n",
       " Text(41.793215739484395, 119.07428571428571, 'X[8] <= 0.5\\ngini = 0.238\\nsamples = 29\\nvalue = [4, 25]'),\n",
       " Text(39.97611940298508, 108.72, 'X[3] <= 8.083\\ngini = 0.198\\nsamples = 27\\nvalue = [3, 24]'),\n",
       " Text(35.433378561736774, 98.36571428571429, 'X[3] <= 7.681\\ngini = 0.153\\nsamples = 24\\nvalue = [2, 22]'),\n",
       " Text(31.799185888738126, 88.01142857142858, 'X[3] <= 7.429\\ngini = 0.32\\nsamples = 5\\nvalue = [1, 4]'),\n",
       " Text(29.982089552238804, 77.65714285714284, 'gini = 0.0\\nsamples = 4\\nvalue = [0, 4]'),\n",
       " Text(33.61628222523745, 77.65714285714284, 'gini = 0.0\\nsamples = 1\\nvalue = [1, 0]'),\n",
       " Text(39.06757123473541, 88.01142857142858, 'X[3] <= 7.769\\ngini = 0.1\\nsamples = 19\\nvalue = [1, 18]'),\n",
       " Text(37.25047489823609, 77.65714285714284, 'X[3] <= 7.744\\ngini = 0.153\\nsamples = 12\\nvalue = [1, 11]'),\n",
       " Text(35.433378561736774, 67.30285714285714, 'gini = 0.0\\nsamples = 3\\nvalue = [0, 3]'),\n",
       " Text(39.06757123473541, 67.30285714285714, 'X[7] <= 0.5\\ngini = 0.198\\nsamples = 9\\nvalue = [1, 8]'),\n",
       " Text(37.25047489823609, 56.94857142857143, 'gini = 0.219\\nsamples = 8\\nvalue = [1, 7]'),\n",
       " Text(40.884667571234736, 56.94857142857143, 'gini = 0.0\\nsamples = 1\\nvalue = [0, 1]'),\n",
       " Text(40.884667571234736, 77.65714285714284, 'gini = 0.0\\nsamples = 7\\nvalue = [0, 7]'),\n",
       " Text(44.51886024423338, 98.36571428571429, 'X[33] <= 0.5\\ngini = 0.444\\nsamples = 3\\nvalue = [1, 2]'),\n",
       " Text(42.701763907734055, 88.01142857142858, 'gini = 0.0\\nsamples = 2\\nvalue = [0, 2]'),\n",
       " Text(46.3359565807327, 88.01142857142858, 'gini = 0.0\\nsamples = 1\\nvalue = [1, 0]'),\n",
       " Text(43.610312075983714, 108.72, 'gini = 0.5\\nsamples = 2\\nvalue = [1, 1]'),\n",
       " Text(45.42740841248304, 119.07428571428571, 'gini = 0.0\\nsamples = 1\\nvalue = [1, 0]'),\n",
       " Text(52.69579375848033, 139.78285714285715, 'X[9] <= 0.5\\ngini = 0.32\\nsamples = 10\\nvalue = [8, 2]'),\n",
       " Text(50.878697421981, 129.42857142857144, 'X[7] <= 0.5\\ngini = 0.198\\nsamples = 9\\nvalue = [8, 1]'),\n",
       " Text(49.06160108548168, 119.07428571428571, 'gini = 0.0\\nsamples = 6\\nvalue = [6, 0]'),\n",
       " Text(52.69579375848033, 119.07428571428571, 'X[1] <= 0.5\\ngini = 0.444\\nsamples = 3\\nvalue = [2, 1]'),\n",
       " Text(50.878697421981, 108.72, 'gini = 0.0\\nsamples = 2\\nvalue = [2, 0]'),\n",
       " Text(54.512890094979646, 108.72, 'gini = 0.0\\nsamples = 1\\nvalue = [0, 1]'),\n",
       " Text(54.512890094979646, 129.42857142857144, 'gini = 0.0\\nsamples = 1\\nvalue = [0, 1]'),\n",
       " Text(50.878697421981, 150.13714285714286, 'gini = 0.0\\nsamples = 11\\nvalue = [0, 11]'),\n",
       " Text(52.69579375848033, 160.49142857142857, 'gini = 0.0\\nsamples = 2\\nvalue = [2, 0]'),\n",
       " Text(85.1763907734057, 170.84571428571428, 'X[3] <= 10.825\\ngini = 0.5\\nsamples = 63\\nvalue = [32, 31]'),\n",
       " Text(75.86377204884667, 160.49142857142857, 'X[7] <= 0.5\\ngini = 0.482\\nsamples = 37\\nvalue = [22, 15]'),\n",
       " Text(68.14111261872456, 150.13714285714286, 'X[3] <= 7.988\\ngini = 0.437\\nsamples = 31\\nvalue = [21, 10]'),\n",
       " Text(61.781275440976934, 139.78285714285715, 'X[8] <= 0.5\\ngini = 0.5\\nsamples = 16\\nvalue = [8, 8]'),\n",
       " Text(58.14708276797829, 129.42857142857144, 'X[9] <= 0.5\\ngini = 0.42\\nsamples = 10\\nvalue = [7, 3]'),\n",
       " Text(56.32998643147897, 119.07428571428571, 'gini = 0.0\\nsamples = 4\\nvalue = [4, 0]'),\n",
       " Text(59.96417910447761, 119.07428571428571, 'X[3] <= 7.815\\ngini = 0.5\\nsamples = 6\\nvalue = [3, 3]'),\n",
       " Text(58.14708276797829, 108.72, 'gini = 0.0\\nsamples = 1\\nvalue = [1, 0]'),\n",
       " Text(61.781275440976934, 108.72, 'X[1] <= 0.5\\ngini = 0.48\\nsamples = 5\\nvalue = [2, 3]'),\n",
       " Text(59.96417910447761, 98.36571428571429, 'X[3] <= 7.91\\ngini = 0.375\\nsamples = 4\\nvalue = [1, 3]'),\n",
       " Text(58.14708276797829, 88.01142857142858, 'X[3] <= 7.875\\ngini = 0.5\\nsamples = 2\\nvalue = [1, 1]'),\n",
       " Text(56.32998643147897, 77.65714285714284, 'gini = 0.0\\nsamples = 1\\nvalue = [0, 1]'),\n",
       " Text(59.96417910447761, 77.65714285714284, 'gini = 0.0\\nsamples = 1\\nvalue = [1, 0]'),\n",
       " Text(61.781275440976934, 88.01142857142858, 'gini = 0.0\\nsamples = 2\\nvalue = [0, 2]'),\n",
       " Text(63.59837177747625, 98.36571428571429, 'gini = 0.0\\nsamples = 1\\nvalue = [1, 0]'),\n",
       " Text(65.41546811397558, 129.42857142857144, 'X[3] <= 7.85\\ngini = 0.278\\nsamples = 6\\nvalue = [1, 5]'),\n",
       " Text(63.59837177747625, 119.07428571428571, 'gini = 0.0\\nsamples = 5\\nvalue = [0, 5]'),\n",
       " Text(67.2325644504749, 119.07428571428571, 'gini = 0.0\\nsamples = 1\\nvalue = [1, 0]'),\n",
       " Text(74.50094979647218, 139.78285714285715, 'X[16] <= 0.5\\ngini = 0.231\\nsamples = 15\\nvalue = [13, 2]'),\n",
       " Text(72.68385345997287, 129.42857142857144, 'X[10] <= 0.5\\ngini = 0.133\\nsamples = 14\\nvalue = [13, 1]'),\n",
       " Text(70.86675712347355, 119.07428571428571, 'gini = 0.0\\nsamples = 12\\nvalue = [12, 0]'),\n",
       " Text(74.50094979647218, 119.07428571428571, 'X[3] <= 8.673\\ngini = 0.5\\nsamples = 2\\nvalue = [1, 1]'),\n",
       " Text(72.68385345997287, 108.72, 'gini = 0.0\\nsamples = 1\\nvalue = [1, 0]'),\n",
       " Text(76.3180461329715, 108.72, 'gini = 0.0\\nsamples = 1\\nvalue = [0, 1]'),\n",
       " Text(76.3180461329715, 129.42857142857144, 'gini = 0.0\\nsamples = 1\\nvalue = [0, 1]'),\n",
       " Text(83.58643147896879, 150.13714285714286, 'X[3] <= 7.815\\ngini = 0.278\\nsamples = 6\\nvalue = [1, 5]'),\n",
       " Text(81.76933514246947, 139.78285714285715, 'X[3] <= 7.635\\ngini = 0.5\\nsamples = 2\\nvalue = [1, 1]'),\n",
       " Text(79.95223880597015, 129.42857142857144, 'gini = 0.0\\nsamples = 1\\nvalue = [0, 1]'),\n",
       " Text(83.58643147896879, 129.42857142857144, 'gini = 0.0\\nsamples = 1\\nvalue = [1, 0]'),\n",
       " Text(85.40352781546811, 139.78285714285715, 'gini = 0.0\\nsamples = 4\\nvalue = [0, 4]'),\n",
       " Text(94.48900949796472, 160.49142857142857, 'X[3] <= 17.6\\ngini = 0.473\\nsamples = 26\\nvalue = [10, 16]'),\n",
       " Text(90.85481682496608, 150.13714285714286, 'X[13] <= 0.5\\ngini = 0.305\\nsamples = 16\\nvalue = [3, 13]'),\n",
       " Text(89.03772048846676, 139.78285714285715, 'X[9] <= 0.5\\ngini = 0.231\\nsamples = 15\\nvalue = [2, 13]'),\n",
       " Text(87.22062415196743, 129.42857142857144, 'gini = 0.0\\nsamples = 11\\nvalue = [0, 11]'),\n",
       " Text(90.85481682496608, 129.42857142857144, 'X[3] <= 13.438\\ngini = 0.5\\nsamples = 4\\nvalue = [2, 2]'),\n",
       " Text(89.03772048846676, 119.07428571428571, 'gini = 0.0\\nsamples = 2\\nvalue = [0, 2]'),\n",
       " Text(92.6719131614654, 119.07428571428571, 'gini = 0.0\\nsamples = 2\\nvalue = [2, 0]'),\n",
       " Text(92.6719131614654, 139.78285714285715, 'gini = 0.0\\nsamples = 1\\nvalue = [1, 0]'),\n",
       " Text(98.12320217096337, 150.13714285714286, 'X[3] <= 20.231\\ngini = 0.42\\nsamples = 10\\nvalue = [7, 3]'),\n",
       " Text(96.30610583446405, 139.78285714285715, 'gini = 0.0\\nsamples = 4\\nvalue = [4, 0]'),\n",
       " Text(99.94029850746269, 139.78285714285715, 'X[3] <= 20.8\\ngini = 0.5\\nsamples = 6\\nvalue = [3, 3]'),\n",
       " Text(98.12320217096337, 129.42857142857144, 'gini = 0.0\\nsamples = 2\\nvalue = [0, 2]'),\n",
       " Text(101.757394843962, 129.42857142857144, 'X[3] <= 21.55\\ngini = 0.375\\nsamples = 4\\nvalue = [3, 1]'),\n",
       " Text(99.94029850746269, 119.07428571428571, 'gini = 0.0\\nsamples = 3\\nvalue = [3, 0]'),\n",
       " Text(103.57449118046132, 119.07428571428571, 'gini = 0.0\\nsamples = 1\\nvalue = [0, 1]'),\n",
       " Text(105.39158751696066, 181.2, 'X[2] <= 0.5\\ngini = 0.198\\nsamples = 27\\nvalue = [24, 3]'),\n",
       " Text(103.57449118046132, 170.84571428571428, 'gini = 0.0\\nsamples = 1\\nvalue = [0, 1]'),\n",
       " Text(107.20868385345997, 170.84571428571428, 'X[21] <= 0.5\\ngini = 0.142\\nsamples = 26\\nvalue = [24, 2]'),\n",
       " Text(103.57449118046132, 160.49142857142857, 'X[6] <= 0.5\\ngini = 0.083\\nsamples = 23\\nvalue = [22, 1]'),\n",
       " Text(101.757394843962, 150.13714285714286, 'gini = 0.0\\nsamples = 18\\nvalue = [18, 0]'),\n",
       " Text(105.39158751696066, 150.13714285714286, 'X[3] <= 31.331\\ngini = 0.32\\nsamples = 5\\nvalue = [4, 1]'),\n",
       " Text(103.57449118046132, 139.78285714285715, 'gini = 0.0\\nsamples = 3\\nvalue = [3, 0]'),\n",
       " Text(107.20868385345997, 139.78285714285715, 'X[1] <= 3.0\\ngini = 0.5\\nsamples = 2\\nvalue = [1, 1]'),\n",
       " Text(105.39158751696066, 129.42857142857144, 'gini = 0.0\\nsamples = 1\\nvalue = [1, 0]'),\n",
       " Text(109.02578018995929, 129.42857142857144, 'gini = 0.0\\nsamples = 1\\nvalue = [0, 1]'),\n",
       " Text(110.84287652645861, 160.49142857142857, 'X[3] <= 31.331\\ngini = 0.444\\nsamples = 3\\nvalue = [2, 1]'),\n",
       " Text(109.02578018995929, 150.13714285714286, 'gini = 0.0\\nsamples = 2\\nvalue = [2, 0]'),\n",
       " Text(112.65997286295794, 150.13714285714286, 'gini = 0.0\\nsamples = 1\\nvalue = [0, 1]'),\n",
       " Text(235.28048173549865, 201.90857142857143, 'X[31] <= 0.5\\ngini = 0.306\\nsamples = 577\\nvalue = [468, 109]'),\n",
       " Text(155.361736770692, 191.5542857142857, 'X[12] <= 0.5\\ngini = 0.487\\nsamples = 107\\nvalue = [62, 45]'),\n",
       " Text(153.54464043419267, 181.2, 'X[3] <= 7.9\\ngini = 0.477\\nsamples = 102\\nvalue = [62, 40]'),\n",
       " Text(151.72754409769334, 170.84571428571428, 'gini = 0.0\\nsamples = 8\\nvalue = [8, 0]'),\n",
       " Text(155.361736770692, 170.84571428571428, 'X[9] <= 0.5\\ngini = 0.489\\nsamples = 94\\nvalue = [54, 40]'),\n",
       " Text(138.09932157394843, 160.49142857142857, 'X[3] <= 31.66\\ngini = 0.477\\nsamples = 84\\nvalue = [51, 33]'),\n",
       " Text(124.0168249660787, 150.13714285714286, 'X[27] <= 0.5\\ngini = 0.498\\nsamples = 30\\nvalue = [14, 16]'),\n",
       " Text(117.20271370420625, 139.78285714285715, 'X[3] <= 29.85\\ngini = 0.48\\nsamples = 20\\nvalue = [12, 8]'),\n",
       " Text(112.65997286295794, 129.42857142857144, 'X[10] <= 0.5\\ngini = 0.278\\nsamples = 12\\nvalue = [10, 2]'),\n",
       " Text(109.02578018995929, 119.07428571428571, 'X[3] <= 29.1\\ngini = 0.18\\nsamples = 10\\nvalue = [9, 1]'),\n",
       " Text(107.20868385345997, 108.72, 'gini = 0.0\\nsamples = 7\\nvalue = [7, 0]'),\n",
       " Text(110.84287652645861, 108.72, 'X[22] <= 0.5\\ngini = 0.444\\nsamples = 3\\nvalue = [2, 1]'),\n",
       " Text(109.02578018995929, 98.36571428571429, 'gini = 0.0\\nsamples = 2\\nvalue = [2, 0]'),\n",
       " Text(112.65997286295794, 98.36571428571429, 'gini = 0.0\\nsamples = 1\\nvalue = [0, 1]'),\n",
       " Text(116.29416553595658, 119.07428571428571, 'X[34] <= 0.5\\ngini = 0.5\\nsamples = 2\\nvalue = [1, 1]'),\n",
       " Text(114.47706919945726, 108.72, 'gini = 0.0\\nsamples = 1\\nvalue = [1, 0]'),\n",
       " Text(118.1112618724559, 108.72, 'gini = 0.0\\nsamples = 1\\nvalue = [0, 1]'),\n",
       " Text(121.74545454545455, 129.42857142857144, 'X[15] <= 0.5\\ngini = 0.375\\nsamples = 8\\nvalue = [2, 6]'),\n",
       " Text(119.92835820895522, 119.07428571428571, 'gini = 0.0\\nsamples = 6\\nvalue = [0, 6]'),\n",
       " Text(123.56255088195387, 119.07428571428571, 'gini = 0.0\\nsamples = 2\\nvalue = [2, 0]'),\n",
       " Text(130.83093622795116, 139.78285714285715, 'X[17] <= 0.5\\ngini = 0.32\\nsamples = 10\\nvalue = [2, 8]'),\n",
       " Text(129.01383989145182, 129.42857142857144, 'X[13] <= 0.5\\ngini = 0.198\\nsamples = 9\\nvalue = [1, 8]'),\n",
       " Text(127.1967435549525, 119.07428571428571, 'gini = 0.0\\nsamples = 7\\nvalue = [0, 7]'),\n",
       " Text(130.83093622795116, 119.07428571428571, 'X[3] <= 26.069\\ngini = 0.5\\nsamples = 2\\nvalue = [1, 1]'),\n",
       " Text(129.01383989145182, 108.72, 'gini = 0.0\\nsamples = 1\\nvalue = [1, 0]'),\n",
       " Text(132.64803256445046, 108.72, 'gini = 0.0\\nsamples = 1\\nvalue = [0, 1]'),\n",
       " Text(132.64803256445046, 129.42857142857144, 'gini = 0.0\\nsamples = 1\\nvalue = [1, 0]'),\n",
       " Text(152.1818181818182, 150.13714285714286, 'X[3] <= 387.665\\ngini = 0.431\\nsamples = 54\\nvalue = [37, 17]'),\n",
       " Text(150.36472184531885, 139.78285714285715, 'X[1] <= 0.5\\ngini = 0.411\\nsamples = 52\\nvalue = [37, 15]'),\n",
       " Text(142.64206241519673, 129.42857142857144, 'X[7] <= 0.5\\ngini = 0.26\\nsamples = 26\\nvalue = [22, 4]'),\n",
       " Text(140.82496607869743, 119.07428571428571, 'X[15] <= 0.5\\ngini = 0.211\\nsamples = 25\\nvalue = [22, 3]'),\n",
       " Text(136.28222523744913, 108.72, 'X[8] <= 0.5\\ngini = 0.159\\nsamples = 23\\nvalue = [21, 2]'),\n",
       " Text(132.64803256445046, 98.36571428571429, 'X[25] <= 0.5\\ngini = 0.1\\nsamples = 19\\nvalue = [18, 1]'),\n",
       " Text(130.83093622795116, 88.01142857142858, 'gini = 0.0\\nsamples = 14\\nvalue = [14, 0]'),\n",
       " Text(134.4651289009498, 88.01142857142858, 'X[3] <= 43.75\\ngini = 0.32\\nsamples = 5\\nvalue = [4, 1]'),\n",
       " Text(132.64803256445046, 77.65714285714284, 'X[3] <= 35.25\\ngini = 0.5\\nsamples = 2\\nvalue = [1, 1]'),\n",
       " Text(130.83093622795116, 67.30285714285714, 'gini = 0.0\\nsamples = 1\\nvalue = [1, 0]'),\n",
       " Text(134.4651289009498, 67.30285714285714, 'gini = 0.0\\nsamples = 1\\nvalue = [0, 1]'),\n",
       " Text(136.28222523744913, 77.65714285714284, 'gini = 0.0\\nsamples = 3\\nvalue = [3, 0]'),\n",
       " Text(139.91641791044776, 98.36571428571429, 'X[3] <= 70.323\\ngini = 0.375\\nsamples = 4\\nvalue = [3, 1]'),\n",
       " Text(138.09932157394843, 88.01142857142858, 'gini = 0.0\\nsamples = 1\\nvalue = [0, 1]'),\n",
       " Text(141.7335142469471, 88.01142857142858, 'gini = 0.0\\nsamples = 3\\nvalue = [3, 0]'),\n",
       " Text(145.36770691994573, 108.72, 'X[26] <= 0.5\\ngini = 0.5\\nsamples = 2\\nvalue = [1, 1]'),\n",
       " Text(143.5506105834464, 98.36571428571429, 'gini = 0.0\\nsamples = 1\\nvalue = [0, 1]'),\n",
       " Text(147.18480325644504, 98.36571428571429, 'gini = 0.0\\nsamples = 1\\nvalue = [1, 0]'),\n",
       " Text(144.45915875169607, 119.07428571428571, 'gini = 0.0\\nsamples = 1\\nvalue = [0, 1]'),\n",
       " Text(158.08738127544098, 129.42857142857144, 'X[25] <= 0.5\\ngini = 0.488\\nsamples = 26\\nvalue = [15, 11]'),\n",
       " Text(154.45318860244234, 119.07428571428571, 'X[27] <= 0.5\\ngini = 0.49\\nsamples = 14\\nvalue = [6, 8]'),\n",
       " Text(152.636092265943, 108.72, 'X[7] <= 0.5\\ngini = 0.397\\nsamples = 11\\nvalue = [3, 8]'),\n",
       " Text(150.8189959294437, 98.36571428571429, 'X[3] <= 52.277\\ngini = 0.32\\nsamples = 10\\nvalue = [2, 8]'),\n",
       " Text(149.00189959294437, 88.01142857142858, 'gini = 0.0\\nsamples = 1\\nvalue = [1, 0]'),\n",
       " Text(152.636092265943, 88.01142857142858, 'X[18] <= 0.5\\ngini = 0.198\\nsamples = 9\\nvalue = [1, 8]'),\n",
       " Text(150.8189959294437, 77.65714285714284, 'gini = 0.0\\nsamples = 8\\nvalue = [0, 8]'),\n",
       " Text(154.45318860244234, 77.65714285714284, 'gini = 0.0\\nsamples = 1\\nvalue = [1, 0]'),\n",
       " Text(154.45318860244234, 98.36571428571429, 'gini = 0.0\\nsamples = 1\\nvalue = [1, 0]'),\n",
       " Text(156.27028493894164, 108.72, 'gini = 0.0\\nsamples = 3\\nvalue = [3, 0]'),\n",
       " Text(161.7215739484396, 119.07428571428571, 'X[3] <= 52.55\\ngini = 0.375\\nsamples = 12\\nvalue = [9, 3]'),\n",
       " Text(159.9044776119403, 108.72, 'gini = 0.0\\nsamples = 1\\nvalue = [0, 1]'),\n",
       " Text(163.53867028493895, 108.72, 'X[3] <= 98.213\\ngini = 0.298\\nsamples = 11\\nvalue = [9, 2]'),\n",
       " Text(161.7215739484396, 98.36571428571429, 'X[3] <= 86.29\\ngini = 0.444\\nsamples = 6\\nvalue = [4, 2]'),\n",
       " Text(159.9044776119403, 88.01142857142858, 'gini = 0.0\\nsamples = 3\\nvalue = [3, 0]'),\n",
       " Text(163.53867028493895, 88.01142857142858, 'X[1] <= 1.5\\ngini = 0.444\\nsamples = 3\\nvalue = [1, 2]'),\n",
       " Text(161.7215739484396, 77.65714285714284, 'gini = 0.0\\nsamples = 2\\nvalue = [0, 2]'),\n",
       " Text(165.35576662143825, 77.65714285714284, 'gini = 0.0\\nsamples = 1\\nvalue = [1, 0]'),\n",
       " Text(165.35576662143825, 98.36571428571429, 'gini = 0.0\\nsamples = 5\\nvalue = [5, 0]'),\n",
       " Text(153.9989145183175, 139.78285714285715, 'gini = 0.0\\nsamples = 2\\nvalue = [0, 2]'),\n",
       " Text(172.62415196743555, 160.49142857142857, 'X[2] <= 1.0\\ngini = 0.42\\nsamples = 10\\nvalue = [3, 7]'),\n",
       " Text(170.80705563093622, 150.13714285714286, 'X[32] <= 0.5\\ngini = 0.346\\nsamples = 9\\nvalue = [2, 7]'),\n",
       " Text(168.98995929443691, 139.78285714285715, 'X[3] <= 59.85\\ngini = 0.48\\nsamples = 5\\nvalue = [2, 3]'),\n",
       " Text(167.17286295793758, 129.42857142857144, 'X[26] <= 0.5\\ngini = 0.375\\nsamples = 4\\nvalue = [1, 3]'),\n",
       " Text(165.35576662143825, 119.07428571428571, 'gini = 0.0\\nsamples = 3\\nvalue = [0, 3]'),\n",
       " Text(168.98995929443691, 119.07428571428571, 'gini = 0.0\\nsamples = 1\\nvalue = [1, 0]'),\n",
       " Text(170.80705563093622, 129.42857142857144, 'gini = 0.0\\nsamples = 1\\nvalue = [1, 0]'),\n",
       " Text(172.62415196743555, 139.78285714285715, 'gini = 0.0\\nsamples = 4\\nvalue = [0, 4]'),\n",
       " Text(174.44124830393486, 150.13714285714286, 'gini = 0.0\\nsamples = 1\\nvalue = [1, 0]'),\n",
       " Text(157.1788331071913, 181.2, 'gini = 0.0\\nsamples = 5\\nvalue = [0, 5]'),\n",
       " Text(315.1992267003053, 191.5542857142857, 'X[12] <= 0.5\\ngini = 0.235\\nsamples = 470\\nvalue = [406, 64]'),\n",
       " Text(302.86683874660787, 181.2, 'X[3] <= 54.248\\ngini = 0.21\\nsamples = 452\\nvalue = [398, 54]'),\n",
       " Text(285.47044818521033, 170.84571428571428, 'X[6] <= 0.5\\ngini = 0.198\\nsamples = 431\\nvalue = [383, 48]'),\n",
       " Text(261.58024508141114, 160.49142857142857, 'X[32] <= 0.5\\ngini = 0.19\\nsamples = 423\\nvalue = [378, 45]'),\n",
       " Text(219.25112788331072, 150.13714285714286, 'X[0] <= 1.5\\ngini = 0.169\\nsamples = 366\\nvalue = [332, 34]'),\n",
       " Text(178.07544097693352, 139.78285714285715, 'X[13] <= 0.5\\ngini = 0.391\\nsamples = 15\\nvalue = [11, 4]'),\n",
       " Text(176.2583446404342, 129.42857142857144, 'X[10] <= 0.5\\ngini = 0.337\\nsamples = 14\\nvalue = [11, 3]'),\n",
       " Text(174.44124830393486, 119.07428571428571, 'X[9] <= 0.5\\ngini = 0.26\\nsamples = 13\\nvalue = [11, 2]'),\n",
       " Text(170.80705563093622, 108.72, 'X[22] <= 0.5\\ngini = 0.165\\nsamples = 11\\nvalue = [10, 1]'),\n",
       " Text(168.98995929443691, 98.36571428571429, 'gini = 0.0\\nsamples = 6\\nvalue = [6, 0]'),\n",
       " Text(172.62415196743555, 98.36571428571429, 'X[3] <= 26.237\\ngini = 0.32\\nsamples = 5\\nvalue = [4, 1]'),\n",
       " Text(170.80705563093622, 88.01142857142858, 'gini = 0.0\\nsamples = 2\\nvalue = [2, 0]'),\n",
       " Text(174.44124830393486, 88.01142857142858, 'X[3] <= 28.775\\ngini = 0.444\\nsamples = 3\\nvalue = [2, 1]'),\n",
       " Text(172.62415196743555, 77.65714285714284, 'gini = 0.0\\nsamples = 1\\nvalue = [0, 1]'),\n",
       " Text(176.2583446404342, 77.65714285714284, 'gini = 0.0\\nsamples = 2\\nvalue = [2, 0]'),\n",
       " Text(178.07544097693352, 108.72, 'X[3] <= 38.8\\ngini = 0.5\\nsamples = 2\\nvalue = [1, 1]'),\n",
       " Text(176.2583446404342, 98.36571428571429, 'gini = 0.0\\nsamples = 1\\nvalue = [0, 1]'),\n",
       " Text(179.89253731343283, 98.36571428571429, 'gini = 0.0\\nsamples = 1\\nvalue = [1, 0]'),\n",
       " Text(178.07544097693352, 119.07428571428571, 'gini = 0.0\\nsamples = 1\\nvalue = [0, 1]'),\n",
       " Text(179.89253731343283, 129.42857142857144, 'gini = 0.0\\nsamples = 1\\nvalue = [0, 1]'),\n",
       " Text(260.4268147896879, 139.78285714285715, 'X[3] <= 13.25\\ngini = 0.156\\nsamples = 351\\nvalue = [321, 30]'),\n",
       " Text(246.9263568521031, 129.42857142857144, 'X[16] <= 0.5\\ngini = 0.181\\nsamples = 279\\nvalue = [251, 28]'),\n",
       " Text(230.82801899592945, 119.07428571428571, 'X[9] <= 0.5\\ngini = 0.176\\nsamples = 277\\nvalue = [250, 27]'),\n",
       " Text(204.08263229308005, 108.72, 'X[3] <= 7.91\\ngini = 0.156\\nsamples = 235\\nvalue = [215, 20]'),\n",
       " Text(183.5267299864315, 98.36571428571429, 'X[3] <= 7.133\\ngini = 0.083\\nsamples = 115\\nvalue = [110, 5]'),\n",
       " Text(181.70963364993216, 88.01142857142858, 'gini = 0.0\\nsamples = 27\\nvalue = [27, 0]'),\n",
       " Text(185.3438263229308, 88.01142857142858, 'X[3] <= 7.196\\ngini = 0.107\\nsamples = 88\\nvalue = [83, 5]'),\n",
       " Text(183.5267299864315, 77.65714285714284, 'gini = 0.0\\nsamples = 1\\nvalue = [0, 1]'),\n",
       " Text(187.16092265943013, 77.65714285714284, 'X[3] <= 7.875\\ngini = 0.088\\nsamples = 87\\nvalue = [83, 4]'),\n",
       " Text(185.3438263229308, 67.30285714285714, 'X[3] <= 7.763\\ngini = 0.123\\nsamples = 61\\nvalue = [57, 4]'),\n",
       " Text(175.80407055630937, 56.94857142857143, 'X[3] <= 7.744\\ngini = 0.05\\nsamples = 39\\nvalue = [38, 1]'),\n",
       " Text(173.98697421981004, 46.59428571428572, 'gini = 0.0\\nsamples = 22\\nvalue = [22, 0]'),\n",
       " Text(177.62116689280867, 46.59428571428572, 'X[22] <= 0.5\\ngini = 0.111\\nsamples = 17\\nvalue = [16, 1]'),\n",
       " Text(175.80407055630937, 36.24000000000001, 'gini = 0.0\\nsamples = 7\\nvalue = [7, 0]'),\n",
       " Text(179.438263229308, 36.24000000000001, 'X[1] <= 0.5\\ngini = 0.18\\nsamples = 10\\nvalue = [9, 1]'),\n",
       " Text(177.62116689280867, 25.8857142857143, 'gini = 0.198\\nsamples = 9\\nvalue = [8, 1]'),\n",
       " Text(181.25535956580734, 25.8857142857143, 'gini = 0.0\\nsamples = 1\\nvalue = [1, 0]'),\n",
       " Text(194.88358208955225, 56.94857142857143, 'X[10] <= 0.5\\ngini = 0.236\\nsamples = 22\\nvalue = [19, 3]'),\n",
       " Text(190.34084124830395, 46.59428571428572, 'X[22] <= 0.5\\ngini = 0.188\\nsamples = 19\\nvalue = [17, 2]'),\n",
       " Text(186.70664857530528, 36.24000000000001, 'X[8] <= 0.5\\ngini = 0.117\\nsamples = 16\\nvalue = [15, 1]'),\n",
       " Text(184.88955223880598, 25.8857142857143, 'gini = 0.0\\nsamples = 7\\nvalue = [7, 0]'),\n",
       " Text(188.5237449118046, 25.8857142857143, 'X[3] <= 7.798\\ngini = 0.198\\nsamples = 9\\nvalue = [8, 1]'),\n",
       " Text(186.70664857530528, 15.531428571428563, 'X[3] <= 7.785\\ngini = 0.375\\nsamples = 4\\nvalue = [3, 1]'),\n",
       " Text(184.88955223880598, 5.177142857142854, 'gini = 0.0\\nsamples = 1\\nvalue = [1, 0]'),\n",
       " Text(188.5237449118046, 5.177142857142854, 'gini = 0.444\\nsamples = 3\\nvalue = [2, 1]'),\n",
       " Text(190.34084124830395, 15.531428571428563, 'gini = 0.0\\nsamples = 5\\nvalue = [5, 0]'),\n",
       " Text(193.97503392130258, 36.24000000000001, 'X[34] <= 0.5\\ngini = 0.444\\nsamples = 3\\nvalue = [2, 1]'),\n",
       " Text(192.15793758480325, 25.8857142857143, 'gini = 0.0\\nsamples = 1\\nvalue = [1, 0]'),\n",
       " Text(195.7921302578019, 25.8857142857143, 'gini = 0.5\\nsamples = 2\\nvalue = [1, 1]'),\n",
       " Text(199.42632293080055, 46.59428571428572, 'X[3] <= 7.815\\ngini = 0.444\\nsamples = 3\\nvalue = [2, 1]'),\n",
       " Text(197.60922659430122, 36.24000000000001, 'gini = 0.0\\nsamples = 2\\nvalue = [2, 0]'),\n",
       " Text(201.24341926729986, 36.24000000000001, 'gini = 0.0\\nsamples = 1\\nvalue = [0, 1]'),\n",
       " Text(188.97801899592943, 67.30285714285714, 'gini = 0.0\\nsamples = 26\\nvalue = [26, 0]'),\n",
       " Text(224.63853459972862, 98.36571428571429, 'X[3] <= 7.988\\ngini = 0.219\\nsamples = 120\\nvalue = [105, 15]'),\n",
       " Text(213.96309362279513, 88.01142857142858, 'X[11] <= 0.5\\ngini = 0.486\\nsamples = 12\\nvalue = [7, 5]'),\n",
       " Text(212.1459972862958, 77.65714285714284, 'X[1] <= 1.5\\ngini = 0.463\\nsamples = 11\\nvalue = [7, 4]'),\n",
       " Text(210.32890094979646, 67.30285714285714, 'X[1] <= 0.5\\ngini = 0.48\\nsamples = 10\\nvalue = [6, 4]'),\n",
       " Text(208.51180461329716, 56.94857142857143, 'X[8] <= 0.5\\ngini = 0.444\\nsamples = 9\\nvalue = [6, 3]'),\n",
       " Text(206.69470827679783, 46.59428571428572, 'X[10] <= 0.5\\ngini = 0.5\\nsamples = 6\\nvalue = [3, 3]'),\n",
       " Text(204.8776119402985, 36.24000000000001, 'gini = 0.5\\nsamples = 2\\nvalue = [1, 1]'),\n",
       " Text(208.51180461329716, 36.24000000000001, 'gini = 0.5\\nsamples = 4\\nvalue = [2, 2]'),\n",
       " Text(210.32890094979646, 46.59428571428572, 'gini = 0.0\\nsamples = 3\\nvalue = [3, 0]'),\n",
       " Text(212.1459972862958, 56.94857142857143, 'gini = 0.0\\nsamples = 1\\nvalue = [0, 1]'),\n",
       " Text(213.96309362279513, 67.30285714285714, 'gini = 0.0\\nsamples = 1\\nvalue = [1, 0]'),\n",
       " Text(215.78018995929443, 77.65714285714284, 'gini = 0.0\\nsamples = 1\\nvalue = [0, 1]'),\n",
       " Text(235.31397557666213, 88.01142857142858, 'X[7] <= 0.5\\ngini = 0.168\\nsamples = 108\\nvalue = [98, 10]'),\n",
       " Text(229.40841248303934, 77.65714285714284, 'X[13] <= 0.5\\ngini = 0.127\\nsamples = 88\\nvalue = [82, 6]'),\n",
       " Text(223.04857530529173, 67.30285714285714, 'X[3] <= 12.762\\ngini = 0.111\\nsamples = 85\\nvalue = [80, 5]'),\n",
       " Text(215.78018995929443, 56.94857142857143, 'X[3] <= 8.081\\ngini = 0.058\\nsamples = 67\\nvalue = [65, 2]'),\n",
       " Text(213.96309362279513, 46.59428571428572, 'gini = 0.0\\nsamples = 32\\nvalue = [32, 0]'),\n",
       " Text(217.59728629579377, 46.59428571428572, 'X[3] <= 8.238\\ngini = 0.108\\nsamples = 35\\nvalue = [33, 2]'),\n",
       " Text(215.78018995929443, 36.24000000000001, 'gini = 0.0\\nsamples = 1\\nvalue = [0, 1]'),\n",
       " Text(219.41438263229307, 36.24000000000001, 'X[10] <= 0.5\\ngini = 0.057\\nsamples = 34\\nvalue = [33, 1]'),\n",
       " Text(217.59728629579377, 25.8857142857143, 'gini = 0.0\\nsamples = 26\\nvalue = [26, 0]'),\n",
       " Text(221.2314789687924, 25.8857142857143, 'X[3] <= 10.0\\ngini = 0.219\\nsamples = 8\\nvalue = [7, 1]'),\n",
       " Text(219.41438263229307, 15.531428571428563, 'X[3] <= 9.077\\ngini = 0.375\\nsamples = 4\\nvalue = [3, 1]'),\n",
       " Text(217.59728629579377, 5.177142857142854, 'gini = 0.0\\nsamples = 2\\nvalue = [2, 0]'),\n",
       " Text(221.2314789687924, 5.177142857142854, 'gini = 0.5\\nsamples = 2\\nvalue = [1, 1]'),\n",
       " Text(223.04857530529173, 15.531428571428563, 'gini = 0.0\\nsamples = 4\\nvalue = [4, 0]'),\n",
       " Text(230.316960651289, 56.94857142857143, 'X[22] <= 0.5\\ngini = 0.278\\nsamples = 18\\nvalue = [15, 3]'),\n",
       " Text(228.49986431478968, 46.59428571428572, 'X[11] <= 0.5\\ngini = 0.208\\nsamples = 17\\nvalue = [15, 2]'),\n",
       " Text(226.68276797829037, 36.24000000000001, 'X[10] <= 0.5\\ngini = 0.124\\nsamples = 15\\nvalue = [14, 1]'),\n",
       " Text(224.86567164179104, 25.8857142857143, 'gini = 0.0\\nsamples = 9\\nvalue = [9, 0]'),\n",
       " Text(228.49986431478968, 25.8857142857143, 'gini = 0.278\\nsamples = 6\\nvalue = [5, 1]'),\n",
       " Text(230.316960651289, 36.24000000000001, 'gini = 0.5\\nsamples = 2\\nvalue = [1, 1]'),\n",
       " Text(232.13405698778834, 46.59428571428572, 'gini = 0.0\\nsamples = 1\\nvalue = [0, 1]'),\n",
       " Text(235.76824966078698, 67.30285714285714, 'X[3] <= 8.525\\ngini = 0.444\\nsamples = 3\\nvalue = [2, 1]'),\n",
       " Text(233.95115332428765, 56.94857142857143, 'gini = 0.0\\nsamples = 1\\nvalue = [0, 1]'),\n",
       " Text(237.58534599728628, 56.94857142857143, 'gini = 0.0\\nsamples = 2\\nvalue = [2, 0]'),\n",
       " Text(241.21953867028495, 77.65714285714284, 'X[3] <= 8.104\\ngini = 0.32\\nsamples = 20\\nvalue = [16, 4]'),\n",
       " Text(239.40244233378561, 67.30285714285714, 'gini = 0.48\\nsamples = 5\\nvalue = [2, 3]'),\n",
       " Text(243.03663500678425, 67.30285714285714, 'X[0] <= 2.5\\ngini = 0.124\\nsamples = 15\\nvalue = [14, 1]'),\n",
       " Text(241.21953867028495, 56.94857142857143, 'X[3] <= 11.0\\ngini = 0.245\\nsamples = 7\\nvalue = [6, 1]'),\n",
       " Text(239.40244233378561, 46.59428571428572, 'gini = 0.444\\nsamples = 3\\nvalue = [2, 1]'),\n",
       " Text(243.03663500678425, 46.59428571428572, 'gini = 0.0\\nsamples = 4\\nvalue = [4, 0]'),\n",
       " Text(244.85373134328358, 56.94857142857143, 'gini = 0.0\\nsamples = 8\\nvalue = [8, 0]'),\n",
       " Text(257.57340569877886, 108.72, 'X[3] <= 7.01\\ngini = 0.278\\nsamples = 42\\nvalue = [35, 7]'),\n",
       " Text(255.75630936227952, 98.36571428571429, 'gini = 0.0\\nsamples = 2\\nvalue = [0, 2]'),\n",
       " Text(259.39050203527813, 98.36571428571429, 'X[33] <= 0.5\\ngini = 0.219\\nsamples = 40\\nvalue = [35, 5]'),\n",
       " Text(255.75630936227952, 88.01142857142858, 'X[3] <= 10.0\\ngini = 0.188\\nsamples = 38\\nvalue = [34, 4]'),\n",
       " Text(253.9392130257802, 77.65714285714284, 'X[3] <= 8.356\\ngini = 0.238\\nsamples = 29\\nvalue = [25, 4]'),\n",
       " Text(250.30502035278155, 67.30285714285714, 'X[3] <= 7.825\\ngini = 0.159\\nsamples = 23\\nvalue = [21, 2]'),\n",
       " Text(248.48792401628222, 56.94857142857143, 'X[3] <= 7.513\\ngini = 0.32\\nsamples = 10\\nvalue = [8, 2]'),\n",
       " Text(246.6708276797829, 46.59428571428572, 'gini = 0.0\\nsamples = 4\\nvalue = [4, 0]'),\n",
       " Text(250.30502035278155, 46.59428571428572, 'X[3] <= 7.785\\ngini = 0.444\\nsamples = 6\\nvalue = [4, 2]'),\n",
       " Text(248.48792401628222, 36.24000000000001, 'X[1] <= 0.5\\ngini = 0.375\\nsamples = 4\\nvalue = [3, 1]'),\n",
       " Text(246.6708276797829, 25.8857142857143, 'gini = 0.0\\nsamples = 2\\nvalue = [2, 0]'),\n",
       " Text(250.30502035278155, 25.8857142857143, 'gini = 0.5\\nsamples = 2\\nvalue = [1, 1]'),\n",
       " Text(252.12211668928086, 36.24000000000001, 'gini = 0.5\\nsamples = 2\\nvalue = [1, 1]'),\n",
       " Text(252.12211668928086, 56.94857142857143, 'gini = 0.0\\nsamples = 13\\nvalue = [13, 0]'),\n",
       " Text(257.57340569877886, 67.30285714285714, 'X[1] <= 1.0\\ngini = 0.444\\nsamples = 6\\nvalue = [4, 2]'),\n",
       " Text(255.75630936227952, 56.94857142857143, 'X[3] <= 9.073\\ngini = 0.48\\nsamples = 5\\nvalue = [3, 2]'),\n",
       " Text(253.9392130257802, 46.59428571428572, 'gini = 0.0\\nsamples = 1\\nvalue = [0, 1]'),\n",
       " Text(257.57340569877886, 46.59428571428572, 'X[3] <= 9.492\\ngini = 0.375\\nsamples = 4\\nvalue = [3, 1]'),\n",
       " Text(255.75630936227952, 36.24000000000001, 'gini = 0.0\\nsamples = 1\\nvalue = [1, 0]'),\n",
       " Text(259.39050203527813, 36.24000000000001, 'gini = 0.444\\nsamples = 3\\nvalue = [2, 1]'),\n",
       " Text(259.39050203527813, 56.94857142857143, 'gini = 0.0\\nsamples = 1\\nvalue = [1, 0]'),\n",
       " Text(257.57340569877886, 77.65714285714284, 'gini = 0.0\\nsamples = 9\\nvalue = [9, 0]'),\n",
       " Text(263.0246947082768, 88.01142857142858, 'X[3] <= 7.746\\ngini = 0.5\\nsamples = 2\\nvalue = [1, 1]'),\n",
       " Text(261.20759837177746, 77.65714285714284, 'gini = 0.0\\nsamples = 1\\nvalue = [1, 0]'),\n",
       " Text(264.84179104477613, 77.65714285714284, 'gini = 0.0\\nsamples = 1\\nvalue = [0, 1]'),\n",
       " Text(263.0246947082768, 119.07428571428571, 'X[0] <= 2.5\\ngini = 0.5\\nsamples = 2\\nvalue = [1, 1]'),\n",
       " Text(261.20759837177746, 108.72, 'gini = 0.0\\nsamples = 1\\nvalue = [0, 1]'),\n",
       " Text(264.84179104477613, 108.72, 'gini = 0.0\\nsamples = 1\\nvalue = [1, 0]'),\n",
       " Text(273.92727272727274, 129.42857142857144, 'X[33] <= 0.5\\ngini = 0.054\\nsamples = 72\\nvalue = [70, 2]'),\n",
       " Text(270.29308005427407, 119.07428571428571, 'X[10] <= 0.5\\ngini = 0.03\\nsamples = 65\\nvalue = [64, 1]'),\n",
       " Text(268.47598371777474, 108.72, 'gini = 0.0\\nsamples = 56\\nvalue = [56, 0]'),\n",
       " Text(272.1101763907734, 108.72, 'X[3] <= 23.5\\ngini = 0.198\\nsamples = 9\\nvalue = [8, 1]'),\n",
       " Text(270.29308005427407, 98.36571428571429, 'gini = 0.0\\nsamples = 6\\nvalue = [6, 0]'),\n",
       " Text(273.92727272727274, 98.36571428571429, 'X[3] <= 26.125\\ngini = 0.444\\nsamples = 3\\nvalue = [2, 1]'),\n",
       " Text(272.1101763907734, 88.01142857142858, 'gini = 0.5\\nsamples = 2\\nvalue = [1, 1]'),\n",
       " Text(275.74436906377207, 88.01142857142858, 'gini = 0.0\\nsamples = 1\\nvalue = [1, 0]'),\n",
       " Text(277.56146540027135, 119.07428571428571, 'X[1] <= 1.5\\ngini = 0.245\\nsamples = 7\\nvalue = [6, 1]'),\n",
       " Text(275.74436906377207, 108.72, 'gini = 0.0\\nsamples = 6\\nvalue = [6, 0]'),\n",
       " Text(279.3785617367707, 108.72, 'gini = 0.0\\nsamples = 1\\nvalue = [0, 1]'),\n",
       " Text(303.9093622795115, 150.13714285714286, 'X[3] <= 27.135\\ngini = 0.311\\nsamples = 57\\nvalue = [46, 11]'),\n",
       " Text(302.0922659430122, 139.78285714285715, 'X[3] <= 15.148\\ngini = 0.359\\nsamples = 47\\nvalue = [36, 11]'),\n",
       " Text(295.73242876526456, 129.42857142857144, 'X[20] <= 0.5\\ngini = 0.26\\nsamples = 39\\nvalue = [33, 6]'),\n",
       " Text(293.9153324287653, 119.07428571428571, 'X[8] <= 0.5\\ngini = 0.229\\nsamples = 38\\nvalue = [33, 5]'),\n",
       " Text(286.64694708276795, 108.72, 'X[0] <= 2.5\\ngini = 0.17\\nsamples = 32\\nvalue = [29, 3]'),\n",
       " Text(281.19565807327, 98.36571428571429, 'X[3] <= 14.456\\ngini = 0.5\\nsamples = 2\\nvalue = [1, 1]'),\n",
       " Text(279.3785617367707, 88.01142857142858, 'gini = 0.0\\nsamples = 1\\nvalue = [0, 1]'),\n",
       " Text(283.01275440976934, 88.01142857142858, 'gini = 0.0\\nsamples = 1\\nvalue = [1, 0]'),\n",
       " Text(292.09823609226595, 98.36571428571429, 'X[9] <= 0.5\\ngini = 0.124\\nsamples = 30\\nvalue = [28, 2]'),\n",
       " Text(286.64694708276795, 88.01142857142858, 'X[22] <= 0.5\\ngini = 0.077\\nsamples = 25\\nvalue = [24, 1]'),\n",
       " Text(284.8298507462687, 77.65714285714284, 'gini = 0.0\\nsamples = 10\\nvalue = [10, 0]'),\n",
       " Text(288.4640434192673, 77.65714285714284, 'X[3] <= 7.227\\ngini = 0.124\\nsamples = 15\\nvalue = [14, 1]'),\n",
       " Text(286.64694708276795, 67.30285714285714, 'gini = 0.0\\nsamples = 5\\nvalue = [5, 0]'),\n",
       " Text(290.2811397557666, 67.30285714285714, 'X[3] <= 7.562\\ngini = 0.18\\nsamples = 10\\nvalue = [9, 1]'),\n",
       " Text(288.4640434192673, 56.94857142857143, 'gini = 0.278\\nsamples = 6\\nvalue = [5, 1]'),\n",
       " Text(292.09823609226595, 56.94857142857143, 'gini = 0.0\\nsamples = 4\\nvalue = [4, 0]'),\n",
       " Text(297.5495251017639, 88.01142857142858, 'X[1] <= 0.5\\ngini = 0.32\\nsamples = 5\\nvalue = [4, 1]'),\n",
       " Text(295.73242876526456, 77.65714285714284, 'X[3] <= 7.562\\ngini = 0.444\\nsamples = 3\\nvalue = [2, 1]'),\n",
       " Text(293.9153324287653, 67.30285714285714, 'gini = 0.0\\nsamples = 2\\nvalue = [2, 0]'),\n",
       " Text(297.5495251017639, 67.30285714285714, 'gini = 0.0\\nsamples = 1\\nvalue = [0, 1]'),\n",
       " Text(299.3666214382632, 77.65714285714284, 'gini = 0.0\\nsamples = 2\\nvalue = [2, 0]'),\n",
       " Text(301.18371777476256, 108.72, 'X[0] <= 2.5\\ngini = 0.444\\nsamples = 6\\nvalue = [4, 2]'),\n",
       " Text(299.3666214382632, 98.36571428571429, 'gini = 0.0\\nsamples = 1\\nvalue = [1, 0]'),\n",
       " Text(303.0008141112619, 98.36571428571429, 'X[3] <= 5.619\\ngini = 0.48\\nsamples = 5\\nvalue = [3, 2]'),\n",
       " Text(301.18371777476256, 88.01142857142858, 'gini = 0.0\\nsamples = 1\\nvalue = [1, 0]'),\n",
       " Text(304.81791044776116, 88.01142857142858, 'X[3] <= 7.227\\ngini = 0.5\\nsamples = 4\\nvalue = [2, 2]'),\n",
       " Text(303.0008141112619, 77.65714285714284, 'gini = 0.0\\nsamples = 1\\nvalue = [0, 1]'),\n",
       " Text(306.6350067842605, 77.65714285714284, 'gini = 0.444\\nsamples = 3\\nvalue = [2, 1]'),\n",
       " Text(297.5495251017639, 119.07428571428571, 'gini = 0.0\\nsamples = 1\\nvalue = [0, 1]'),\n",
       " Text(308.45210312075983, 129.42857142857144, 'X[3] <= 17.265\\ngini = 0.469\\nsamples = 8\\nvalue = [3, 5]'),\n",
       " Text(306.6350067842605, 119.07428571428571, 'gini = 0.0\\nsamples = 3\\nvalue = [0, 3]'),\n",
       " Text(310.26919945725916, 119.07428571428571, 'X[1] <= 0.5\\ngini = 0.48\\nsamples = 5\\nvalue = [3, 2]'),\n",
       " Text(308.45210312075983, 108.72, 'X[20] <= 0.5\\ngini = 0.444\\nsamples = 3\\nvalue = [1, 2]'),\n",
       " Text(306.6350067842605, 98.36571428571429, 'gini = 0.0\\nsamples = 2\\nvalue = [0, 2]'),\n",
       " Text(310.26919945725916, 98.36571428571429, 'gini = 0.0\\nsamples = 1\\nvalue = [1, 0]'),\n",
       " Text(312.0862957937585, 108.72, 'gini = 0.0\\nsamples = 2\\nvalue = [2, 0]'),\n",
       " Text(305.72645861601086, 139.78285714285715, 'gini = 0.0\\nsamples = 10\\nvalue = [10, 0]'),\n",
       " Text(309.36065128900947, 160.49142857142857, 'X[1] <= 2.5\\ngini = 0.469\\nsamples = 8\\nvalue = [5, 3]'),\n",
       " Text(307.5435549525102, 150.13714285714286, 'gini = 0.0\\nsamples = 3\\nvalue = [0, 3]'),\n",
       " Text(311.1777476255088, 150.13714285714286, 'gini = 0.0\\nsamples = 5\\nvalue = [5, 0]'),\n",
       " Text(320.2632293080054, 170.84571428571428, 'X[3] <= 58.938\\ngini = 0.408\\nsamples = 21\\nvalue = [15, 6]'),\n",
       " Text(316.6290366350068, 160.49142857142857, 'X[10] <= 0.5\\ngini = 0.408\\nsamples = 7\\nvalue = [2, 5]'),\n",
       " Text(314.81194029850747, 150.13714285714286, 'X[22] <= 0.5\\ngini = 0.48\\nsamples = 5\\nvalue = [2, 3]'),\n",
       " Text(312.99484396200813, 139.78285714285715, 'gini = 0.5\\nsamples = 2\\nvalue = [1, 1]'),\n",
       " Text(316.6290366350068, 139.78285714285715, 'gini = 0.444\\nsamples = 3\\nvalue = [1, 2]'),\n",
       " Text(318.44613297150613, 150.13714285714286, 'gini = 0.0\\nsamples = 2\\nvalue = [0, 2]'),\n",
       " Text(323.8974219810041, 160.49142857142857, 'X[14] <= 0.5\\ngini = 0.133\\nsamples = 14\\nvalue = [13, 1]'),\n",
       " Text(322.08032564450474, 150.13714285714286, 'gini = 0.0\\nsamples = 12\\nvalue = [12, 0]'),\n",
       " Text(325.7145183175034, 150.13714285714286, 'X[3] <= 97.515\\ngini = 0.5\\nsamples = 2\\nvalue = [1, 1]'),\n",
       " Text(323.8974219810041, 139.78285714285715, 'gini = 0.0\\nsamples = 1\\nvalue = [1, 0]'),\n",
       " Text(327.53161465400274, 139.78285714285715, 'gini = 0.0\\nsamples = 1\\nvalue = [0, 1]'),\n",
       " Text(327.53161465400274, 181.2, 'X[1] <= 2.0\\ngini = 0.494\\nsamples = 18\\nvalue = [8, 10]'),\n",
       " Text(325.7145183175034, 170.84571428571428, 'gini = 0.0\\nsamples = 9\\nvalue = [0, 9]'),\n",
       " Text(329.348710990502, 170.84571428571428, 'X[3] <= 31.331\\ngini = 0.198\\nsamples = 9\\nvalue = [8, 1]'),\n",
       " Text(327.53161465400274, 160.49142857142857, 'gini = 0.0\\nsamples = 5\\nvalue = [5, 0]'),\n",
       " Text(331.16580732700135, 160.49142857142857, 'X[3] <= 35.538\\ngini = 0.375\\nsamples = 4\\nvalue = [3, 1]'),\n",
       " Text(329.348710990502, 150.13714285714286, 'gini = 0.0\\nsamples = 1\\nvalue = [0, 1]'),\n",
       " Text(332.9829036635007, 150.13714285714286, 'gini = 0.0\\nsamples = 3\\nvalue = [3, 0]')]"
      ]
     },
     "execution_count": 109,
     "metadata": {},
     "output_type": "execute_result"
    },
    {
     "data": {
      "image/png": "[encoded data removed]",
      "text/plain": [
       "<Figure size 432x288 with 1 Axes>"
      ]
     },
     "metadata": {
      "needs_background": "light"
     },
     "output_type": "display_data"
    }
   ],
   "source": [
    "tree.plot_tree(model.fit(X,y))"
   ]
  },
  {
   "cell_type": "code",
   "execution_count": 157,
   "metadata": {},
   "outputs": [
    {
     "ename": "ModuleNotFoundError",
     "evalue": "No module named 'graphviz'",
     "output_type": "error",
     "traceback": [
      "\u001b[1;31m---------------------------------------------------------------------------\u001b[0m",
      "\u001b[1;31mModuleNotFoundError\u001b[0m                       Traceback (most recent call last)",
      "\u001b[1;32m<ipython-input-157-f3825e8e2332>\u001b[0m in \u001b[0;36m<module>\u001b[1;34m\u001b[0m\n\u001b[0;32m      3\u001b[0m \u001b[1;32mfrom\u001b[0m \u001b[0msklearn\u001b[0m\u001b[1;33m.\u001b[0m\u001b[0mdatasets\u001b[0m \u001b[1;32mimport\u001b[0m \u001b[0mload_wine\u001b[0m\u001b[1;33m\u001b[0m\u001b[1;33m\u001b[0m\u001b[0m\n\u001b[0;32m      4\u001b[0m \u001b[1;32mfrom\u001b[0m \u001b[0mIPython\u001b[0m\u001b[1;33m.\u001b[0m\u001b[0mdisplay\u001b[0m \u001b[1;32mimport\u001b[0m \u001b[0mSVG\u001b[0m\u001b[1;33m\u001b[0m\u001b[1;33m\u001b[0m\u001b[0m\n\u001b[1;32m----> 5\u001b[1;33m \u001b[1;32mfrom\u001b[0m \u001b[0mgraphviz\u001b[0m \u001b[1;32mimport\u001b[0m \u001b[0mSource\u001b[0m\u001b[1;33m\u001b[0m\u001b[1;33m\u001b[0m\u001b[0m\n\u001b[0m\u001b[0;32m      6\u001b[0m \u001b[1;32mfrom\u001b[0m \u001b[0mIPython\u001b[0m\u001b[1;33m.\u001b[0m\u001b[0mdisplay\u001b[0m \u001b[1;32mimport\u001b[0m \u001b[0mdisplay\u001b[0m\u001b[1;33m\u001b[0m\u001b[1;33m\u001b[0m\u001b[0m\n\u001b[0;32m      7\u001b[0m \u001b[1;33m\u001b[0m\u001b[0m\n",
      "\u001b[1;31mModuleNotFoundError\u001b[0m: No module named 'graphviz'"
     ]
    }
   ],
   "source": [
    "from sklearn.tree import DecisionTreeClassifier, export_graphviz\n",
    "from sklearn import tree\n",
    "from sklearn.datasets import load_wine\n",
    "from IPython.display import SVG\n",
    "from graphviz import Source\n",
    "from IPython.display import display\n",
    "\n",
    "# class labels\n",
    "labels = train_data.feature_names\n",
    "\n",
    "# print dataset description\n",
    "print(train_data.DESCR)\n",
    "\n",
    "graph = Source(tree.export_graphviz(model, out_file=None\n",
    "   , feature_names=labels, class_names=['0', '1'] \n",
    "   , filled = True))\n",
    "display(SVG(graph.pipe(format='svg')))"
   ]
  },
  {
   "cell_type": "code",
   "execution_count": null,
   "metadata": {},
   "outputs": [],
   "source": []
  }
 ],
 "metadata": {
  "kernelspec": {
   "display_name": "Python 3",
   "language": "python",
   "name": "python3"
  },
  "language_info": {
   "codemirror_mode": {
    "name": "ipython",
    "version": 3
   },
   "file_extension": ".py",
   "mimetype": "text/x-python",
   "name": "python",
   "nbconvert_exporter": "python",
   "pygments_lexer": "ipython3",
   "version": "3.7.6"
  }
 },
 "nbformat": 4,
 "nbformat_minor": 4
}
