{
 "cells": [
  {
   "cell_type": "code",
   "execution_count": 216,
   "metadata": {},
   "outputs": [],
   "source": [
    "import pandas as pd\n",
    "import numpy as np\n",
    "from sklearn.linear_model import LogisticRegression\n",
    "from sklearn import tree\n",
    "from sklearn.ensemble import RandomForestClassifier\n",
    "from sklearn.ensemble import GradientBoostingClassifier\n",
    "from sklearn.svm import SVC\n",
    "%matplotlib inline\n",
    "import matplotlib.pyplot as plt\n",
    "plt.rcParams['figure.figsize'] = [10, 20]"
   ]
  },
  {
   "cell_type": "code",
   "execution_count": 107,
   "metadata": {},
   "outputs": [
    {
     "name": "stdout",
     "output_type": "stream",
     "text": [
      "0      none\n",
      "1         C\n",
      "2      none\n",
      "3         C\n",
      "4      none\n",
      "       ... \n",
      "886    none\n",
      "887       B\n",
      "888    none\n",
      "889       C\n",
      "890    none\n",
      "Name: cabin_code, Length: 891, dtype: object\n"
     ]
    }
   ],
   "source": [
    "train_data = pd.read_csv(\"data/train.csv\")\n",
    "print(train_data.cabin_code)"
   ]
  },
  {
   "cell_type": "code",
   "execution_count": 100,
   "metadata": {},
   "outputs": [
    {
     "data": {
      "text/plain": [
       "0      Mr.\n",
       "1     Mrs.\n",
       "2    Miss.\n",
       "3     Mrs.\n",
       "4      Mr.\n",
       "Name: Honorific, dtype: object"
      ]
     },
     "execution_count": 100,
     "metadata": {},
     "output_type": "execute_result"
    }
   ],
   "source": [
    "train_data['Honorific'].head()"
   ]
  },
  {
   "cell_type": "code",
   "execution_count": 101,
   "metadata": {},
   "outputs": [],
   "source": [
    "test_data = pd.read_csv(\"data/test.csv\")"
   ]
  },
  {
   "cell_type": "code",
   "execution_count": 102,
   "metadata": {},
   "outputs": [
    {
     "data": {
      "text/plain": [
       "0     Mr.\n",
       "1    Mrs.\n",
       "2     Mr.\n",
       "3     Mr.\n",
       "4    Mrs.\n",
       "Name: Honorific, dtype: object"
      ]
     },
     "execution_count": 102,
     "metadata": {},
     "output_type": "execute_result"
    }
   ],
   "source": [
    "test_data['Honorific'].head()"
   ]
  },
  {
   "cell_type": "code",
   "execution_count": 328,
   "metadata": {},
   "outputs": [
    {
     "name": "stdout",
     "output_type": "stream",
     "text": [
      "0\n",
      "Accuracy on training set: 0.859\n",
      "1\n",
      "Accuracy on training set: 0.846\n",
      "2\n",
      "Accuracy on training set: 0.829\n",
      "3\n",
      "Accuracy on training set: 0.826\n",
      "4\n",
      "Accuracy on training set: 0.823\n",
      "5\n",
      "Accuracy on training set: 0.836\n",
      "6\n",
      "Accuracy on training set: 0.826\n",
      "7\n",
      "Accuracy on training set: 0.811\n",
      "8\n",
      "Accuracy on training set: 0.811\n",
      "9\n",
      "Accuracy on training set: 0.799\n",
      "10\n",
      "Accuracy on training set: 0.795\n",
      "11\n",
      "Accuracy on training set: 0.793\n",
      "12\n",
      "Accuracy on training set: 0.797\n",
      "13\n",
      "Accuracy on training set: 0.798\n",
      "14\n",
      "Accuracy on training set: 0.799\n",
      "15\n",
      "Accuracy on training set: 0.799\n",
      "16\n",
      "Accuracy on training set: 0.798\n",
      "17\n",
      "Accuracy on training set: 0.796\n",
      "18\n",
      "Accuracy on training set: 0.796\n",
      "19\n",
      "Accuracy on training set: 0.796\n",
      "20\n",
      "Accuracy on training set: 0.796\n",
      "21\n",
      "Accuracy on training set: 0.792\n",
      "22\n",
      "Accuracy on training set: 0.793\n",
      "23\n",
      "Accuracy on training set: 0.792\n",
      "24\n",
      "Accuracy on training set: 0.793\n",
      "25\n",
      "Accuracy on training set: 0.793\n",
      "26\n",
      "Accuracy on training set: 0.793\n",
      "27\n",
      "Accuracy on training set: 0.795\n",
      "28\n",
      "Accuracy on training set: 0.793\n",
      "29\n",
      "Accuracy on training set: 0.793\n",
      "30\n",
      "Accuracy on training set: 0.789\n",
      "31\n",
      "Accuracy on training set: 0.789\n",
      "32\n",
      "Accuracy on training set: 0.793\n",
      "33\n",
      "Accuracy on training set: 0.793\n",
      "34\n",
      "Accuracy on training set: 0.793\n",
      "35\n",
      "Accuracy on training set: 0.789\n",
      "36\n",
      "Accuracy on training set: 0.789\n",
      "37\n",
      "Accuracy on training set: 0.789\n",
      "38\n",
      "Accuracy on training set: 0.790\n",
      "39\n",
      "Accuracy on training set: 0.789\n",
      "40\n",
      "Accuracy on training set: 0.789\n",
      "41\n",
      "Accuracy on training set: 0.786\n",
      "42\n",
      "Accuracy on training set: 0.786\n",
      "43\n",
      "Accuracy on training set: 0.788\n",
      "44\n",
      "Accuracy on training set: 0.788\n",
      "45\n",
      "Accuracy on training set: 0.789\n",
      "46\n",
      "Accuracy on training set: 0.789\n",
      "47\n",
      "Accuracy on training set: 0.787\n",
      "48\n",
      "Accuracy on training set: 0.787\n",
      "49\n",
      "Accuracy on training set: 0.787\n",
      "50\n",
      "Accuracy on training set: 0.787\n",
      "51\n",
      "Accuracy on training set: 0.787\n",
      "52\n",
      "Accuracy on training set: 0.787\n",
      "53\n",
      "Accuracy on training set: 0.787\n",
      "54\n",
      "Accuracy on training set: 0.787\n",
      "55\n",
      "Accuracy on training set: 0.787\n",
      "56\n",
      "Accuracy on training set: 0.787\n",
      "57\n",
      "Accuracy on training set: 0.787\n",
      "58\n",
      "Accuracy on training set: 0.787\n",
      "59\n",
      "Accuracy on training set: 0.787\n",
      "60\n",
      "Accuracy on training set: 0.787\n",
      "61\n",
      "Accuracy on training set: 0.787\n",
      "62\n",
      "Accuracy on training set: 0.789\n",
      "63\n",
      "Accuracy on training set: 0.789\n",
      "64\n",
      "Accuracy on training set: 0.789\n",
      "65\n",
      "Accuracy on training set: 0.789\n",
      "66\n",
      "Accuracy on training set: 0.789\n",
      "67\n",
      "Accuracy on training set: 0.787\n",
      "68\n",
      "Accuracy on training set: 0.787\n",
      "69\n",
      "Accuracy on training set: 0.787\n",
      "70\n",
      "Accuracy on training set: 0.787\n",
      "71\n",
      "Accuracy on training set: 0.787\n",
      "72\n",
      "Accuracy on training set: 0.787\n",
      "73\n",
      "Accuracy on training set: 0.787\n",
      "74\n",
      "Accuracy on training set: 0.789\n",
      "75\n",
      "Accuracy on training set: 0.789\n",
      "76\n",
      "Accuracy on training set: 0.789\n",
      "77\n",
      "Accuracy on training set: 0.789\n",
      "78\n",
      "Accuracy on training set: 0.789\n",
      "79\n",
      "Accuracy on training set: 0.789\n",
      "80\n",
      "Accuracy on training set: 0.789\n",
      "81\n",
      "Accuracy on training set: 0.789\n",
      "82\n",
      "Accuracy on training set: 0.789\n",
      "83\n",
      "Accuracy on training set: 0.789\n",
      "84\n",
      "Accuracy on training set: 0.789\n",
      "85\n",
      "Accuracy on training set: 0.789\n",
      "86\n",
      "Accuracy on training set: 0.789\n",
      "87\n",
      "Accuracy on training set: 0.789\n",
      "88\n",
      "Accuracy on training set: 0.789\n",
      "89\n",
      "Accuracy on training set: 0.789\n",
      "90\n",
      "Accuracy on training set: 0.789\n",
      "91\n",
      "Accuracy on training set: 0.789\n",
      "92\n",
      "Accuracy on training set: 0.789\n",
      "93\n",
      "Accuracy on training set: 0.789\n",
      "94\n",
      "Accuracy on training set: 0.789\n",
      "95\n",
      "Accuracy on training set: 0.789\n",
      "96\n",
      "Accuracy on training set: 0.789\n",
      "97\n",
      "Accuracy on training set: 0.787\n",
      "98\n",
      "Accuracy on training set: 0.787\n",
      "99\n",
      "Accuracy on training set: 0.787\n",
      "0\n",
      "0.8585858585858586\n"
     ]
    }
   ],
   "source": [
    "#testing cell\n",
    "y = train_data[\"Survived\"]\n",
    "\n",
    "\n",
    "features = [\"Pclass\", \"Sex\", \"age_bin\", \"Fare\", \"cabin_code\",\n",
    "           \"Honorific\", \"ticket_group\"]\n",
    "X = pd.get_dummies(train_data[features])\n",
    "X_test = pd.get_dummies(test_data[features], dummy_na=True)\n",
    "\n",
    "X, X_test = X.align(X_test, join='left', axis=1)\n",
    "\n",
    "X_test.fillna(value=0, inplace=True)\n",
    "\n",
    "z_max = 0\n",
    "z_max_score = 0\n",
    "for z in range(100):\n",
    "    model = RandomForestClassifier(n_estimators=20, max_depth=7, random_state=55, \n",
    "                                   min_samples_leaf=6, max_features=8)\n",
    "    #model = GradientBoostingClassifier()\n",
    "    #model = SVC()\n",
    "    model.fit(X,y)\n",
    "    print(z)\n",
    "    if model.score(X,y) > z_max_score:\n",
    "        z_max_score = model.score(X,y)\n",
    "        z_max = z\n",
    "    print(\"Accuracy on training set: {:.3f}\".format(model.score(X, y)))\n",
    "\n",
    "predictions=model.predict(X_test)\n",
    "\n",
    "print(z_max)\n",
    "print(z_max_score)\n",
    "\n",
    "\n"
   ]
  },
  {
   "cell_type": "code",
   "execution_count": 329,
   "metadata": {},
   "outputs": [
    {
     "name": "stdout",
     "output_type": "stream",
     "text": [
      "Accuracy on training set: 0.836\n",
      "Your submission was saved!\n"
     ]
    }
   ],
   "source": [
    "y = train_data[\"Survived\"]\n",
    "\n",
    "\n",
    "features = [\"Pclass\", \"Sex\", \"age_bin\", \"Fare\", \"cabin_code\",\n",
    "           \"Honorific\", \"ticket_group\"]\n",
    "\n",
    "X = pd.get_dummies(train_data[features])\n",
    "X_test = pd.get_dummies(test_data[features], dummy_na=True)\n",
    "\n",
    "X, X_test = X.align(X_test, join='left', axis=1)\n",
    "\n",
    "X_test.fillna(value=0, inplace=True)\n",
    "\n",
    "model = RandomForestClassifier(n_estimators=20, max_depth=7, random_state=55, \n",
    "                                   min_samples_leaf=6, max_features=8)\n",
    "\n",
    "model.fit(X,y)\n",
    "print(\"Accuracy on training set: {:.3f}\".format(model.score(X, y)))\n",
    "\n",
    "predictions=model.predict(X_test)\n",
    "\n",
    "output=pd.DataFrame({'PassengerId': test_data.PassengerId, 'Survived': predictions})\n",
    "output.to_csv('my_submission.csv', index=False)\n",
    "print(\"Your submission was saved!\")"
   ]
  },
  {
   "cell_type": "code",
   "execution_count": 284,
   "metadata": {},
   "outputs": [
    {
     "name": "stdout",
     "output_type": "stream",
     "text": [
      "Accuracy on training set: 0.823\n",
      "0\n",
      "0\n",
      "Your submission was saved!\n"
     ]
    }
   ],
   "source": [
    "y = train_data[\"Survived\"]\n",
    "\n",
    "\n",
    "features = [\"Pclass\", \"Sex\", \"age_bin\", \"SibSp\", \"Parch\", \"Fare\", \"cabin_code\",\n",
    "           \"Honorific\", \"ticket_group\"]\n",
    "X = pd.get_dummies(train_data[features])\n",
    "X_test = pd.get_dummies(test_data[features], dummy_na=True)\n",
    "\n",
    "X, X_test = X.align(X_test, join='left', axis=1)\n",
    "\n",
    "\n",
    "X_test['age_bin_less than 75'] = X_test['age_bin_less than 75'].fillna(value=0)\n",
    "X_test['age_bin_less than 85'] = X_test['age_bin_less than 85'].fillna(value=0)\n",
    "X_test.fillna(value=0, inplace=True)\n",
    "\n",
    "\n",
    "#model = RandomForestClassifier(n_estimators=100, max_depth=4, random_state=1, min_samples_leaf=20)\n",
    "#model = tree.DecisionTreeClassifier(max_depth=6, random_state=1, min_samples_leaf=20)\n",
    "#model = tree.DecisionTreeClassifier()\n",
    "#model = tree.DecisionTreeClassifier(max_depth=5, random_state=1, min_samples_leaf=19)\n",
    "model = RandomForestClassifier(n_estimators=100, max_depth=5, min_samples_leaf=8, \n",
    "                               max_features=3,random_state=36)\n",
    "\n",
    "\n",
    "model.fit(X,y)\n",
    "print(\"Accuracy on training set: {:.3f}\".format(model.score(X, y)))\n",
    "\n",
    "predictions=model.predict(X_test)\n",
    "\n",
    "\n",
    "\n",
    "\n",
    "z_max = 0\n",
    "z_max_score = 0\n",
    "\"\"\"for z in range(100):\n",
    "    model = RandomForestClassifier(n_estimators=100, max_depth=5, min_samples_leaf=8, \n",
    "                               max_features=3,random_state=z)\n",
    "    #model = GradientBoostingClassifier()\n",
    "    #model = SVC()\n",
    "    model.fit(X,y)\n",
    "    print(z)\n",
    "    if model.score(X,y) > z_max_score:\n",
    "        z_max_score = model.score(X,y)\n",
    "        z_max = z\n",
    "    print(\"Accuracy on training set: {:.3f}\".format(model.score(X, y)))\n",
    "\"\"\"\n",
    "predictions=model.predict(X_test)\n",
    "\n",
    "print(z_max)\n",
    "print(z_max_score)\n",
    "\n",
    "\n",
    "output=pd.DataFrame({'PassengerId': test_data.PassengerId, 'Survived': predictions})\n",
    "output.to_csv('my_submission.csv', index=False)\n",
    "print(\"Your submission was saved!\")"
   ]
  },
  {
   "cell_type": "code",
   "execution_count": 129,
   "metadata": {},
   "outputs": [
    {
     "ename": "AttributeError",
     "evalue": "'RandomForestClassifier' object has no attribute 'tree_'",
     "output_type": "error",
     "traceback": [
      "\u001b[1;31m---------------------------------------------------------------------------\u001b[0m",
      "\u001b[1;31mAttributeError\u001b[0m                            Traceback (most recent call last)",
      "\u001b[1;32m<ipython-input-129-5df54aa76ec9>\u001b[0m in \u001b[0;36m<module>\u001b[1;34m\u001b[0m\n\u001b[0;32m      2\u001b[0m \u001b[1;33m\u001b[0m\u001b[0m\n\u001b[0;32m      3\u001b[0m \u001b[0mcolumns\u001b[0m\u001b[1;33m=\u001b[0m\u001b[0mlist\u001b[0m\u001b[1;33m(\u001b[0m\u001b[0mX_test\u001b[0m\u001b[1;33m.\u001b[0m\u001b[0mcolumns\u001b[0m\u001b[1;33m)\u001b[0m\u001b[1;33m\u001b[0m\u001b[1;33m\u001b[0m\u001b[0m\n\u001b[1;32m----> 4\u001b[1;33m \u001b[0mdot_data\u001b[0m \u001b[1;33m=\u001b[0m \u001b[0mtree\u001b[0m\u001b[1;33m.\u001b[0m\u001b[0mexport_graphviz\u001b[0m\u001b[1;33m(\u001b[0m\u001b[0mmodel\u001b[0m\u001b[1;33m,\u001b[0m\u001b[0mout_file\u001b[0m\u001b[1;33m=\u001b[0m\u001b[1;32mNone\u001b[0m\u001b[1;33m,\u001b[0m\u001b[0mfeature_names\u001b[0m\u001b[1;33m=\u001b[0m\u001b[0mcolumns\u001b[0m\u001b[1;33m,\u001b[0m\u001b[0mclass_names\u001b[0m\u001b[1;33m=\u001b[0m\u001b[1;32mTrue\u001b[0m\u001b[1;33m)\u001b[0m\u001b[1;33m\u001b[0m\u001b[1;33m\u001b[0m\u001b[0m\n\u001b[0m\u001b[0;32m      5\u001b[0m \u001b[0mgraph\u001b[0m \u001b[1;33m=\u001b[0m \u001b[0mgraphviz\u001b[0m\u001b[1;33m.\u001b[0m\u001b[0mSource\u001b[0m\u001b[1;33m(\u001b[0m\u001b[0mdot_data\u001b[0m\u001b[1;33m)\u001b[0m\u001b[1;33m\u001b[0m\u001b[1;33m\u001b[0m\u001b[0m\n\u001b[0;32m      6\u001b[0m \u001b[0mgraph\u001b[0m\u001b[1;33m.\u001b[0m\u001b[0mrender\u001b[0m\u001b[1;33m(\u001b[0m\u001b[1;34m\"image13\"\u001b[0m\u001b[1;33m,\u001b[0m\u001b[0mview\u001b[0m\u001b[1;33m=\u001b[0m\u001b[1;32mTrue\u001b[0m\u001b[1;33m)\u001b[0m\u001b[1;33m\u001b[0m\u001b[1;33m\u001b[0m\u001b[0m\n",
      "\u001b[1;32mD:\\Anaconda3\\lib\\site-packages\\sklearn\\tree\\_export.py\u001b[0m in \u001b[0;36mexport_graphviz\u001b[1;34m(decision_tree, out_file, max_depth, feature_names, class_names, label, filled, leaves_parallel, impurity, node_ids, proportion, rotate, rounded, special_characters, precision)\u001b[0m\n\u001b[0;32m    762\u001b[0m             \u001b[0mrounded\u001b[0m\u001b[1;33m=\u001b[0m\u001b[0mrounded\u001b[0m\u001b[1;33m,\u001b[0m \u001b[0mspecial_characters\u001b[0m\u001b[1;33m=\u001b[0m\u001b[0mspecial_characters\u001b[0m\u001b[1;33m,\u001b[0m\u001b[1;33m\u001b[0m\u001b[1;33m\u001b[0m\u001b[0m\n\u001b[0;32m    763\u001b[0m             precision=precision)\n\u001b[1;32m--> 764\u001b[1;33m         \u001b[0mexporter\u001b[0m\u001b[1;33m.\u001b[0m\u001b[0mexport\u001b[0m\u001b[1;33m(\u001b[0m\u001b[0mdecision_tree\u001b[0m\u001b[1;33m)\u001b[0m\u001b[1;33m\u001b[0m\u001b[1;33m\u001b[0m\u001b[0m\n\u001b[0m\u001b[0;32m    765\u001b[0m \u001b[1;33m\u001b[0m\u001b[0m\n\u001b[0;32m    766\u001b[0m         \u001b[1;32mif\u001b[0m \u001b[0mreturn_string\u001b[0m\u001b[1;33m:\u001b[0m\u001b[1;33m\u001b[0m\u001b[1;33m\u001b[0m\u001b[0m\n",
      "\u001b[1;32mD:\\Anaconda3\\lib\\site-packages\\sklearn\\tree\\_export.py\u001b[0m in \u001b[0;36mexport\u001b[1;34m(self, decision_tree)\u001b[0m\n\u001b[0;32m    404\u001b[0m             \u001b[0mself\u001b[0m\u001b[1;33m.\u001b[0m\u001b[0mrecurse\u001b[0m\u001b[1;33m(\u001b[0m\u001b[0mdecision_tree\u001b[0m\u001b[1;33m,\u001b[0m \u001b[1;36m0\u001b[0m\u001b[1;33m,\u001b[0m \u001b[0mcriterion\u001b[0m\u001b[1;33m=\u001b[0m\u001b[1;34m\"impurity\"\u001b[0m\u001b[1;33m)\u001b[0m\u001b[1;33m\u001b[0m\u001b[1;33m\u001b[0m\u001b[0m\n\u001b[0;32m    405\u001b[0m         \u001b[1;32melse\u001b[0m\u001b[1;33m:\u001b[0m\u001b[1;33m\u001b[0m\u001b[1;33m\u001b[0m\u001b[0m\n\u001b[1;32m--> 406\u001b[1;33m             self.recurse(decision_tree.tree_, 0,\n\u001b[0m\u001b[0;32m    407\u001b[0m                          criterion=decision_tree.criterion)\n\u001b[0;32m    408\u001b[0m \u001b[1;33m\u001b[0m\u001b[0m\n",
      "\u001b[1;31mAttributeError\u001b[0m: 'RandomForestClassifier' object has no attribute 'tree_'"
     ]
    }
   ],
   "source": [
    "import graphviz\n",
    "\n",
    "columns=list(X_test.columns)\n",
    "dot_data = tree.export_graphviz(model,out_file=None,feature_names=columns,class_names=True)\n",
    "graph = graphviz.Source(dot_data)\n",
    "graph.render(\"image13\",view=True)\n"
   ]
  },
  {
   "cell_type": "code",
   "execution_count": 105,
   "metadata": {},
   "outputs": [
    {
     "data": {
      "text/plain": [
       "['Pclass',\n",
       " 'SibSp',\n",
       " 'Parch',\n",
       " 'Fare',\n",
       " 'Sex_female',\n",
       " 'Sex_male',\n",
       " 'age_bin_less than 10',\n",
       " 'age_bin_less than 20',\n",
       " 'age_bin_less than 25',\n",
       " 'age_bin_less than 30',\n",
       " 'age_bin_less than 35',\n",
       " 'age_bin_less than 45',\n",
       " 'age_bin_less than 5',\n",
       " 'age_bin_less than 50',\n",
       " 'age_bin_less than 55',\n",
       " 'age_bin_less than 60',\n",
       " 'age_bin_less than 65',\n",
       " 'age_bin_less than 70',\n",
       " 'age_bin_less than 75',\n",
       " 'age_bin_less than 85',\n",
       " 'age_bin_less thank 15',\n",
       " 'age_bin_less thank 40',\n",
       " 'age_bin_unknown',\n",
       " 'cabin_code_A',\n",
       " 'cabin_code_B',\n",
       " 'cabin_code_C',\n",
       " 'cabin_code_D',\n",
       " 'cabin_code_E',\n",
       " 'cabin_code_F',\n",
       " 'cabin_code_G',\n",
       " 'cabin_code_T',\n",
       " 'cabin_code_none',\n",
       " 'Embarked_C',\n",
       " 'Embarked_Q',\n",
       " 'Embarked_S',\n",
       " 'Honorific_Capt.',\n",
       " 'Honorific_Col.',\n",
       " 'Honorific_Don.',\n",
       " 'Honorific_Dr.',\n",
       " 'Honorific_Jonkheer.',\n",
       " 'Honorific_Lady.',\n",
       " 'Honorific_Major.',\n",
       " 'Honorific_Master.',\n",
       " 'Honorific_Miss.',\n",
       " 'Honorific_Mlle.',\n",
       " 'Honorific_Mme.',\n",
       " 'Honorific_Mr.',\n",
       " 'Honorific_Mrs.',\n",
       " 'Honorific_Ms.',\n",
       " 'Honorific_Rev.',\n",
       " 'Honorific_Sir.',\n",
       " 'Honorific_the']"
      ]
     },
     "execution_count": 105,
     "metadata": {},
     "output_type": "execute_result"
    }
   ],
   "source": [
    "#Following 2 lines\n",
    "columns = X.columns\n",
    "columns.tolist()\n"
   ]
  },
  {
   "cell_type": "code",
   "execution_count": 95,
   "metadata": {},
   "outputs": [
    {
     "name": "stdout",
     "output_type": "stream",
     "text": [
      "Feature importances:\n",
      "[0.14093575 0.         0.0008988  0.20004059 0.04384309 0.\n",
      " 0.         0.         0.00227607 0.00210688 0.         0.\n",
      " 0.         0.         0.         0.         0.         0.\n",
      " 0.         0.         0.         0.         0.         0.\n",
      " 0.         0.         0.         0.         0.         0.\n",
      " 0.         0.         0.         0.         0.01142277 0.\n",
      " 0.         0.         0.         0.         0.         0.\n",
      " 0.         0.         0.         0.         0.59847605 0.\n",
      " 0.         0.         0.         0.        ]\n"
     ]
    }
   ],
   "source": [
    "print(\"Feature importances:\\n{}\".format(model.feature_importances_))"
   ]
  },
  {
   "cell_type": "code",
   "execution_count": 96,
   "metadata": {},
   "outputs": [],
   "source": [
    "def plot_feature_importances_titanic(model):\n",
    "    n_features = X_test.shape[1]\n",
    "    plt.barh(range(n_features), model.feature_importances_, align='center')\n",
    "    plt.yticks(np.arange(n_features), columns)\n",
    "    plt.xlabel(\"Feature Importance\")\n",
    "    plt.ylabel(\"Feature\")\n",
    "    plt.ylim(-1, n_features)\n",
    "    "
   ]
  },
  {
   "cell_type": "code",
   "execution_count": 97,
   "metadata": {
    "scrolled": true
   },
   "outputs": [
    {
     "data": {
      "image/png": "[encoded data removed]",
      "text/plain": [
       "<Figure size 720x1440 with 1 Axes>"
      ]
     },
     "metadata": {
      "needs_background": "light"
     },
     "output_type": "display_data"
    }
   ],
   "source": [
    "plot_feature_importances_titanic(model)"
   ]
  },
  {
   "cell_type": "code",
   "execution_count": null,
   "metadata": {},
   "outputs": [],
   "source": []
  },
  {
   "cell_type": "code",
   "execution_count": null,
   "metadata": {},
   "outputs": [],
   "source": []
  }
 ],
 "metadata": {
  "kernelspec": {
   "display_name": "Python 3",
   "language": "python",
   "name": "python3"
  },
  "language_info": {
   "codemirror_mode": {
    "name": "ipython",
    "version": 3
   },
   "file_extension": ".py",
   "mimetype": "text/x-python",
   "name": "python",
   "nbconvert_exporter": "python",
   "pygments_lexer": "ipython3",
   "version": "3.7.6"
  }
 },
 "nbformat": 4,
 "nbformat_minor": 4
}
