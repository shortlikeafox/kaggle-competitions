{
 "cells": [
  {
   "cell_type": "code",
   "execution_count": 13,
   "metadata": {},
   "outputs": [],
   "source": [
    "%matplotlib inline\n",
    "#manipulation\n",
    "import numpy as np\n",
    "import pandas as pd\n",
    "#visualization\n",
    "import matplotlib.pyplot as plt\n",
    "import seaborn as sns\n",
    "#preprocessing\n",
    "from sklearn import preprocessing \n",
    "from sklearn.preprocessing import OneHotEncoder\n",
    "from scipy.stats import skew\n",
    "from sklearn.metrics import mean_squared_error\n",
    "#ignore warnings because they are annoying\n",
    "import warnings\n",
    "warnings.filterwarnings('ignore')"
   ]
  },
  {
   "cell_type": "code",
   "execution_count": 14,
   "metadata": {},
   "outputs": [],
   "source": [
    "train=pd.read_csv(\"data/train.csv\")\n",
    "test=pd.read_csv(\"data/test.csv\")\n",
    "sample_submission=pd.read_csv(\"data/sample_submission.csv\")"
   ]
  },
  {
   "cell_type": "code",
   "execution_count": 15,
   "metadata": {},
   "outputs": [],
   "source": [
    "#Drop Id and create a total data set\n",
    "train_id = train['Id']\n",
    "test_id = test['Id']\n",
    "train.drop('Id', axis=1, inplace=True)\n",
    "test.drop('Id', axis=1, inplace=True)\n",
    "total=train.append(test)"
   ]
  },
  {
   "cell_type": "code",
   "execution_count": 17,
   "metadata": {},
   "outputs": [
    {
     "data": {
      "text/html": [
       "<div>\n",
       "<style scoped>\n",
       "    .dataframe tbody tr th:only-of-type {\n",
       "        vertical-align: middle;\n",
       "    }\n",
       "\n",
       "    .dataframe tbody tr th {\n",
       "        vertical-align: top;\n",
       "    }\n",
       "\n",
       "    .dataframe thead th {\n",
       "        text-align: right;\n",
       "    }\n",
       "</style>\n",
       "<table border=\"1\" class=\"dataframe\">\n",
       "  <thead>\n",
       "    <tr style=\"text-align: right;\">\n",
       "      <th></th>\n",
       "      <th>Missing Ratio</th>\n",
       "    </tr>\n",
       "  </thead>\n",
       "  <tbody>\n",
       "    <tr>\n",
       "      <th>PoolQC</th>\n",
       "      <td>99.657417</td>\n",
       "    </tr>\n",
       "    <tr>\n",
       "      <th>MiscFeature</th>\n",
       "      <td>96.402878</td>\n",
       "    </tr>\n",
       "    <tr>\n",
       "      <th>Alley</th>\n",
       "      <td>93.216855</td>\n",
       "    </tr>\n",
       "    <tr>\n",
       "      <th>Fence</th>\n",
       "      <td>80.438506</td>\n",
       "    </tr>\n",
       "    <tr>\n",
       "      <th>SalePrice</th>\n",
       "      <td>49.982871</td>\n",
       "    </tr>\n",
       "    <tr>\n",
       "      <th>FireplaceQu</th>\n",
       "      <td>48.646797</td>\n",
       "    </tr>\n",
       "    <tr>\n",
       "      <th>LotFrontage</th>\n",
       "      <td>16.649538</td>\n",
       "    </tr>\n",
       "    <tr>\n",
       "      <th>GarageYrBlt</th>\n",
       "      <td>5.447071</td>\n",
       "    </tr>\n",
       "    <tr>\n",
       "      <th>GarageFinish</th>\n",
       "      <td>5.447071</td>\n",
       "    </tr>\n",
       "    <tr>\n",
       "      <th>GarageQual</th>\n",
       "      <td>5.447071</td>\n",
       "    </tr>\n",
       "    <tr>\n",
       "      <th>GarageCond</th>\n",
       "      <td>5.447071</td>\n",
       "    </tr>\n",
       "    <tr>\n",
       "      <th>GarageType</th>\n",
       "      <td>5.378554</td>\n",
       "    </tr>\n",
       "    <tr>\n",
       "      <th>BsmtCond</th>\n",
       "      <td>2.809181</td>\n",
       "    </tr>\n",
       "    <tr>\n",
       "      <th>BsmtExposure</th>\n",
       "      <td>2.809181</td>\n",
       "    </tr>\n",
       "    <tr>\n",
       "      <th>BsmtQual</th>\n",
       "      <td>2.774923</td>\n",
       "    </tr>\n",
       "    <tr>\n",
       "      <th>BsmtFinType2</th>\n",
       "      <td>2.740665</td>\n",
       "    </tr>\n",
       "    <tr>\n",
       "      <th>BsmtFinType1</th>\n",
       "      <td>2.706406</td>\n",
       "    </tr>\n",
       "    <tr>\n",
       "      <th>MasVnrType</th>\n",
       "      <td>0.822199</td>\n",
       "    </tr>\n",
       "    <tr>\n",
       "      <th>MasVnrArea</th>\n",
       "      <td>0.787941</td>\n",
       "    </tr>\n",
       "    <tr>\n",
       "      <th>MSZoning</th>\n",
       "      <td>0.137033</td>\n",
       "    </tr>\n",
       "    <tr>\n",
       "      <th>BsmtFullBath</th>\n",
       "      <td>0.068517</td>\n",
       "    </tr>\n",
       "    <tr>\n",
       "      <th>BsmtHalfBath</th>\n",
       "      <td>0.068517</td>\n",
       "    </tr>\n",
       "    <tr>\n",
       "      <th>Functional</th>\n",
       "      <td>0.068517</td>\n",
       "    </tr>\n",
       "    <tr>\n",
       "      <th>Utilities</th>\n",
       "      <td>0.068517</td>\n",
       "    </tr>\n",
       "    <tr>\n",
       "      <th>BsmtFinSF2</th>\n",
       "      <td>0.034258</td>\n",
       "    </tr>\n",
       "    <tr>\n",
       "      <th>BsmtUnfSF</th>\n",
       "      <td>0.034258</td>\n",
       "    </tr>\n",
       "    <tr>\n",
       "      <th>BsmtFinSF1</th>\n",
       "      <td>0.034258</td>\n",
       "    </tr>\n",
       "    <tr>\n",
       "      <th>TotalBsmtSF</th>\n",
       "      <td>0.034258</td>\n",
       "    </tr>\n",
       "    <tr>\n",
       "      <th>SaleType</th>\n",
       "      <td>0.034258</td>\n",
       "    </tr>\n",
       "    <tr>\n",
       "      <th>KitchenQual</th>\n",
       "      <td>0.034258</td>\n",
       "    </tr>\n",
       "    <tr>\n",
       "      <th>Exterior2nd</th>\n",
       "      <td>0.034258</td>\n",
       "    </tr>\n",
       "    <tr>\n",
       "      <th>Exterior1st</th>\n",
       "      <td>0.034258</td>\n",
       "    </tr>\n",
       "    <tr>\n",
       "      <th>GarageCars</th>\n",
       "      <td>0.034258</td>\n",
       "    </tr>\n",
       "    <tr>\n",
       "      <th>GarageArea</th>\n",
       "      <td>0.034258</td>\n",
       "    </tr>\n",
       "    <tr>\n",
       "      <th>Electrical</th>\n",
       "      <td>0.034258</td>\n",
       "    </tr>\n",
       "  </tbody>\n",
       "</table>\n",
       "</div>"
      ],
      "text/plain": [
       "              Missing Ratio\n",
       "PoolQC            99.657417\n",
       "MiscFeature       96.402878\n",
       "Alley             93.216855\n",
       "Fence             80.438506\n",
       "SalePrice         49.982871\n",
       "FireplaceQu       48.646797\n",
       "LotFrontage       16.649538\n",
       "GarageYrBlt        5.447071\n",
       "GarageFinish       5.447071\n",
       "GarageQual         5.447071\n",
       "GarageCond         5.447071\n",
       "GarageType         5.378554\n",
       "BsmtCond           2.809181\n",
       "BsmtExposure       2.809181\n",
       "BsmtQual           2.774923\n",
       "BsmtFinType2       2.740665\n",
       "BsmtFinType1       2.706406\n",
       "MasVnrType         0.822199\n",
       "MasVnrArea         0.787941\n",
       "MSZoning           0.137033\n",
       "BsmtFullBath       0.068517\n",
       "BsmtHalfBath       0.068517\n",
       "Functional         0.068517\n",
       "Utilities          0.068517\n",
       "BsmtFinSF2         0.034258\n",
       "BsmtUnfSF          0.034258\n",
       "BsmtFinSF1         0.034258\n",
       "TotalBsmtSF        0.034258\n",
       "SaleType           0.034258\n",
       "KitchenQual        0.034258\n",
       "Exterior2nd        0.034258\n",
       "Exterior1st        0.034258\n",
       "GarageCars         0.034258\n",
       "GarageArea         0.034258\n",
       "Electrical         0.034258"
      ]
     },
     "execution_count": 17,
     "metadata": {},
     "output_type": "execute_result"
    }
   ],
   "source": [
    "missing=(total.isnull().sum() / len(total)) *100\n",
    "missing=missing.drop(missing[missing==0].index).sort_values(ascending=False)\n",
    "missing=pd.DataFrame({'Missing Ratio' :missing})\n",
    "missing.head(40)"
   ]
  },
  {
   "cell_type": "code",
   "execution_count": 18,
   "metadata": {},
   "outputs": [],
   "source": [
    "total['PoolQC'] = total['PoolQC'].fillna('None')\n",
    "total['MiscFeature'] = total['MiscFeature'].fillna('None')\n",
    "total['Alley'] = total['Alley'].fillna('None')\n",
    "total['Fence'] = total['Fence'].fillna('None')\n",
    "total['FireplaceQu'] = total['FireplaceQu'].fillna('None')"
   ]
  },
  {
   "cell_type": "code",
   "execution_count": 19,
   "metadata": {},
   "outputs": [],
   "source": [
    "total['FireplaceQu'] = total['FireplaceQu'].fillna('None')\n",
    "for feat in ('GarageType', 'GarageFinish', 'GarageCond'):\n",
    "    total[feat] = total[feat].fillna('None')\n",
    "for feat in ('GarageArea', 'GarageCars', 'GarageYrBlt', 'GarageQual'):\n",
    "    total[feat] = total[feat].fillna(0)"
   ]
  },
  {
   "cell_type": "code",
   "execution_count": 20,
   "metadata": {},
   "outputs": [],
   "source": [
    "for feat in ('BsmtQual', 'BsmtCond', 'BsmtExposure', 'BsmtFinType1', 'BsmtFinType2'):\n",
    "    total[feat] = total[feat].fillna('None')\n",
    "for feat in ('BsmtFinSF1', 'BsmtFinSF2', 'BsmtUnfSF', 'BsmtFullBath', 'BsmtHalfBath', 'TotalBsmtSF'):\n",
    "    total[feat] = total[feat].fillna(0)"
   ]
  },
  {
   "cell_type": "code",
   "execution_count": 21,
   "metadata": {},
   "outputs": [],
   "source": [
    "total['MasVnrType'] = total['MasVnrType'].fillna('None')\n",
    "total['MasVnrArea'] = total['MasVnrArea'].fillna(0)\n",
    "total['Functional'] = total['Functional'].fillna('Typical')\n",
    "#guessing that NA means no building class\n",
    "total['MSSubClass'] = total['MSSubClass'].fillna('None')"
   ]
  },
  {
   "cell_type": "code",
   "execution_count": 22,
   "metadata": {},
   "outputs": [],
   "source": [
    "for feat in ('MSZoning', 'Utilities', 'KitchenQual', 'SaleType', 'Exterior1st', 'Exterior2nd', 'Electrical'):\n",
    "    total[feat] = total[feat].fillna(total[feat].mode()[0])"
   ]
  },
  {
   "cell_type": "code",
   "execution_count": 23,
   "metadata": {},
   "outputs": [],
   "source": [
    "total['LotFrontage'] = total.groupby('Neighborhood')['LotFrontage'].transform(lambda i: i.fillna(i.mean()))"
   ]
  },
  {
   "cell_type": "code",
   "execution_count": 25,
   "metadata": {},
   "outputs": [
    {
     "data": {
      "image/png": "[encoded data removed]",
      "text/plain": [
       "<Figure size 864x648 with 2 Axes>"
      ]
     },
     "metadata": {
      "needs_background": "light"
     },
     "output_type": "display_data"
    }
   ],
   "source": [
    "corr = train.corr()\n",
    "plt.subplots(figsize=(12,9))\n",
    "sns.heatmap(corr, vmax=0.9, square=True)\n",
    "plt.show()"
   ]
  },
  {
   "cell_type": "code",
   "execution_count": 26,
   "metadata": {},
   "outputs": [
    {
     "name": "stdout",
     "output_type": "stream",
     "text": [
      "int64\n"
     ]
    }
   ],
   "source": [
    "print(total['MSSubClass'].dtype)"
   ]
  },
  {
   "cell_type": "code",
   "execution_count": 27,
   "metadata": {},
   "outputs": [],
   "source": [
    "total['MSSubClass']=total['MSSubClass'].apply(str)"
   ]
  },
  {
   "cell_type": "code",
   "execution_count": 28,
   "metadata": {},
   "outputs": [
    {
     "name": "stdout",
     "output_type": "stream",
     "text": [
      "object\n"
     ]
    }
   ],
   "source": [
    "print(total['MSSubClass'].dtype)"
   ]
  },
  {
   "cell_type": "code",
   "execution_count": 29,
   "metadata": {},
   "outputs": [
    {
     "data": {
      "image/png": "[encoded data removed]",
      "text/plain": [
       "<Figure size 1080x576 with 2 Axes>"
      ]
     },
     "metadata": {
      "needs_background": "light"
     },
     "output_type": "display_data"
    }
   ],
   "source": [
    "fig, ax = plt.subplots(1,2,figsize=(15,8))\n",
    "sns.kdeplot(train['SalePrice'], shade=True, ax=ax[0])\n",
    "sns.kdeplot(np.log1p(train[\"SalePrice\"]), shade=True, ax=ax[1])\n",
    "plt.suptitle('Log Transform of SalePrice')\n",
    "fig.tight_layout(pad=3.0)"
   ]
  },
  {
   "cell_type": "code",
   "execution_count": 31,
   "metadata": {},
   "outputs": [],
   "source": [
    "numeric_feats=total.dtypes[total.dtypes!=\"object\"].index\n",
    "#Calculate the skewness of the variables\n",
    "skewed_feats=total[numeric_feats].apply(lambda i: skew(i.dropna()))\n",
    "skewed_feats=skewed_feats[skewed_feats>0.75]\n",
    "skewed_feats=skewed_feats.index\n",
    "#log transform all numeric features\n",
    "total[skewed_feats]=np.log1p(total[skewed_feats])"
   ]
  },
  {
   "cell_type": "code",
   "execution_count": 32,
   "metadata": {},
   "outputs": [
    {
     "data": {
      "text/plain": [
       "(2919, 319)"
      ]
     },
     "execution_count": 32,
     "metadata": {},
     "output_type": "execute_result"
    }
   ],
   "source": [
    "#Encoding categorical variables\n",
    "total=pd.get_dummies(total)\n",
    "total.shape"
   ]
  },
  {
   "cell_type": "code",
   "execution_count": 40,
   "metadata": {},
   "outputs": [],
   "source": [
    "#import necessary libraries for machine learning\n",
    "from sklearn.linear_model import LassoCV, ElasticNet, RidgeCV\n",
    "from sklearn.svm import SVR\n",
    "from sklearn.ensemble import GradientBoostingRegressor, RandomForestRegressor\n",
    "import xgboost as xgb\n",
    "import lightgbm as lgb\n",
    "from sklearn.model_selection import GridSearchCV\n",
    "from mlxtend.regressor import StackingCVRegressor\n",
    "from sklearn.model_selection import cross_val_score\n",
    "from sklearn.preprocessing import StandardScaler\n",
    "from sklearn.preprocessing import RobustScaler"
   ]
  },
  {
   "cell_type": "code",
   "execution_count": 39,
   "metadata": {},
   "outputs": [
    {
     "name": "stdout",
     "output_type": "stream",
     "text": [
      "Collecting mlxtend\n",
      "  Downloading mlxtend-0.17.2-py2.py3-none-any.whl (1.3 MB)\n",
      "Requirement already satisfied: scikit-learn>=0.20.3 in d:\\anaconda3\\lib\\site-packages (from mlxtend) (0.22.1)\n",
      "Requirement already satisfied: setuptools in d:\\anaconda3\\lib\\site-packages (from mlxtend) (46.1.1.post20200323)\n",
      "Requirement already satisfied: joblib>=0.13.2 in d:\\anaconda3\\lib\\site-packages (from mlxtend) (0.14.1)\n",
      "Requirement already satisfied: pandas>=0.24.2 in d:\\anaconda3\\lib\\site-packages (from mlxtend) (1.0.3)\n",
      "Requirement already satisfied: scipy>=1.2.1 in d:\\anaconda3\\lib\\site-packages (from mlxtend) (1.4.1)\n",
      "Requirement already satisfied: numpy>=1.16.2 in d:\\anaconda3\\lib\\site-packages (from mlxtend) (1.18.1)\n",
      "Requirement already satisfied: matplotlib>=3.0.0 in d:\\anaconda3\\lib\\site-packages (from mlxtend) (3.1.3)\n",
      "Requirement already satisfied: pytz>=2017.2 in d:\\anaconda3\\lib\\site-packages (from pandas>=0.24.2->mlxtend) (2019.3)\n",
      "Requirement already satisfied: python-dateutil>=2.6.1 in d:\\anaconda3\\lib\\site-packages (from pandas>=0.24.2->mlxtend) (2.8.1)\n",
      "Requirement already satisfied: pyparsing!=2.0.4,!=2.1.2,!=2.1.6,>=2.0.1 in d:\\anaconda3\\lib\\site-packages (from matplotlib>=3.0.0->mlxtend) (2.4.6)\n",
      "Requirement already satisfied: kiwisolver>=1.0.1 in d:\\anaconda3\\lib\\site-packages (from matplotlib>=3.0.0->mlxtend) (1.1.0)\n",
      "Requirement already satisfied: cycler>=0.10 in d:\\anaconda3\\lib\\site-packages (from matplotlib>=3.0.0->mlxtend) (0.10.0)\n",
      "Requirement already satisfied: six>=1.5 in d:\\anaconda3\\lib\\site-packages (from python-dateutil>=2.6.1->pandas>=0.24.2->mlxtend) (1.14.0)\n",
      "Installing collected packages: mlxtend\n",
      "Successfully installed mlxtend-0.17.2\n",
      "Note: you may need to restart the kernel to use updated packages.\n"
     ]
    }
   ],
   "source": []
  },
  {
   "cell_type": "code",
   "execution_count": 42,
   "metadata": {},
   "outputs": [],
   "source": [
    "#Split total into train and test\n",
    "train=total[:len(train)]\n",
    "test=total[len(train):]\n",
    "\n",
    "#Split training data for machine learning purposes\n",
    "X_train = train.drop('SalePrice', axis = 1)\n",
    "y_train = train['SalePrice']\n",
    "X_test=test.drop('SalePrice', axis=1)\n",
    "#Standardize data with robust scaler, because it is more robust to outliers than standards scaling\n",
    "X_train=preprocessing.RobustScaler().fit(X_train).transform(X_train)\n",
    "X_test=preprocessing.RobustScaler().fit(X_test).transform(X_test)"
   ]
  },
  {
   "cell_type": "code",
   "execution_count": 43,
   "metadata": {},
   "outputs": [],
   "source": [
    "#Define cv RMSE function to evaluate the accuracty of our algorithms\n",
    "def rmse_cv(model):\n",
    "    rmse=np.sqrt(-cross_val_score(model, X_train, y_train, scoring=\"neg_mean_squared_error\", cv=5))\n",
    "    return(rmse)"
   ]
  },
  {
   "cell_type": "code",
   "execution_count": 53,
   "metadata": {},
   "outputs": [],
   "source": [
    "#print mean and std\n",
    "def print_model_stats(model):\n",
    "    print(\"RMSE: \", rmse_cv(model).mean(), \"STD:\", rmse_cv(model).std())"
   ]
  },
  {
   "cell_type": "code",
   "execution_count": 54,
   "metadata": {},
   "outputs": [
    {
     "data": {
      "text/plain": [
       "(1460, 318)"
      ]
     },
     "execution_count": 54,
     "metadata": {},
     "output_type": "execute_result"
    }
   ],
   "source": [
    "X_train.shape"
   ]
  },
  {
   "cell_type": "code",
   "execution_count": 55,
   "metadata": {},
   "outputs": [
    {
     "name": "stdout",
     "output_type": "stream",
     "text": [
      "RMSE:  0.12658095175568257 STD: 0.014981250300351964\n"
     ]
    }
   ],
   "source": [
    "#1. Regression models\n",
    "#RidgeCV\n",
    "model_ridge=RidgeCV(alphas=[0.05, 0.1, 0.3, 1, 3, 5, 10, 15, 30, 50, 70]).fit(X_train, y_train)\n",
    "print_model_stats(model_ridge)"
   ]
  },
  {
   "cell_type": "code",
   "execution_count": 57,
   "metadata": {},
   "outputs": [
    {
     "name": "stdout",
     "output_type": "stream",
     "text": [
      "RMSE:  0.12262384575452705 STD: 0.015724858449651172\n"
     ]
    }
   ],
   "source": [
    "#LassoCV\n",
    "model_lasso=LassoCV(alphas=[0.1, 0.001, 0.0005]).fit(X_train, y_train)\n",
    "print_model_stats(model_lasso)"
   ]
  },
  {
   "cell_type": "code",
   "execution_count": 58,
   "metadata": {},
   "outputs": [
    {
     "name": "stdout",
     "output_type": "stream",
     "text": [
      "RMSE:  0.12271424148640779 STD: 0.01574314142461746\n"
     ]
    }
   ],
   "source": [
    "#ElasticNet\n",
    "model_enet=ElasticNet(alpha=0.0005, l1_ratio=.9, random_state=3).fit(X_train, y_train)\n",
    "print_model_stats(model_enet)"
   ]
  },
  {
   "cell_type": "code",
   "execution_count": 59,
   "metadata": {},
   "outputs": [
    {
     "name": "stdout",
     "output_type": "stream",
     "text": [
      "RMSE:  0.12327073280129178 STD: 0.01905143256901432\n"
     ]
    }
   ],
   "source": [
    "#SVR\n",
    "model_svr=SVR(C=20, epsilon=0.008, gamma=0.0003).fit(X_train, y_train)\n",
    "print_model_stats(model_svr)"
   ]
  },
  {
   "cell_type": "code",
   "execution_count": 61,
   "metadata": {},
   "outputs": [
    {
     "name": "stdout",
     "output_type": "stream",
     "text": [
      "RMSE:  0.12371106838865382 STD: 0.009642534870074193\n"
     ]
    }
   ],
   "source": [
    "#2.Ensemble Models\n",
    "#XGBoost\n",
    "model_xgb=xgb.XGBRegressor(eta=.05, n_estimators=1000, max_depth=3, min_child_weight=4, learning_rate=0.1).fit(X_train, y_train)\n",
    "print_model_stats(model_xgb)"
   ]
  },
  {
   "cell_type": "code",
   "execution_count": 62,
   "metadata": {},
   "outputs": [
    {
     "name": "stdout",
     "output_type": "stream",
     "text": [
      "RMSE:  0.1249381968439814 STD: 0.012294920497425872\n"
     ]
    }
   ],
   "source": [
    "#GradientBoosting\n",
    "model_gboost=GradientBoostingRegressor(n_estimators=3000, learning_rate=0.05,\n",
    "                                      max_depth=4, max_features='sqrt',\n",
    "                                      min_samples_leaf=15, min_samples_split=10,\n",
    "                                      loss='huber', random_state=5)\n",
    "model_gboost.fit(X_train, y_train)\n",
    "print_model_stats(model_gboost)"
   ]
  },
  {
   "cell_type": "code",
   "execution_count": 66,
   "metadata": {},
   "outputs": [
    {
     "name": "stdout",
     "output_type": "stream",
     "text": [
      "RMSE:  0.12251555153662982 STD: 0.009219931027869213\n"
     ]
    }
   ],
   "source": [
    "#LightGBM\n",
    "model_lgbm=lgb.LGBMRegressor(objective='regression',                                       \n",
    "                                        num_leaves=4,\n",
    "                                       learning_rate=0.01, \n",
    "                                       n_estimators=5000,\n",
    "                                       max_bin=200, \n",
    "                                       bagging_fraction=0.75,\n",
    "                                      bagging_freq=5, \n",
    "                                      bagging_seed=7,\n",
    "                                      feature_fraction=0.2,\n",
    "                                      feature_fraction_seed=7,\n",
    "                                      verbose=-1)\n",
    "model_lgbm.fit(X_train, y_train)\n",
    "print_model_stats(model_lgbm)"
   ]
  },
  {
   "cell_type": "code",
   "execution_count": 67,
   "metadata": {},
   "outputs": [],
   "source": [
    "#Performance of Averaged Models\n",
    "def rmse(y, y_pred):\n",
    "    return np.sqrt(mean_squared_error(y_train, train_pred))"
   ]
  },
  {
   "cell_type": "code",
   "execution_count": 68,
   "metadata": {},
   "outputs": [],
   "source": [
    "enet_pred_train = model_enet.predict(X_train)\n",
    "ridge_pred_train = model_ridge.predict(X_train)\n",
    "lasso_pred_train = model_lasso.predict(X_train)\n",
    "svr_pred_train = model_svr.predict(X_train)\n",
    "xgb_pred_train = model_xgb.predict(X_train)\n",
    "gboost_pred_train = model_gboost.predict(X_train)\n",
    "lgbm_pred_train = model_lgbm.predict(X_train)"
   ]
  },
  {
   "cell_type": "code",
   "execution_count": 69,
   "metadata": {},
   "outputs": [
    {
     "name": "stdout",
     "output_type": "stream",
     "text": [
      "0.10341479481828943\n"
     ]
    }
   ],
   "source": [
    "#compute rmse of optimal mix\n",
    "train_pred = .5*lasso_pred_train +.45*svr_pred_train + .05*enet_pred_train\n",
    "print(rmse(y_train, train_pred))"
   ]
  },
  {
   "cell_type": "code",
   "execution_count": 70,
   "metadata": {},
   "outputs": [
    {
     "name": "stdout",
     "output_type": "stream",
     "text": [
      "0.08574721751368636\n"
     ]
    }
   ],
   "source": [
    "#add ensemble\n",
    "train_pred = .35*lasso_pred_train +.3*svr_pred_train + .05*enet_pred_train + .1*gboost_pred_train +.1*xgb_pred_train + .1*lgbm_pred_train\n",
    "print(rmse(y_train, train_pred))"
   ]
  },
  {
   "cell_type": "code",
   "execution_count": 71,
   "metadata": {},
   "outputs": [
    {
     "name": "stdout",
     "output_type": "stream",
     "text": [
      "0.08291584419585095\n"
     ]
    }
   ],
   "source": [
    "#adjust weights\n",
    "train_pred = .35*lasso_pred_train +.25*svr_pred_train + .05*enet_pred_train + .15*gboost_pred_train +.1*xgb_pred_train + .1*lgbm_pred_train\n",
    "print(rmse(y_train, train_pred))"
   ]
  },
  {
   "cell_type": "code",
   "execution_count": 72,
   "metadata": {},
   "outputs": [],
   "source": [
    "ridge_pred = model_ridge.predict(X_test)\n",
    "ridge_pred = np.expm1(ridge_pred)\n",
    "lasso_pred = model_lasso.predict(X_test)\n",
    "lasso_pred = np.expm1(lasso_pred)\n",
    "enet_pred = model_enet.predict(X_test)\n",
    "enet_pred = np.expm1(enet_pred)\n",
    "svr_pred = model_svr.predict(X_test)\n",
    "svr_pred = np.expm1(svr_pred)\n",
    "xgb_pred = model_xgb.predict(X_test)\n",
    "xgb_pred = np.expm1(xgb_pred)\n",
    "gboost_pred = model_gboost.predict(X_test)\n",
    "gboost_pred = np.expm1(gboost_pred)\n",
    "lgbm_pred = model_lgbm.predict(X_test)\n",
    "lgbm_pred = np.expm1(lgbm_pred)"
   ]
  },
  {
   "cell_type": "code",
   "execution_count": 73,
   "metadata": {},
   "outputs": [],
   "source": [
    "pred = .2*enet_pred + .6*svr_pred + .05*xgb_pred + .05*gboost_pred + .1*lgbm_pred #best so far\n",
    "\n",
    "#to test\n",
    "#pred = .5*lasso_pred +.45*svr_pred + .05*enet_pred #.1227\n",
    "#pred = .3*xgb_pred + .3*gboost_pred + .4*lgbm_pred #.127\n",
    "#pred = .35*lasso_pred+.3*svr_pred + .05*enet_pred + .1*gboost_pred +.1*xgb_pred + .1*lgbm_pred #.125\n",
    "#pred = .35*lasso_pred +.25*svr_pred + .05*enet_pred + .15*gboost_pred +.1*xgb_pred + .1*lgbm_pred"
   ]
  },
  {
   "cell_type": "code",
   "execution_count": 76,
   "metadata": {},
   "outputs": [
    {
     "data": {
      "text/html": [
       "<div>\n",
       "<style scoped>\n",
       "    .dataframe tbody tr th:only-of-type {\n",
       "        vertical-align: middle;\n",
       "    }\n",
       "\n",
       "    .dataframe tbody tr th {\n",
       "        vertical-align: top;\n",
       "    }\n",
       "\n",
       "    .dataframe thead th {\n",
       "        text-align: right;\n",
       "    }\n",
       "</style>\n",
       "<table border=\"1\" class=\"dataframe\">\n",
       "  <thead>\n",
       "    <tr style=\"text-align: right;\">\n",
       "      <th></th>\n",
       "      <th>Id</th>\n",
       "      <th>SalePrice</th>\n",
       "    </tr>\n",
       "  </thead>\n",
       "  <tbody>\n",
       "    <tr>\n",
       "      <th>0</th>\n",
       "      <td>1461</td>\n",
       "      <td>123899.359696</td>\n",
       "    </tr>\n",
       "    <tr>\n",
       "      <th>1</th>\n",
       "      <td>1462</td>\n",
       "      <td>163765.111525</td>\n",
       "    </tr>\n",
       "    <tr>\n",
       "      <th>2</th>\n",
       "      <td>1463</td>\n",
       "      <td>185792.049491</td>\n",
       "    </tr>\n",
       "    <tr>\n",
       "      <th>3</th>\n",
       "      <td>1464</td>\n",
       "      <td>199012.522359</td>\n",
       "    </tr>\n",
       "    <tr>\n",
       "      <th>4</th>\n",
       "      <td>1465</td>\n",
       "      <td>202750.620943</td>\n",
       "    </tr>\n",
       "  </tbody>\n",
       "</table>\n",
       "</div>"
      ],
      "text/plain": [
       "     Id      SalePrice\n",
       "0  1461  123899.359696\n",
       "1  1462  163765.111525\n",
       "2  1463  185792.049491\n",
       "3  1464  199012.522359\n",
       "4  1465  202750.620943"
      ]
     },
     "execution_count": 76,
     "metadata": {},
     "output_type": "execute_result"
    }
   ],
   "source": [
    "# create dataframe that resembles what we are to submit to kaggle\n",
    "submission = pd.DataFrame()\n",
    "submission['Id'] = test_id\n",
    "#add predictions\n",
    "submission['SalePrice'] = lgbm_pred\n",
    "submission.head()"
   ]
  },
  {
   "cell_type": "code",
   "execution_count": 77,
   "metadata": {},
   "outputs": [
    {
     "name": "stdout",
     "output_type": "stream",
     "text": [
      "Submission has been saved\n"
     ]
    }
   ],
   "source": [
    "#save final predictions to a csv file\n",
    "submission.to_csv('submission.csv', index=False)\n",
    "print(\"Submission has been saved\")"
   ]
  },
  {
   "cell_type": "code",
   "execution_count": null,
   "metadata": {},
   "outputs": [],
   "source": []
  }
 ],
 "metadata": {
  "kernelspec": {
   "display_name": "Python 3",
   "language": "python",
   "name": "python3"
  },
  "language_info": {
   "codemirror_mode": {
    "name": "ipython",
    "version": 3
   },
   "file_extension": ".py",
   "mimetype": "text/x-python",
   "name": "python",
   "nbconvert_exporter": "python",
   "pygments_lexer": "ipython3",
   "version": "3.7.6"
  }
 },
 "nbformat": 4,
 "nbformat_minor": 4
}
