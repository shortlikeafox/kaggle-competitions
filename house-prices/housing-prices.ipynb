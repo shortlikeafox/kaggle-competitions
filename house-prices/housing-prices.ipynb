{
 "cells": [
  {
   "cell_type": "code",
   "execution_count": 13,
   "metadata": {},
   "outputs": [],
   "source": [
    "import pandas as pd\n",
    "import numpy as np\n",
    "from sklearn.linear_model import LinearRegression\n",
    "from sklearn.preprocessing import StandardScaler\n"
   ]
  },
  {
   "cell_type": "code",
   "execution_count": 3,
   "metadata": {},
   "outputs": [],
   "source": [
    "train_data = pd.read_csv(\"data/train.csv\")\n",
    "test_data = pd.read_csv(\"data/test.csv\")"
   ]
  },
  {
   "cell_type": "code",
   "execution_count": 14,
   "metadata": {},
   "outputs": [],
   "source": [
    "#scaler information\n",
    "scaler = StandardScaler()\n"
   ]
  },
  {
   "cell_type": "code",
   "execution_count": 30,
   "metadata": {},
   "outputs": [
    {
     "data": {
      "text/html": [
       "<div>\n",
       "<style scoped>\n",
       "    .dataframe tbody tr th:only-of-type {\n",
       "        vertical-align: middle;\n",
       "    }\n",
       "\n",
       "    .dataframe tbody tr th {\n",
       "        vertical-align: top;\n",
       "    }\n",
       "\n",
       "    .dataframe thead th {\n",
       "        text-align: right;\n",
       "    }\n",
       "</style>\n",
       "<table border=\"1\" class=\"dataframe\">\n",
       "  <thead>\n",
       "    <tr style=\"text-align: right;\">\n",
       "      <th></th>\n",
       "      <th>OverallQual</th>\n",
       "      <th>GrLivArea</th>\n",
       "      <th>TotalBsmtSF</th>\n",
       "      <th>GarageCars</th>\n",
       "      <th>1stFlrSF</th>\n",
       "      <th>GarageArea</th>\n",
       "      <th>FullBath</th>\n",
       "      <th>TotRmsAbvGrd</th>\n",
       "      <th>YearBuilt</th>\n",
       "      <th>YearRemodAdd</th>\n",
       "    </tr>\n",
       "  </thead>\n",
       "  <tbody>\n",
       "    <tr>\n",
       "      <th>0</th>\n",
       "      <td>7</td>\n",
       "      <td>1710</td>\n",
       "      <td>856</td>\n",
       "      <td>2</td>\n",
       "      <td>856</td>\n",
       "      <td>548</td>\n",
       "      <td>2</td>\n",
       "      <td>8</td>\n",
       "      <td>2003</td>\n",
       "      <td>2003</td>\n",
       "    </tr>\n",
       "    <tr>\n",
       "      <th>1</th>\n",
       "      <td>6</td>\n",
       "      <td>1262</td>\n",
       "      <td>1262</td>\n",
       "      <td>2</td>\n",
       "      <td>1262</td>\n",
       "      <td>460</td>\n",
       "      <td>2</td>\n",
       "      <td>6</td>\n",
       "      <td>1976</td>\n",
       "      <td>1976</td>\n",
       "    </tr>\n",
       "    <tr>\n",
       "      <th>2</th>\n",
       "      <td>7</td>\n",
       "      <td>1786</td>\n",
       "      <td>920</td>\n",
       "      <td>2</td>\n",
       "      <td>920</td>\n",
       "      <td>608</td>\n",
       "      <td>2</td>\n",
       "      <td>6</td>\n",
       "      <td>2001</td>\n",
       "      <td>2002</td>\n",
       "    </tr>\n",
       "    <tr>\n",
       "      <th>3</th>\n",
       "      <td>7</td>\n",
       "      <td>1717</td>\n",
       "      <td>756</td>\n",
       "      <td>3</td>\n",
       "      <td>961</td>\n",
       "      <td>642</td>\n",
       "      <td>1</td>\n",
       "      <td>7</td>\n",
       "      <td>1915</td>\n",
       "      <td>1970</td>\n",
       "    </tr>\n",
       "    <tr>\n",
       "      <th>4</th>\n",
       "      <td>8</td>\n",
       "      <td>2198</td>\n",
       "      <td>1145</td>\n",
       "      <td>3</td>\n",
       "      <td>1145</td>\n",
       "      <td>836</td>\n",
       "      <td>2</td>\n",
       "      <td>9</td>\n",
       "      <td>2000</td>\n",
       "      <td>2000</td>\n",
       "    </tr>\n",
       "  </tbody>\n",
       "</table>\n",
       "</div>"
      ],
      "text/plain": [
       "   OverallQual  GrLivArea  TotalBsmtSF  GarageCars  1stFlrSF  GarageArea  \\\n",
       "0            7       1710          856           2       856         548   \n",
       "1            6       1262         1262           2      1262         460   \n",
       "2            7       1786          920           2       920         608   \n",
       "3            7       1717          756           3       961         642   \n",
       "4            8       2198         1145           3      1145         836   \n",
       "\n",
       "   FullBath  TotRmsAbvGrd  YearBuilt  YearRemodAdd  \n",
       "0         2             8       2003          2003  \n",
       "1         2             6       1976          1976  \n",
       "2         2             6       2001          2002  \n",
       "3         1             7       1915          1970  \n",
       "4         2             9       2000          2000  "
      ]
     },
     "metadata": {},
     "output_type": "display_data"
    },
    {
     "name": "stdout",
     "output_type": "stream",
     "text": [
      "Your submission was saved!\n"
     ]
    }
   ],
   "source": [
    "y = train_data[\"SalePrice\"]\n",
    "features=[\"OverallQual\", \"GrLivArea\", \"TotalBsmtSF\", \"GarageCars\", \"1stFlrSF\", \"GarageArea\",\n",
    "         \"FullBath\", \"TotRmsAbvGrd\", \"YearBuilt\", \"YearRemodAdd\"]\n",
    "X=pd.get_dummies(train_data[features])\n",
    "X_test = pd.get_dummies(test_data[features])\n",
    "X, X_test = X.align(X_test, join='left', axis=1)\n",
    "\n",
    "display(X.head())\n",
    "\n",
    "X.fillna(value=0, inplace=True)\n",
    "X_test.fillna(value=0, inplace=True)\n",
    "X = scaler.fit_transform(X)\n",
    "X_test = scaler.transform(X_test)\n",
    "\n",
    "model=LinearRegression()\n",
    "model.fit(X,y)\n",
    "predictions=model.predict(X_test)\n",
    "\n",
    "output=pd.DataFrame({'Id': test_data.Id, 'SalePrice': predictions})\n",
    "output.to_csv('my_submission.csv', index=False)\n",
    "print(\"Your submission was saved!\")"
   ]
  },
  {
   "cell_type": "code",
   "execution_count": 23,
   "metadata": {},
   "outputs": [
    {
     "data": {
      "text/plain": [
       "array([[-0.20714171, -0.10854037, -0.03703704, ..., -0.13199092,\n",
       "        -0.16347148, -0.08712888],\n",
       "       [-0.09188637, -0.10854037, -0.03703704, ..., -0.13199092,\n",
       "        -0.16347148, 11.47725023],\n",
       "       [ 0.07347998, -0.10854037, -0.03703704, ..., -0.13199092,\n",
       "        -0.16347148, -0.08712888],\n",
       "       ...,\n",
       "       [-0.14781027, -0.10854037, -0.03703704, ..., -0.13199092,\n",
       "        -0.16347148, -0.08712888],\n",
       "       [-0.08016039, -0.10854037, -0.03703704, ..., -0.13199092,\n",
       "        -0.16347148, -0.08712888],\n",
       "       [-0.05811155, -0.10854037, -0.03703704, ..., -0.13199092,\n",
       "        -0.16347148, -0.08712888]])"
      ]
     },
     "metadata": {},
     "output_type": "display_data"
    }
   ],
   "source": [
    "display(X)"
   ]
  },
  {
   "cell_type": "code",
   "execution_count": null,
   "metadata": {},
   "outputs": [],
   "source": []
  }
 ],
 "metadata": {
  "kernelspec": {
   "display_name": "Python 3",
   "language": "python",
   "name": "python3"
  },
  "language_info": {
   "codemirror_mode": {
    "name": "ipython",
    "version": 3
   },
   "file_extension": ".py",
   "mimetype": "text/x-python",
   "name": "python",
   "nbconvert_exporter": "python",
   "pygments_lexer": "ipython3",
   "version": "3.7.6"
  }
 },
 "nbformat": 4,
 "nbformat_minor": 4
}
